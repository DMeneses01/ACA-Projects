{
 "cells": [
  {
   "cell_type": "code",
   "execution_count": 4,
   "metadata": {},
   "outputs": [],
   "source": [
    "import numpy as np\n",
    "import pandas as pd\n",
    "import os\n",
    "import cv2\n",
    "\n",
    "# Define path to the dataset\n",
    "PATH = \"dataset/\"\n",
    "\n",
    "# Read the training set data\n",
    "train_data = np.load(os.path.join(PATH, \"trainX.npy\"))\n",
    "train_labels = np.load(os.path.join(PATH, \"trainy.npy\"), allow_pickle=True)\n",
    "\n",
    "# Read the test set data\n",
    "test_data = np.load(os.path.join(PATH, \"testX.npy\"))\n",
    "\n",
    "# Read the CSV file containing the image paths and labels\n",
    "train_df = pd.read_csv(os.path.join(PATH, \"train_intel-image-classification-csvdata.csv\"))\n",
    "\n",
    "# Display some sample images from the training set\n",
    "for i in range(5):\n",
    "    img = train_data[i]\n",
    "    label = train_labels[i]\n",
    "    label_name = train_df.loc[label][\"class\"]\n",
    "    cv2.imshow(str(label_name), img)\n",
    "    cv2.waitKey(0)\n",
    "    cv2.destroyAllWindows()"
   ]
  },
  {
   "cell_type": "code",
   "execution_count": null,
   "metadata": {},
   "outputs": [],
   "source": []
  }
 ],
 "metadata": {
  "kernelspec": {
   "display_name": "base",
   "language": "python",
   "name": "python3"
  },
  "language_info": {
   "codemirror_mode": {
    "name": "ipython",
    "version": 3
   },
   "file_extension": ".py",
   "mimetype": "text/x-python",
   "name": "python",
   "nbconvert_exporter": "python",
   "pygments_lexer": "ipython3",
   "version": "3.9.12"
  },
  "orig_nbformat": 4
 },
 "nbformat": 4,
 "nbformat_minor": 2
}
