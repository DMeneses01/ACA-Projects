{
 "cells": [
  {
   "attachments": {},
   "cell_type": "markdown",
   "metadata": {},
   "source": [
    "# Project 1\n",
    "## The Net Wars: Attack of the Bots\n",
    "### Advanced Machine Learning - MECD (2022/2023)\n",
    "\n",
    "### Autores\n",
    "\n",
    "- Duarte Meneses - 2019216949\n",
    "- Patricia Costa - 2019213995"
   ]
  },
  {
   "cell_type": "code",
   "execution_count": 1,
   "metadata": {},
   "outputs": [],
   "source": [
    "import numpy as np\n",
    "import pandas as pd\n",
    "import matplotlib.pyplot as plt\n",
    "import matplotlib\n",
    "import seaborn as sns\n",
    "from sklearn.model_selection import train_test_split\n",
    "from sklearn.metrics import plot_confusion_matrix\n",
    "import warnings\n",
    "warnings.filterwarnings('ignore')\n",
    "# Just to make plots look better\n",
    "plt.rcParams[\"figure.figsize\"] = (10,5)\n",
    "plt.rcParams['axes.grid'] = True\n",
    "plt.style.use('fivethirtyeight')\n",
    "plt.rcParams['figure.facecolor'] = 'white'\n",
    "plt.rcParams['axes.facecolor'] = 'white'\n",
    "plt.rcParams['lines.linewidth'] = 3"
   ]
  },
  {
   "attachments": {},
   "cell_type": "markdown",
   "metadata": {},
   "source": [
    "|Class  |Label |\n",
    "| ----- | ---- | \n",
    "|Normal\t|0     |\n",
    "|Dos\t|1     |\n",
    "|R2L\t|2     |\n",
    "|U2R\t|3     |\n",
    "|Probe\t|4     |"
   ]
  },
  {
   "cell_type": "code",
   "execution_count": 2,
   "metadata": {},
   "outputs": [],
   "source": [
    "PATH_TO_DATA = 'dataset/'\n",
    "\n",
    "test_students = pd.read_csv(PATH_TO_DATA + 'test_students.csv')\n",
    "SampleID = test_students['SampleID']\n",
    "\n",
    "train_students = pd.read_csv(PATH_TO_DATA + 'train_students.csv')\n"
   ]
  },
  {
   "cell_type": "code",
   "execution_count": 3,
   "metadata": {},
   "outputs": [],
   "source": [
    "test_students = test_students.drop('SampleID', axis=1)"
   ]
  },
  {
   "attachments": {},
   "cell_type": "markdown",
   "metadata": {},
   "source": [
    "### Check Nulls and DataType"
   ]
  },
  {
   "cell_type": "code",
   "execution_count": 4,
   "metadata": {},
   "outputs": [
    {
     "name": "stdout",
     "output_type": "stream",
     "text": [
      "<class 'pandas.core.frame.DataFrame'>\n",
      "RangeIndex: 44556 entries, 0 to 44555\n",
      "Data columns (total 41 columns):\n",
      " #   Column                       Non-Null Count  Dtype  \n",
      "---  ------                       --------------  -----  \n",
      " 0   duration                     44556 non-null  int64  \n",
      " 1   protocol_type                44556 non-null  object \n",
      " 2   service                      44556 non-null  object \n",
      " 3   flag                         44556 non-null  object \n",
      " 4   src_bytes                    44556 non-null  int64  \n",
      " 5   dst_bytes                    44556 non-null  int64  \n",
      " 6   land                         44556 non-null  int64  \n",
      " 7   wrong_fragment               44556 non-null  int64  \n",
      " 8   urgent                       44556 non-null  int64  \n",
      " 9   hot                          44556 non-null  int64  \n",
      " 10  num_failed_logins            44556 non-null  int64  \n",
      " 11  logged_in                    44556 non-null  int64  \n",
      " 12  num_compromised              44556 non-null  int64  \n",
      " 13  root_shell                   44556 non-null  int64  \n",
      " 14  su_attempted                 44556 non-null  int64  \n",
      " 15  num_root                     44556 non-null  int64  \n",
      " 16  num_file_creations           44556 non-null  int64  \n",
      " 17  num_shells                   44556 non-null  int64  \n",
      " 18  num_access_files             44556 non-null  int64  \n",
      " 19  num_outbound_cmds            44556 non-null  int64  \n",
      " 20  is_host_login                44556 non-null  int64  \n",
      " 21  is_guest_login               44556 non-null  int64  \n",
      " 22  count                        44556 non-null  int64  \n",
      " 23  srv_count                    44556 non-null  int64  \n",
      " 24  serror_rate                  44556 non-null  float64\n",
      " 25  srv_serror_rate              44556 non-null  float64\n",
      " 26  rerror_rate                  44556 non-null  float64\n",
      " 27  srv_rerror_rate              44556 non-null  float64\n",
      " 28  same_srv_rate                44556 non-null  float64\n",
      " 29  diff_srv_rate                44556 non-null  float64\n",
      " 30  srv_diff_host_rate           44556 non-null  float64\n",
      " 31  dst_host_count               44556 non-null  int64  \n",
      " 32  dst_host_srv_count           44556 non-null  int64  \n",
      " 33  dst_host_same_srv_rate       44556 non-null  float64\n",
      " 34  dst_host_diff_srv_rate       44556 non-null  float64\n",
      " 35  dst_host_same_src_port_rate  44556 non-null  float64\n",
      " 36  dst_host_srv_diff_host_rate  44556 non-null  float64\n",
      " 37  dst_host_serror_rate         44556 non-null  float64\n",
      " 38  dst_host_srv_serror_rate     44556 non-null  float64\n",
      " 39  dst_host_rerror_rate         44556 non-null  float64\n",
      " 40  dst_host_srv_rerror_rate     44556 non-null  float64\n",
      "dtypes: float64(15), int64(23), object(3)\n",
      "memory usage: 13.9+ MB\n",
      "None\n",
      "<class 'pandas.core.frame.DataFrame'>\n",
      "RangeIndex: 103961 entries, 0 to 103960\n",
      "Data columns (total 42 columns):\n",
      " #   Column                       Non-Null Count   Dtype  \n",
      "---  ------                       --------------   -----  \n",
      " 0   duration                     103961 non-null  int64  \n",
      " 1   protocol_type                103961 non-null  object \n",
      " 2   service                      103961 non-null  object \n",
      " 3   flag                         103961 non-null  object \n",
      " 4   src_bytes                    103961 non-null  int64  \n",
      " 5   dst_bytes                    103961 non-null  int64  \n",
      " 6   land                         103961 non-null  int64  \n",
      " 7   wrong_fragment               103961 non-null  int64  \n",
      " 8   urgent                       103961 non-null  int64  \n",
      " 9   hot                          103961 non-null  int64  \n",
      " 10  num_failed_logins            103961 non-null  int64  \n",
      " 11  logged_in                    103961 non-null  int64  \n",
      " 12  num_compromised              103961 non-null  int64  \n",
      " 13  root_shell                   103961 non-null  int64  \n",
      " 14  su_attempted                 103961 non-null  int64  \n",
      " 15  num_root                     103961 non-null  int64  \n",
      " 16  num_file_creations           103961 non-null  int64  \n",
      " 17  num_shells                   103961 non-null  int64  \n",
      " 18  num_access_files             103961 non-null  int64  \n",
      " 19  num_outbound_cmds            103961 non-null  int64  \n",
      " 20  is_host_login                103961 non-null  int64  \n",
      " 21  is_guest_login               103961 non-null  int64  \n",
      " 22  count                        103961 non-null  int64  \n",
      " 23  srv_count                    103961 non-null  int64  \n",
      " 24  serror_rate                  103961 non-null  float64\n",
      " 25  srv_serror_rate              103961 non-null  float64\n",
      " 26  rerror_rate                  103961 non-null  float64\n",
      " 27  srv_rerror_rate              103961 non-null  float64\n",
      " 28  same_srv_rate                103961 non-null  float64\n",
      " 29  diff_srv_rate                103961 non-null  float64\n",
      " 30  srv_diff_host_rate           103961 non-null  float64\n",
      " 31  dst_host_count               103961 non-null  int64  \n",
      " 32  dst_host_srv_count           103961 non-null  int64  \n",
      " 33  dst_host_same_srv_rate       103961 non-null  float64\n",
      " 34  dst_host_diff_srv_rate       103961 non-null  float64\n",
      " 35  dst_host_same_src_port_rate  103961 non-null  float64\n",
      " 36  dst_host_srv_diff_host_rate  103961 non-null  float64\n",
      " 37  dst_host_serror_rate         103961 non-null  float64\n",
      " 38  dst_host_srv_serror_rate     103961 non-null  float64\n",
      " 39  dst_host_rerror_rate         103961 non-null  float64\n",
      " 40  dst_host_srv_rerror_rate     103961 non-null  float64\n",
      " 41  attack_type                  103961 non-null  object \n",
      "dtypes: float64(15), int64(23), object(4)\n",
      "memory usage: 33.3+ MB\n",
      "None\n"
     ]
    }
   ],
   "source": [
    "print(test_students.info())\n",
    "print(train_students.info())"
   ]
  },
  {
   "cell_type": "code",
   "execution_count": 5,
   "metadata": {},
   "outputs": [],
   "source": [
    "train_students.replace('normal', 0, inplace=True)\n",
    "train_students.replace('Dos', 1, inplace=True)\n",
    "train_students.replace('R2L', 2, inplace=True)\n",
    "train_students.replace('U2R', 3, inplace=True)\n",
    "train_students.replace('Probe', 4, inplace=True)"
   ]
  },
  {
   "cell_type": "code",
   "execution_count": 6,
   "metadata": {},
   "outputs": [
    {
     "data": {
      "text/plain": [
       "0    0.518964\n",
       "1    0.358846\n",
       "4    0.095545\n",
       "2    0.025808\n",
       "3    0.000837\n",
       "Name: attack_type, dtype: float64"
      ]
     },
     "execution_count": 6,
     "metadata": {},
     "output_type": "execute_result"
    }
   ],
   "source": [
    "train_students['attack_type'].value_counts(normalize = True)"
   ]
  },
  {
   "cell_type": "code",
   "execution_count": 7,
   "metadata": {},
   "outputs": [],
   "source": [
    "target = train_students['attack_type']\n",
    "train_students = train_students.drop(columns=['attack_type'], axis=1)"
   ]
  },
  {
   "attachments": {},
   "cell_type": "markdown",
   "metadata": {},
   "source": [
    "### Categorical"
   ]
  },
  {
   "cell_type": "code",
   "execution_count": 8,
   "metadata": {},
   "outputs": [],
   "source": [
    "from sklearn.preprocessing import StandardScaler\n",
    "\n",
    "train_students = train_students.drop('service', axis=1)\n",
    "test_students = test_students.drop('service', axis=1)\n",
    "\n",
    "k = 1.5 #limiar habitual\n",
    "\n",
    "for c in train_students.columns:\n",
    "    if(train_students[c].dtype != 'object'):\n",
    "        k = 1.5\n",
    "        quantil = train_students[c].quantile([0.25,0.75])\n",
    "        iqr = quantil[0.75] - quantil[0.25]\n",
    "        limite = [quantil[0.25] - k*iqr, quantil[0.75] + k*iqr]\n",
    "\n",
    "        train_students.loc[(train_students[c] < limite[0]) | (train_students[c] > limite[1]), c] = train_students[c].mean()\n",
    "'''\n",
    "for col in train_students.columns:\n",
    "    if train_students[col].dtype != 'object':\n",
    "        train = np.array(train_students[col]).reshape(-1, 1)\n",
    "        scaler = StandardScaler()\n",
    "        train_students[col] = scaler.fit_transform(train)\n",
    "\n",
    "for col in test_students.columns:\n",
    "    if test_students[col].dtype != 'object':\n",
    "        test = np.array(test_students[col]).reshape(-1, 1)\n",
    "        scaler = StandardScaler()\n",
    "        test_students[col] = scaler.fit_transform(test)\n",
    "\n",
    "\n",
    "encoder_1 = LabelEncoder()\n",
    "# Fit the encoder on the data\n",
    "encoder_1.fit(train_students[\"protocol_type\"])\n",
    "\n",
    "# Transform and replace training data\n",
    "training_sex_encoded = encoder_1.transform(train_students[\"protocol_type\"])\n",
    "train_students[\"protocol_type\"] = training_sex_encoded\n",
    "test_sex_encoded = encoder_1.transform(test_students[\"protocol_type\"])\n",
    "test_students[\"protocol_type\"] = test_sex_encoded\n",
    "\n",
    "encoder_2 = LabelEncoder()\n",
    "encoder_2.fit(train_students[\"flag\"])\n",
    "\n",
    "training_embarked_encoded = encoder_2.transform(train_students[\"flag\"])\n",
    "train_students[\"flag\"] = training_embarked_encoded\n",
    "testing_embarked_encoded = encoder_2.transform(test_students[\"flag\"])\n",
    "test_students[\"flag\"] = testing_embarked_encoded\n",
    "'''\n",
    "\n",
    "train_students = pd.get_dummies(train_students, columns=['protocol_type'], drop_first=True)\n",
    "#train_students = train_students.drop('service', axis=1)\n",
    "#train_students = pd.get_dummies(train_students, columns=['service'], drop_first=True)\n",
    "train_students= pd.get_dummies(train_students, columns=['flag'], drop_first=True)\n",
    "\n",
    "test_students = pd.get_dummies(test_students, columns=['protocol_type'], drop_first=True)\n",
    "#test_students = test_students.drop('service', axis=1)\n",
    "#test_students = pd.get_dummies(test_students, columns=['service'], drop_first=True)\n",
    "test_students= pd.get_dummies(test_students, columns=['flag'], drop_first=True)\n"
   ]
  },
  {
   "attachments": {},
   "cell_type": "markdown",
   "metadata": {},
   "source": [
    "### Target"
   ]
  },
  {
   "cell_type": "code",
   "execution_count": 9,
   "metadata": {},
   "outputs": [],
   "source": [
    "y = target\n",
    "X = train_students"
   ]
  },
  {
   "cell_type": "code",
   "execution_count": 10,
   "metadata": {},
   "outputs": [
    {
     "data": {
      "image/png": "[encoded data removed]",
      "text/plain": [
       "<Figure size 720x360 with 2 Axes>"
      ]
     },
     "metadata": {},
     "output_type": "display_data"
    }
   ],
   "source": [
    "from sklearn.ensemble import RandomForestClassifier\n",
    "from imblearn.over_sampling import SMOTE\n",
    "\n",
    "oversample = SMOTE(random_state=42)\n",
    "over_X, over_y = oversample.fit_resample(X, y)\n",
    "over_X_train, over_X_test, over_y_train, over_y_test = train_test_split(over_X, over_y, test_size=0.2, stratify=over_y, random_state=42)\n",
    "\n",
    "SMOTE_SRF = RandomForestClassifier(n_estimators=150, random_state=42)\n",
    "\n",
    "X_train, X_test, y_train, y_test = train_test_split(X, y, test_size=0.2, stratify=y, random_state=42)\n",
    "\n",
    "SMOTE_SRF.fit(over_X_train, over_y_train)\n",
    "\n",
    "y_pred = SMOTE_SRF.predict(X_test)\n",
    "\n",
    "fig = plot_confusion_matrix(SMOTE_SRF, X_test, y_test, cmap='Blues')\n",
    "plt.title('SMOTE + Standard Random Forest Confusion Matrix')\n",
    "plt.show()"
   ]
  },
  {
   "attachments": {},
   "cell_type": "markdown",
   "metadata": {},
   "source": [
    "### Todos os modelos"
   ]
  },
  {
   "cell_type": "code",
   "execution_count": 11,
   "metadata": {},
   "outputs": [
    {
     "name": "stdout",
     "output_type": "stream",
     "text": [
      "              precision    recall  f1-score   support\n",
      "\n",
      "           0       1.00      0.99      1.00     10791\n",
      "           1       1.00      1.00      1.00      7461\n",
      "           2       0.94      0.99      0.96       537\n",
      "           3       0.94      1.00      0.97        17\n",
      "           4       0.99      1.00      0.99      1987\n",
      "\n",
      "    accuracy                           1.00     20793\n",
      "   macro avg       0.97      1.00      0.98     20793\n",
      "weighted avg       1.00      1.00      1.00     20793\n",
      "\n",
      "=========================================\n"
     ]
    }
   ],
   "source": [
    "from sklearn.metrics import classification_report\n",
    "\n",
    "print(classification_report(y_test, y_pred))\n",
    "print('=========================================')"
   ]
  },
  {
   "attachments": {},
   "cell_type": "markdown",
   "metadata": {},
   "source": [
    "### O melhor"
   ]
  },
  {
   "cell_type": "code",
   "execution_count": 12,
   "metadata": {},
   "outputs": [],
   "source": [
    "SMOTE_SRF.fit(over_X_train, over_y_train)\n",
    "\n",
    "y_pred = SMOTE_SRF.predict(test_students)"
   ]
  },
  {
   "cell_type": "code",
   "execution_count": 13,
   "metadata": {},
   "outputs": [
    {
     "name": "stdout",
     "output_type": "stream",
     "text": [
      "       SampleID  Class\n",
      "0             0      0\n",
      "1             1      0\n",
      "2             2      0\n",
      "3             3      0\n",
      "4             4      1\n",
      "...         ...    ...\n",
      "44551     44551      0\n",
      "44552     44552      1\n",
      "44553     44553      1\n",
      "44554     44554      0\n",
      "44555     44555      0\n",
      "\n",
      "[44556 rows x 2 columns]\n"
     ]
    }
   ],
   "source": [
    "submission = pd.DataFrame({'SampleID': SampleID, 'Class': y_pred})\n",
    "print(submission)\n",
    "submission.to_csv('submission_best_outliers.csv', index=False)"
   ]
  },
  {
   "cell_type": "code",
   "execution_count": null,
   "metadata": {},
   "outputs": [],
   "source": []
  }
 ],
 "metadata": {
  "kernelspec": {
   "display_name": "base",
   "language": "python",
   "name": "python3"
  },
  "language_info": {
   "codemirror_mode": {
    "name": "ipython",
    "version": 3
   },
   "file_extension": ".py",
   "mimetype": "text/x-python",
   "name": "python",
   "nbconvert_exporter": "python",
   "pygments_lexer": "ipython3",
   "version": "3.9.12"
  },
  "orig_nbformat": 4
 },
 "nbformat": 4,
 "nbformat_minor": 2
}
