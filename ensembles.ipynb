{
 "cells": [
  {
   "attachments": {},
   "cell_type": "markdown",
   "metadata": {},
   "source": [
    "# Project 1\n",
    "## The Net Wars: Attack of the Bots\n",
    "### Advanced Machine Learning - MECD (2022/2023)\n",
    "\n",
    "### Autores\n",
    "\n",
    "- Duarte Meneses - 2019216949\n",
    "- Patricia Costa - 2019213995"
   ]
  },
  {
   "cell_type": "code",
   "execution_count": 155,
   "metadata": {},
   "outputs": [],
   "source": [
    "import numpy as np\n",
    "import pandas as pd\n",
    "import matplotlib.pyplot as plt\n",
    "import matplotlib\n",
    "import seaborn as sns\n",
    "# Just to make plots look better\n",
    "plt.rcParams[\"figure.figsize\"] = (10,5)\n",
    "plt.rcParams['axes.grid'] = True\n",
    "plt.style.use('fivethirtyeight')\n",
    "plt.rcParams['figure.facecolor'] = 'white'\n",
    "plt.rcParams['axes.facecolor'] = 'white'\n",
    "plt.rcParams['lines.linewidth'] = 3"
   ]
  },
  {
   "attachments": {},
   "cell_type": "markdown",
   "metadata": {},
   "source": [
    "|Class  |Label |\n",
    "| ----- | ---- | \n",
    "|Normal\t|0     |\n",
    "|Dos\t|1     |\n",
    "|R2L\t|2     |\n",
    "|U2R\t|3     |\n",
    "|Probe\t|4     |"
   ]
  },
  {
   "cell_type": "code",
   "execution_count": 156,
   "metadata": {},
   "outputs": [],
   "source": [
    "PATH_TO_DATA = 'dataset/'\n",
    "\n",
    "test_students = pd.read_csv(PATH_TO_DATA + 'test_students.csv')\n",
    "SampleID = test_students['SampleID']\n",
    "\n",
    "train_students = pd.read_csv(PATH_TO_DATA + 'train_students.csv')\n"
   ]
  },
  {
   "cell_type": "code",
   "execution_count": 157,
   "metadata": {},
   "outputs": [],
   "source": [
    "test_students = test_students.drop('SampleID', axis=1)"
   ]
  },
  {
   "attachments": {},
   "cell_type": "markdown",
   "metadata": {},
   "source": [
    "### Check Nulls and DataType"
   ]
  },
  {
   "cell_type": "code",
   "execution_count": 158,
   "metadata": {},
   "outputs": [
    {
     "name": "stdout",
     "output_type": "stream",
     "text": [
      "<class 'pandas.core.frame.DataFrame'>\n",
      "RangeIndex: 44556 entries, 0 to 44555\n",
      "Data columns (total 41 columns):\n",
      " #   Column                       Non-Null Count  Dtype  \n",
      "---  ------                       --------------  -----  \n",
      " 0   duration                     44556 non-null  int64  \n",
      " 1   protocol_type                44556 non-null  object \n",
      " 2   service                      44556 non-null  object \n",
      " 3   flag                         44556 non-null  object \n",
      " 4   src_bytes                    44556 non-null  int64  \n",
      " 5   dst_bytes                    44556 non-null  int64  \n",
      " 6   land                         44556 non-null  int64  \n",
      " 7   wrong_fragment               44556 non-null  int64  \n",
      " 8   urgent                       44556 non-null  int64  \n",
      " 9   hot                          44556 non-null  int64  \n",
      " 10  num_failed_logins            44556 non-null  int64  \n",
      " 11  logged_in                    44556 non-null  int64  \n",
      " 12  num_compromised              44556 non-null  int64  \n",
      " 13  root_shell                   44556 non-null  int64  \n",
      " 14  su_attempted                 44556 non-null  int64  \n",
      " 15  num_root                     44556 non-null  int64  \n",
      " 16  num_file_creations           44556 non-null  int64  \n",
      " 17  num_shells                   44556 non-null  int64  \n",
      " 18  num_access_files             44556 non-null  int64  \n",
      " 19  num_outbound_cmds            44556 non-null  int64  \n",
      " 20  is_host_login                44556 non-null  int64  \n",
      " 21  is_guest_login               44556 non-null  int64  \n",
      " 22  count                        44556 non-null  int64  \n",
      " 23  srv_count                    44556 non-null  int64  \n",
      " 24  serror_rate                  44556 non-null  float64\n",
      " 25  srv_serror_rate              44556 non-null  float64\n",
      " 26  rerror_rate                  44556 non-null  float64\n",
      " 27  srv_rerror_rate              44556 non-null  float64\n",
      " 28  same_srv_rate                44556 non-null  float64\n",
      " 29  diff_srv_rate                44556 non-null  float64\n",
      " 30  srv_diff_host_rate           44556 non-null  float64\n",
      " 31  dst_host_count               44556 non-null  int64  \n",
      " 32  dst_host_srv_count           44556 non-null  int64  \n",
      " 33  dst_host_same_srv_rate       44556 non-null  float64\n",
      " 34  dst_host_diff_srv_rate       44556 non-null  float64\n",
      " 35  dst_host_same_src_port_rate  44556 non-null  float64\n",
      " 36  dst_host_srv_diff_host_rate  44556 non-null  float64\n",
      " 37  dst_host_serror_rate         44556 non-null  float64\n",
      " 38  dst_host_srv_serror_rate     44556 non-null  float64\n",
      " 39  dst_host_rerror_rate         44556 non-null  float64\n",
      " 40  dst_host_srv_rerror_rate     44556 non-null  float64\n",
      "dtypes: float64(15), int64(23), object(3)\n",
      "memory usage: 13.9+ MB\n",
      "None\n",
      "<class 'pandas.core.frame.DataFrame'>\n",
      "RangeIndex: 103961 entries, 0 to 103960\n",
      "Data columns (total 42 columns):\n",
      " #   Column                       Non-Null Count   Dtype  \n",
      "---  ------                       --------------   -----  \n",
      " 0   duration                     103961 non-null  int64  \n",
      " 1   protocol_type                103961 non-null  object \n",
      " 2   service                      103961 non-null  object \n",
      " 3   flag                         103961 non-null  object \n",
      " 4   src_bytes                    103961 non-null  int64  \n",
      " 5   dst_bytes                    103961 non-null  int64  \n",
      " 6   land                         103961 non-null  int64  \n",
      " 7   wrong_fragment               103961 non-null  int64  \n",
      " 8   urgent                       103961 non-null  int64  \n",
      " 9   hot                          103961 non-null  int64  \n",
      " 10  num_failed_logins            103961 non-null  int64  \n",
      " 11  logged_in                    103961 non-null  int64  \n",
      " 12  num_compromised              103961 non-null  int64  \n",
      " 13  root_shell                   103961 non-null  int64  \n",
      " 14  su_attempted                 103961 non-null  int64  \n",
      " 15  num_root                     103961 non-null  int64  \n",
      " 16  num_file_creations           103961 non-null  int64  \n",
      " 17  num_shells                   103961 non-null  int64  \n",
      " 18  num_access_files             103961 non-null  int64  \n",
      " 19  num_outbound_cmds            103961 non-null  int64  \n",
      " 20  is_host_login                103961 non-null  int64  \n",
      " 21  is_guest_login               103961 non-null  int64  \n",
      " 22  count                        103961 non-null  int64  \n",
      " 23  srv_count                    103961 non-null  int64  \n",
      " 24  serror_rate                  103961 non-null  float64\n",
      " 25  srv_serror_rate              103961 non-null  float64\n",
      " 26  rerror_rate                  103961 non-null  float64\n",
      " 27  srv_rerror_rate              103961 non-null  float64\n",
      " 28  same_srv_rate                103961 non-null  float64\n",
      " 29  diff_srv_rate                103961 non-null  float64\n",
      " 30  srv_diff_host_rate           103961 non-null  float64\n",
      " 31  dst_host_count               103961 non-null  int64  \n",
      " 32  dst_host_srv_count           103961 non-null  int64  \n",
      " 33  dst_host_same_srv_rate       103961 non-null  float64\n",
      " 34  dst_host_diff_srv_rate       103961 non-null  float64\n",
      " 35  dst_host_same_src_port_rate  103961 non-null  float64\n",
      " 36  dst_host_srv_diff_host_rate  103961 non-null  float64\n",
      " 37  dst_host_serror_rate         103961 non-null  float64\n",
      " 38  dst_host_srv_serror_rate     103961 non-null  float64\n",
      " 39  dst_host_rerror_rate         103961 non-null  float64\n",
      " 40  dst_host_srv_rerror_rate     103961 non-null  float64\n",
      " 41  attack_type                  103961 non-null  object \n",
      "dtypes: float64(15), int64(23), object(4)\n",
      "memory usage: 33.3+ MB\n",
      "None\n"
     ]
    }
   ],
   "source": [
    "print(test_students.info())\n",
    "print(train_students.info())"
   ]
  },
  {
   "attachments": {},
   "cell_type": "markdown",
   "metadata": {},
   "source": [
    "O service do train_students tem mais um tipo que no test_students. Acabei por tirar para facilitar"
   ]
  },
  {
   "attachments": {},
   "cell_type": "markdown",
   "metadata": {},
   "source": [
    "### Correct possible outliers"
   ]
  },
  {
   "cell_type": "code",
   "execution_count": 159,
   "metadata": {},
   "outputs": [
    {
     "data": {
      "text/plain": [
       "<AxesSubplot:>"
      ]
     },
     "execution_count": 159,
     "metadata": {},
     "output_type": "execute_result"
    },
    {
     "data": {
      "image/png": "[encoded data removed]",
      "text/plain": [
       "<Figure size 720x360 with 1 Axes>"
      ]
     },
     "metadata": {},
     "output_type": "display_data"
    }
   ],
   "source": [
    "num_ts = train_students.select_dtypes(include=np.number)\n",
    "\n",
    "train_students[num_ts.columns[14]].hist()"
   ]
  },
  {
   "attachments": {},
   "cell_type": "markdown",
   "metadata": {},
   "source": [
    "As features não são seguem uma distribuição normal. Deste modo, o melhor método para detetar outliers é o IQR"
   ]
  },
  {
   "cell_type": "code",
   "execution_count": 160,
   "metadata": {},
   "outputs": [
    {
     "data": {
      "text/plain": [
       "Series([], Name: duration, dtype: int64)"
      ]
     },
     "metadata": {},
     "output_type": "display_data"
    },
    {
     "data": {
      "text/plain": [
       "0            1\n",
       "12        9592\n",
       "19        1261\n",
       "28          26\n",
       "35         281\n",
       "          ... \n",
       "103923    2646\n",
       "103947       2\n",
       "103952       5\n",
       "103953       1\n",
       "103959      50\n",
       "Name: duration, Length: 9369, dtype: int64"
      ]
     },
     "metadata": {},
     "output_type": "display_data"
    },
    {
     "data": {
      "text/plain": [
       "Series([], Name: src_bytes, dtype: int64)"
      ]
     },
     "metadata": {},
     "output_type": "display_data"
    },
    {
     "data": {
      "text/plain": [
       "0            2599\n",
       "7             870\n",
       "18          54540\n",
       "20           1030\n",
       "42           1331\n",
       "           ...   \n",
       "103894    5133876\n",
       "103931       2593\n",
       "103944        834\n",
       "103952        908\n",
       "103953       2599\n",
       "Name: src_bytes, Length: 11467, dtype: int64"
      ]
     },
     "metadata": {},
     "output_type": "display_data"
    },
    {
     "data": {
      "text/plain": [
       "Series([], Name: dst_bytes, dtype: int64)"
      ]
     },
     "metadata": {},
     "output_type": "display_data"
    },
    {
     "data": {
      "text/plain": [
       "2          13254\n",
       "3           1582\n",
       "5           1810\n",
       "18          8314\n",
       "19        219837\n",
       "           ...  \n",
       "103941     13343\n",
       "103946      1512\n",
       "103949      1469\n",
       "103955      2698\n",
       "103959      2615\n",
       "Name: dst_bytes, Length: 18322, dtype: int64"
      ]
     },
     "metadata": {},
     "output_type": "display_data"
    },
    {
     "data": {
      "text/plain": [
       "Series([], Name: land, dtype: int64)"
      ]
     },
     "metadata": {},
     "output_type": "display_data"
    },
    {
     "data": {
      "text/plain": [
       "274      1\n",
       "2176     1\n",
       "3032     1\n",
       "8981     1\n",
       "10238    1\n",
       "13905    1\n",
       "27651    1\n",
       "41819    1\n",
       "42699    1\n",
       "44930    1\n",
       "52626    1\n",
       "57226    1\n",
       "65051    1\n",
       "73262    1\n",
       "79124    1\n",
       "86400    1\n",
       "87158    1\n",
       "Name: land, dtype: int64"
      ]
     },
     "metadata": {},
     "output_type": "display_data"
    },
    {
     "data": {
      "text/plain": [
       "Series([], Name: wrong_fragment, dtype: int64)"
      ]
     },
     "metadata": {},
     "output_type": "display_data"
    },
    {
     "data": {
      "text/plain": [
       "32        3\n",
       "51        3\n",
       "99        3\n",
       "177       3\n",
       "371       3\n",
       "         ..\n",
       "103285    3\n",
       "103326    3\n",
       "103595    3\n",
       "103816    3\n",
       "103934    3\n",
       "Name: wrong_fragment, Length: 831, dtype: int64"
      ]
     },
     "metadata": {},
     "output_type": "display_data"
    },
    {
     "data": {
      "text/plain": [
       "Series([], Name: urgent, dtype: int64)"
      ]
     },
     "metadata": {},
     "output_type": "display_data"
    },
    {
     "data": {
      "text/plain": [
       "7939     1\n",
       "10682    1\n",
       "31465    1\n",
       "34971    1\n",
       "51467    1\n",
       "52312    1\n",
       "58625    2\n",
       "64092    1\n",
       "78025    3\n",
       "85783    2\n",
       "86357    2\n",
       "86604    2\n",
       "Name: urgent, dtype: int64"
      ]
     },
     "metadata": {},
     "output_type": "display_data"
    },
    {
     "data": {
      "text/plain": [
       "Series([], Name: hot, dtype: int64)"
      ]
     },
     "metadata": {},
     "output_type": "display_data"
    },
    {
     "data": {
      "text/plain": [
       "18        2\n",
       "28        6\n",
       "35        2\n",
       "90        2\n",
       "108       2\n",
       "         ..\n",
       "103828    2\n",
       "103865    6\n",
       "103873    2\n",
       "103894    5\n",
       "103959    1\n",
       "Name: hot, Length: 2558, dtype: int64"
      ]
     },
     "metadata": {},
     "output_type": "display_data"
    },
    {
     "data": {
      "text/plain": [
       "Series([], Name: num_failed_logins, dtype: int64)"
      ]
     },
     "metadata": {},
     "output_type": "display_data"
    },
    {
     "data": {
      "text/plain": [
       "132       3\n",
       "147       1\n",
       "207       1\n",
       "228       1\n",
       "250       1\n",
       "         ..\n",
       "101248    1\n",
       "101255    1\n",
       "101476    1\n",
       "103210    1\n",
       "103427    1\n",
       "Name: num_failed_logins, Length: 408, dtype: int64"
      ]
     },
     "metadata": {},
     "output_type": "display_data"
    },
    {
     "data": {
      "text/plain": [
       "Series([], Name: logged_in, dtype: int64)"
      ]
     },
     "metadata": {},
     "output_type": "display_data"
    },
    {
     "data": {
      "text/plain": [
       "Series([], Name: logged_in, dtype: int64)"
      ]
     },
     "metadata": {},
     "output_type": "display_data"
    },
    {
     "data": {
      "text/plain": [
       "Series([], Name: num_compromised, dtype: int64)"
      ]
     },
     "metadata": {},
     "output_type": "display_data"
    },
    {
     "data": {
      "text/plain": [
       "18        1\n",
       "19        2\n",
       "90        1\n",
       "277       1\n",
       "315       1\n",
       "         ..\n",
       "103777    4\n",
       "103785    1\n",
       "103828    1\n",
       "103873    1\n",
       "103913    2\n",
       "Name: num_compromised, Length: 1139, dtype: int64"
      ]
     },
     "metadata": {},
     "output_type": "display_data"
    },
    {
     "data": {
      "text/plain": [
       "Series([], Name: root_shell, dtype: int64)"
      ]
     },
     "metadata": {},
     "output_type": "display_data"
    },
    {
     "data": {
      "text/plain": [
       "19        1\n",
       "3354      1\n",
       "3644      1\n",
       "5597      1\n",
       "6946      1\n",
       "         ..\n",
       "96524     1\n",
       "99446     1\n",
       "99752     1\n",
       "102511    1\n",
       "103959    1\n",
       "Name: root_shell, Length: 155, dtype: int64"
      ]
     },
     "metadata": {},
     "output_type": "display_data"
    },
    {
     "data": {
      "text/plain": [
       "Series([], Name: su_attempted, dtype: int64)"
      ]
     },
     "metadata": {},
     "output_type": "display_data"
    },
    {
     "data": {
      "text/plain": [
       "19        2\n",
       "3354      2\n",
       "7045      2\n",
       "7327      2\n",
       "7956      1\n",
       "12235     1\n",
       "14588     2\n",
       "15925     1\n",
       "17340     1\n",
       "17722     2\n",
       "19094     2\n",
       "20003     2\n",
       "23415     2\n",
       "24764     2\n",
       "26812     2\n",
       "28832     2\n",
       "31465     2\n",
       "38265     2\n",
       "40467     1\n",
       "42921     1\n",
       "45605     2\n",
       "46234     2\n",
       "46512     1\n",
       "48800     2\n",
       "52237     2\n",
       "56705     2\n",
       "57052     2\n",
       "58625     2\n",
       "61055     2\n",
       "61615     1\n",
       "62029     1\n",
       "64147     2\n",
       "66104     1\n",
       "66382     2\n",
       "66686     2\n",
       "67095     2\n",
       "67557     2\n",
       "69916     1\n",
       "70878     2\n",
       "72074     1\n",
       "74984     2\n",
       "75412     2\n",
       "76976     2\n",
       "78156     1\n",
       "83197     1\n",
       "83536     2\n",
       "84846     2\n",
       "85358     2\n",
       "85368     2\n",
       "86240     2\n",
       "88097     2\n",
       "88187     2\n",
       "88285     1\n",
       "96524     2\n",
       "99752     2\n",
       "102511    2\n",
       "Name: su_attempted, dtype: int64"
      ]
     },
     "metadata": {},
     "output_type": "display_data"
    },
    {
     "data": {
      "text/plain": [
       "Series([], Name: num_root, dtype: int64)"
      ]
     },
     "metadata": {},
     "output_type": "display_data"
    },
    {
     "data": {
      "text/plain": [
       "19        4\n",
       "475       1\n",
       "817       1\n",
       "847       1\n",
       "1181      1\n",
       "         ..\n",
       "103599    1\n",
       "103834    1\n",
       "103847    6\n",
       "103920    1\n",
       "103959    5\n",
       "Name: num_root, Length: 478, dtype: int64"
      ]
     },
     "metadata": {},
     "output_type": "display_data"
    },
    {
     "data": {
      "text/plain": [
       "Series([], Name: num_file_creations, dtype: int64)"
      ]
     },
     "metadata": {},
     "output_type": "display_data"
    },
    {
     "data": {
      "text/plain": [
       "19         1\n",
       "42         1\n",
       "290        2\n",
       "1838       2\n",
       "2939       1\n",
       "          ..\n",
       "100508    18\n",
       "102511     9\n",
       "102957    17\n",
       "103777    20\n",
       "103959     1\n",
       "Name: num_file_creations, Length: 234, dtype: int64"
      ]
     },
     "metadata": {},
     "output_type": "display_data"
    },
    {
     "data": {
      "text/plain": [
       "Series([], Name: num_shells, dtype: int64)"
      ]
     },
     "metadata": {},
     "output_type": "display_data"
    },
    {
     "data": {
      "text/plain": [
       "1829      1\n",
       "2479      1\n",
       "3589      1\n",
       "5239      1\n",
       "5872      1\n",
       "7079      1\n",
       "8341      1\n",
       "10021     1\n",
       "14340     1\n",
       "17020     1\n",
       "23123     1\n",
       "30206     2\n",
       "31135     1\n",
       "31497     1\n",
       "31722     1\n",
       "32503     2\n",
       "33405     1\n",
       "34617     2\n",
       "34653     1\n",
       "34751     1\n",
       "41843     1\n",
       "42823     1\n",
       "44290     1\n",
       "50043     1\n",
       "50511     1\n",
       "51467     1\n",
       "53052     1\n",
       "54015     1\n",
       "59231     1\n",
       "59445     1\n",
       "63914     1\n",
       "65386     1\n",
       "66834     1\n",
       "67274     1\n",
       "68521     1\n",
       "75793     2\n",
       "78156     1\n",
       "79205     1\n",
       "80279     1\n",
       "84005     1\n",
       "85067     1\n",
       "88745     1\n",
       "89930     2\n",
       "93595     1\n",
       "96374     1\n",
       "99944     1\n",
       "103959    1\n",
       "Name: num_shells, dtype: int64"
      ]
     },
     "metadata": {},
     "output_type": "display_data"
    },
    {
     "data": {
      "text/plain": [
       "Series([], Name: num_access_files, dtype: int64)"
      ]
     },
     "metadata": {},
     "output_type": "display_data"
    },
    {
     "data": {
      "text/plain": [
       "203       1\n",
       "786       2\n",
       "1287      1\n",
       "2687      1\n",
       "2994      1\n",
       "         ..\n",
       "102761    1\n",
       "103555    1\n",
       "103635    1\n",
       "103955    1\n",
       "103959    1\n",
       "Name: num_access_files, Length: 313, dtype: int64"
      ]
     },
     "metadata": {},
     "output_type": "display_data"
    },
    {
     "data": {
      "text/plain": [
       "Series([], Name: num_outbound_cmds, dtype: int64)"
      ]
     },
     "metadata": {},
     "output_type": "display_data"
    },
    {
     "data": {
      "text/plain": [
       "Series([], Name: num_outbound_cmds, dtype: int64)"
      ]
     },
     "metadata": {},
     "output_type": "display_data"
    },
    {
     "data": {
      "text/plain": [
       "Series([], Name: is_host_login, dtype: int64)"
      ]
     },
     "metadata": {},
     "output_type": "display_data"
    },
    {
     "data": {
      "text/plain": [
       "11009     1\n",
       "12357     1\n",
       "29119     1\n",
       "35167     1\n",
       "35448     1\n",
       "44692     1\n",
       "48152     1\n",
       "66534     1\n",
       "96078     1\n",
       "103959    1\n",
       "Name: is_host_login, dtype: int64"
      ]
     },
     "metadata": {},
     "output_type": "display_data"
    },
    {
     "data": {
      "text/plain": [
       "Series([], Name: is_guest_login, dtype: int64)"
      ]
     },
     "metadata": {},
     "output_type": "display_data"
    },
    {
     "data": {
      "text/plain": [
       "28        1\n",
       "35        1\n",
       "207       1\n",
       "228       1\n",
       "351       1\n",
       "         ..\n",
       "103453    1\n",
       "103601    1\n",
       "103769    1\n",
       "103779    1\n",
       "103865    1\n",
       "Name: is_guest_login, Length: 1273, dtype: int64"
      ]
     },
     "metadata": {},
     "output_type": "display_data"
    },
    {
     "data": {
      "text/plain": [
       "Series([], Name: count, dtype: int64)"
      ]
     },
     "metadata": {},
     "output_type": "display_data"
    },
    {
     "data": {
      "text/plain": [
       "69        510\n",
       "103       511\n",
       "111       511\n",
       "170       511\n",
       "185       511\n",
       "         ... \n",
       "103807    511\n",
       "103810    446\n",
       "103819    511\n",
       "103850    511\n",
       "103868    399\n",
       "Name: count, Length: 3122, dtype: int64"
      ]
     },
     "metadata": {},
     "output_type": "display_data"
    },
    {
     "data": {
      "text/plain": [
       "Series([], Name: srv_count, dtype: int64)"
      ]
     },
     "metadata": {},
     "output_type": "display_data"
    },
    {
     "data": {
      "text/plain": [
       "13         42\n",
       "15        510\n",
       "52        254\n",
       "56        185\n",
       "58        160\n",
       "         ... \n",
       "103917    318\n",
       "103924    245\n",
       "103926    239\n",
       "103930    289\n",
       "103960    201\n",
       "Name: srv_count, Length: 10603, dtype: int64"
      ]
     },
     "metadata": {},
     "output_type": "display_data"
    },
    {
     "data": {
      "text/plain": [
       "Series([], Name: serror_rate, dtype: float64)"
      ]
     },
     "metadata": {},
     "output_type": "display_data"
    },
    {
     "data": {
      "text/plain": [
       "Series([], Name: serror_rate, dtype: float64)"
      ]
     },
     "metadata": {},
     "output_type": "display_data"
    },
    {
     "data": {
      "text/plain": [
       "Series([], Name: srv_serror_rate, dtype: float64)"
      ]
     },
     "metadata": {},
     "output_type": "display_data"
    },
    {
     "data": {
      "text/plain": [
       "Series([], Name: srv_serror_rate, dtype: float64)"
      ]
     },
     "metadata": {},
     "output_type": "display_data"
    },
    {
     "data": {
      "text/plain": [
       "Series([], Name: rerror_rate, dtype: float64)"
      ]
     },
     "metadata": {},
     "output_type": "display_data"
    },
    {
     "data": {
      "text/plain": [
       "9         1.00\n",
       "30        1.00\n",
       "31        1.00\n",
       "37        1.00\n",
       "38        0.10\n",
       "          ... \n",
       "103940    1.00\n",
       "103942    1.00\n",
       "103943    0.67\n",
       "103950    1.00\n",
       "103956    1.00\n",
       "Name: rerror_rate, Length: 15494, dtype: float64"
      ]
     },
     "metadata": {},
     "output_type": "display_data"
    },
    {
     "data": {
      "text/plain": [
       "Series([], Name: srv_rerror_rate, dtype: float64)"
      ]
     },
     "metadata": {},
     "output_type": "display_data"
    },
    {
     "data": {
      "text/plain": [
       "9         0.71\n",
       "30        1.00\n",
       "31        1.00\n",
       "37        1.00\n",
       "38        0.04\n",
       "          ... \n",
       "103940    1.00\n",
       "103942    1.00\n",
       "103943    0.67\n",
       "103950    1.00\n",
       "103956    1.00\n",
       "Name: srv_rerror_rate, Length: 15422, dtype: float64"
      ]
     },
     "metadata": {},
     "output_type": "display_data"
    },
    {
     "data": {
      "text/plain": [
       "Series([], Name: same_srv_rate, dtype: float64)"
      ]
     },
     "metadata": {},
     "output_type": "display_data"
    },
    {
     "data": {
      "text/plain": [
       "Series([], Name: same_srv_rate, dtype: float64)"
      ]
     },
     "metadata": {},
     "output_type": "display_data"
    },
    {
     "data": {
      "text/plain": [
       "Series([], Name: diff_srv_rate, dtype: float64)"
      ]
     },
     "metadata": {},
     "output_type": "display_data"
    },
    {
     "data": {
      "text/plain": [
       "6         0.69\n",
       "7         1.00\n",
       "11        0.35\n",
       "12        0.50\n",
       "69        1.00\n",
       "          ... \n",
       "103868    1.00\n",
       "103874    0.33\n",
       "103875    1.00\n",
       "103920    1.00\n",
       "103954    0.19\n",
       "Name: diff_srv_rate, Length: 6913, dtype: float64"
      ]
     },
     "metadata": {},
     "output_type": "display_data"
    },
    {
     "data": {
      "text/plain": [
       "Series([], Name: srv_diff_host_rate, dtype: float64)"
      ]
     },
     "metadata": {},
     "output_type": "display_data"
    },
    {
     "data": {
      "text/plain": [
       "3         0.12\n",
       "4         0.16\n",
       "5         0.15\n",
       "9         0.57\n",
       "14        0.43\n",
       "          ... \n",
       "103935    1.00\n",
       "103939    0.10\n",
       "103941    0.25\n",
       "103946    0.07\n",
       "103952    0.75\n",
       "Name: srv_diff_host_rate, Length: 23434, dtype: float64"
      ]
     },
     "metadata": {},
     "output_type": "display_data"
    },
    {
     "data": {
      "text/plain": [
       "Series([], Name: dst_host_count, dtype: int64)"
      ]
     },
     "metadata": {},
     "output_type": "display_data"
    },
    {
     "data": {
      "text/plain": [
       "Series([], Name: dst_host_count, dtype: int64)"
      ]
     },
     "metadata": {},
     "output_type": "display_data"
    },
    {
     "data": {
      "text/plain": [
       "Series([], Name: dst_host_srv_count, dtype: int64)"
      ]
     },
     "metadata": {},
     "output_type": "display_data"
    },
    {
     "data": {
      "text/plain": [
       "Series([], Name: dst_host_srv_count, dtype: int64)"
      ]
     },
     "metadata": {},
     "output_type": "display_data"
    },
    {
     "data": {
      "text/plain": [
       "Series([], Name: dst_host_same_srv_rate, dtype: float64)"
      ]
     },
     "metadata": {},
     "output_type": "display_data"
    },
    {
     "data": {
      "text/plain": [
       "Series([], Name: dst_host_same_srv_rate, dtype: float64)"
      ]
     },
     "metadata": {},
     "output_type": "display_data"
    },
    {
     "data": {
      "text/plain": [
       "Series([], Name: dst_host_diff_srv_rate, dtype: float64)"
      ]
     },
     "metadata": {},
     "output_type": "display_data"
    },
    {
     "data": {
      "text/plain": [
       "6         0.93\n",
       "7         0.50\n",
       "11        0.27\n",
       "12        0.41\n",
       "46        1.00\n",
       "          ... \n",
       "103856    0.58\n",
       "103868    1.00\n",
       "103886    0.67\n",
       "103898    0.89\n",
       "103923    0.54\n",
       "Name: dst_host_diff_srv_rate, Length: 8865, dtype: float64"
      ]
     },
     "metadata": {},
     "output_type": "display_data"
    },
    {
     "data": {
      "text/plain": [
       "Series([], Name: dst_host_same_src_port_rate, dtype: float64)"
      ]
     },
     "metadata": {},
     "output_type": "display_data"
    },
    {
     "data": {
      "text/plain": [
       "6         0.20\n",
       "7         0.25\n",
       "8         0.20\n",
       "11        0.79\n",
       "12        0.90\n",
       "          ... \n",
       "103923    0.94\n",
       "103924    0.21\n",
       "103926    1.00\n",
       "103935    1.00\n",
       "103942    0.33\n",
       "Name: dst_host_same_src_port_rate, Length: 20029, dtype: float64"
      ]
     },
     "metadata": {},
     "output_type": "display_data"
    },
    {
     "data": {
      "text/plain": [
       "Series([], Name: dst_host_srv_diff_host_rate, dtype: float64)"
      ]
     },
     "metadata": {},
     "output_type": "display_data"
    },
    {
     "data": {
      "text/plain": [
       "2         0.04\n",
       "8         0.10\n",
       "20        0.03\n",
       "21        0.05\n",
       "27        0.03\n",
       "          ... \n",
       "103916    0.04\n",
       "103935    0.19\n",
       "103939    0.03\n",
       "103942    0.08\n",
       "103943    0.17\n",
       "Name: dst_host_srv_diff_host_rate, Length: 19388, dtype: float64"
      ]
     },
     "metadata": {},
     "output_type": "display_data"
    },
    {
     "data": {
      "text/plain": [
       "Series([], Name: dst_host_serror_rate, dtype: float64)"
      ]
     },
     "metadata": {},
     "output_type": "display_data"
    },
    {
     "data": {
      "text/plain": [
       "Series([], Name: dst_host_serror_rate, dtype: float64)"
      ]
     },
     "metadata": {},
     "output_type": "display_data"
    },
    {
     "data": {
      "text/plain": [
       "Series([], Name: dst_host_srv_serror_rate, dtype: float64)"
      ]
     },
     "metadata": {},
     "output_type": "display_data"
    },
    {
     "data": {
      "text/plain": [
       "Series([], Name: dst_host_srv_serror_rate, dtype: float64)"
      ]
     },
     "metadata": {},
     "output_type": "display_data"
    },
    {
     "data": {
      "text/plain": [
       "Series([], Name: dst_host_rerror_rate, dtype: float64)"
      ]
     },
     "metadata": {},
     "output_type": "display_data"
    },
    {
     "data": {
      "text/plain": [
       "0         0.69\n",
       "6         0.69\n",
       "9         0.52\n",
       "11        0.18\n",
       "18        0.05\n",
       "          ... \n",
       "103942    1.00\n",
       "103943    0.95\n",
       "103950    1.00\n",
       "103953    0.23\n",
       "103956    1.00\n",
       "Name: dst_host_rerror_rate, Length: 22492, dtype: float64"
      ]
     },
     "metadata": {},
     "output_type": "display_data"
    },
    {
     "data": {
      "text/plain": [
       "Series([], Name: dst_host_srv_rerror_rate, dtype: float64)"
      ]
     },
     "metadata": {},
     "output_type": "display_data"
    },
    {
     "data": {
      "text/plain": [
       "9         0.80\n",
       "18        0.05\n",
       "30        1.00\n",
       "31        1.00\n",
       "37        1.00\n",
       "          ... \n",
       "103940    1.00\n",
       "103942    0.97\n",
       "103943    0.99\n",
       "103950    1.00\n",
       "103956    1.00\n",
       "Name: dst_host_srv_rerror_rate, Length: 18700, dtype: float64"
      ]
     },
     "metadata": {},
     "output_type": "display_data"
    }
   ],
   "source": [
    "num_ts = train_students.select_dtypes(include=np.number)\n",
    "\n",
    "k = 1.5 #limiar habitual\n",
    "\n",
    "for c in num_ts.columns:\n",
    "    asc = train_students[c].sort_values()   #coluna por ordem ascendente\n",
    "    qs = asc.quantile([0.25, 0.75])\n",
    "    iqr = qs[0.75] - qs[0.25]\n",
    "\n",
    "    display(train_students.loc[train_students[c] < (qs[0.25] - (k * iqr)), c])\n",
    "    display(train_students.loc[train_students[c] > (qs[0.75] + (k * iqr)), c])\n",
    "    \n",
    "    #train_students.loc[train_students[c] < (qs[0.25] - (k * iqr)), c] = train_students[c].mean()\n",
    "    #train_students.loc[train_students[c] > (qs[0.75] + (k * iqr)), c] = train_students[c].mean()\n"
   ]
  },
  {
   "cell_type": "code",
   "execution_count": 161,
   "metadata": {},
   "outputs": [
    {
     "data": {
      "text/plain": [
       "'\\n# TO SEE IF WE CONTINUE TO HAVE OUTLIERS\\n\\nfor c in num_ts.columns:\\n    asc = train_students[c].sort_values()   #coluna por ordem ascendente\\n    qs = asc.quantile([0.25, 0.75])\\n    iqr = qs[0.75] - qs[0.25]\\n\\n    print(len(train_students.loc[train_students[c] < (qs[0.25] - (k * iqr)), c]))\\n    print(len(train_students.loc[train_students[c] > (qs[0.75] + (k * iqr)), c]))\\n'"
      ]
     },
     "execution_count": 161,
     "metadata": {},
     "output_type": "execute_result"
    }
   ],
   "source": [
    "'''\n",
    "# TO SEE IF WE CONTINUE TO HAVE OUTLIERS\n",
    "\n",
    "for c in num_ts.columns:\n",
    "    asc = train_students[c].sort_values()   #coluna por ordem ascendente\n",
    "    qs = asc.quantile([0.25, 0.75])\n",
    "    iqr = qs[0.75] - qs[0.25]\n",
    "\n",
    "    print(len(train_students.loc[train_students[c] < (qs[0.25] - (k * iqr)), c]))\n",
    "    print(len(train_students.loc[train_students[c] > (qs[0.75] + (k * iqr)), c]))\n",
    "'''"
   ]
  },
  {
   "cell_type": "code",
   "execution_count": 162,
   "metadata": {},
   "outputs": [
    {
     "data": {
      "text/plain": [
       "'\\n# OTHER METHOD FOR NORMAL DISTRIBUTED\\n\\nfor c in num_ts.columns:\\n    print(len(train_students[train_students[c] < (train_students[c].mean() - (3*train_students[c].std()))]))\\n    print(len(train_students[train_students[c] > (train_students[c].mean() + (3*train_students[c].std()))]))\\n'"
      ]
     },
     "execution_count": 162,
     "metadata": {},
     "output_type": "execute_result"
    }
   ],
   "source": [
    "'''\n",
    "# OTHER METHOD FOR NORMAL DISTRIBUTED\n",
    "\n",
    "for c in num_ts.columns:\n",
    "    print(len(train_students[train_students[c] < (train_students[c].mean() - (3*train_students[c].std()))]))\n",
    "    print(len(train_students[train_students[c] > (train_students[c].mean() + (3*train_students[c].std()))]))\n",
    "'''"
   ]
  },
  {
   "attachments": {},
   "cell_type": "markdown",
   "metadata": {},
   "source": [
    "### Normalization"
   ]
  },
  {
   "cell_type": "code",
   "execution_count": 163,
   "metadata": {},
   "outputs": [
    {
     "data": {
      "text/html": [
       "<div>\n",
       "<style scoped>\n",
       "    .dataframe tbody tr th:only-of-type {\n",
       "        vertical-align: middle;\n",
       "    }\n",
       "\n",
       "    .dataframe tbody tr th {\n",
       "        vertical-align: top;\n",
       "    }\n",
       "\n",
       "    .dataframe thead th {\n",
       "        text-align: right;\n",
       "    }\n",
       "</style>\n",
       "<table border=\"1\" class=\"dataframe\">\n",
       "  <thead>\n",
       "    <tr style=\"text-align: right;\">\n",
       "      <th></th>\n",
       "      <th>duration</th>\n",
       "      <th>protocol_type</th>\n",
       "      <th>service</th>\n",
       "      <th>flag</th>\n",
       "      <th>src_bytes</th>\n",
       "      <th>dst_bytes</th>\n",
       "      <th>land</th>\n",
       "      <th>wrong_fragment</th>\n",
       "      <th>urgent</th>\n",
       "      <th>hot</th>\n",
       "      <th>...</th>\n",
       "      <th>dst_host_srv_count</th>\n",
       "      <th>dst_host_same_srv_rate</th>\n",
       "      <th>dst_host_diff_srv_rate</th>\n",
       "      <th>dst_host_same_src_port_rate</th>\n",
       "      <th>dst_host_srv_diff_host_rate</th>\n",
       "      <th>dst_host_serror_rate</th>\n",
       "      <th>dst_host_srv_serror_rate</th>\n",
       "      <th>dst_host_rerror_rate</th>\n",
       "      <th>dst_host_srv_rerror_rate</th>\n",
       "      <th>attack_type</th>\n",
       "    </tr>\n",
       "  </thead>\n",
       "  <tbody>\n",
       "    <tr>\n",
       "      <th>0</th>\n",
       "      <td>1</td>\n",
       "      <td>tcp</td>\n",
       "      <td>smtp</td>\n",
       "      <td>SF</td>\n",
       "      <td>2599</td>\n",
       "      <td>293</td>\n",
       "      <td>0</td>\n",
       "      <td>0</td>\n",
       "      <td>0</td>\n",
       "      <td>0</td>\n",
       "      <td>...</td>\n",
       "      <td>74</td>\n",
       "      <td>0.29</td>\n",
       "      <td>0.14</td>\n",
       "      <td>0.00</td>\n",
       "      <td>0.00</td>\n",
       "      <td>0.0</td>\n",
       "      <td>0.0</td>\n",
       "      <td>0.69</td>\n",
       "      <td>0.0</td>\n",
       "      <td>Dos</td>\n",
       "    </tr>\n",
       "    <tr>\n",
       "      <th>1</th>\n",
       "      <td>0</td>\n",
       "      <td>tcp</td>\n",
       "      <td>login</td>\n",
       "      <td>S0</td>\n",
       "      <td>0</td>\n",
       "      <td>0</td>\n",
       "      <td>0</td>\n",
       "      <td>0</td>\n",
       "      <td>0</td>\n",
       "      <td>0</td>\n",
       "      <td>...</td>\n",
       "      <td>18</td>\n",
       "      <td>0.07</td>\n",
       "      <td>0.07</td>\n",
       "      <td>0.00</td>\n",
       "      <td>0.00</td>\n",
       "      <td>1.0</td>\n",
       "      <td>1.0</td>\n",
       "      <td>0.00</td>\n",
       "      <td>0.0</td>\n",
       "      <td>Dos</td>\n",
       "    </tr>\n",
       "    <tr>\n",
       "      <th>2</th>\n",
       "      <td>0</td>\n",
       "      <td>tcp</td>\n",
       "      <td>http</td>\n",
       "      <td>SF</td>\n",
       "      <td>280</td>\n",
       "      <td>13254</td>\n",
       "      <td>0</td>\n",
       "      <td>0</td>\n",
       "      <td>0</td>\n",
       "      <td>0</td>\n",
       "      <td>...</td>\n",
       "      <td>254</td>\n",
       "      <td>1.00</td>\n",
       "      <td>0.00</td>\n",
       "      <td>0.08</td>\n",
       "      <td>0.04</td>\n",
       "      <td>0.0</td>\n",
       "      <td>0.0</td>\n",
       "      <td>0.00</td>\n",
       "      <td>0.0</td>\n",
       "      <td>normal</td>\n",
       "    </tr>\n",
       "    <tr>\n",
       "      <th>3</th>\n",
       "      <td>0</td>\n",
       "      <td>tcp</td>\n",
       "      <td>http</td>\n",
       "      <td>SF</td>\n",
       "      <td>230</td>\n",
       "      <td>1582</td>\n",
       "      <td>0</td>\n",
       "      <td>0</td>\n",
       "      <td>0</td>\n",
       "      <td>0</td>\n",
       "      <td>...</td>\n",
       "      <td>255</td>\n",
       "      <td>1.00</td>\n",
       "      <td>0.00</td>\n",
       "      <td>0.05</td>\n",
       "      <td>0.02</td>\n",
       "      <td>0.0</td>\n",
       "      <td>0.0</td>\n",
       "      <td>0.00</td>\n",
       "      <td>0.0</td>\n",
       "      <td>normal</td>\n",
       "    </tr>\n",
       "    <tr>\n",
       "      <th>4</th>\n",
       "      <td>0</td>\n",
       "      <td>tcp</td>\n",
       "      <td>http</td>\n",
       "      <td>SF</td>\n",
       "      <td>218</td>\n",
       "      <td>483</td>\n",
       "      <td>0</td>\n",
       "      <td>0</td>\n",
       "      <td>0</td>\n",
       "      <td>0</td>\n",
       "      <td>...</td>\n",
       "      <td>255</td>\n",
       "      <td>1.00</td>\n",
       "      <td>0.00</td>\n",
       "      <td>0.00</td>\n",
       "      <td>0.00</td>\n",
       "      <td>0.0</td>\n",
       "      <td>0.0</td>\n",
       "      <td>0.00</td>\n",
       "      <td>0.0</td>\n",
       "      <td>normal</td>\n",
       "    </tr>\n",
       "    <tr>\n",
       "      <th>...</th>\n",
       "      <td>...</td>\n",
       "      <td>...</td>\n",
       "      <td>...</td>\n",
       "      <td>...</td>\n",
       "      <td>...</td>\n",
       "      <td>...</td>\n",
       "      <td>...</td>\n",
       "      <td>...</td>\n",
       "      <td>...</td>\n",
       "      <td>...</td>\n",
       "      <td>...</td>\n",
       "      <td>...</td>\n",
       "      <td>...</td>\n",
       "      <td>...</td>\n",
       "      <td>...</td>\n",
       "      <td>...</td>\n",
       "      <td>...</td>\n",
       "      <td>...</td>\n",
       "      <td>...</td>\n",
       "      <td>...</td>\n",
       "      <td>...</td>\n",
       "    </tr>\n",
       "    <tr>\n",
       "      <th>103956</th>\n",
       "      <td>0</td>\n",
       "      <td>tcp</td>\n",
       "      <td>echo</td>\n",
       "      <td>RSTO</td>\n",
       "      <td>0</td>\n",
       "      <td>0</td>\n",
       "      <td>0</td>\n",
       "      <td>0</td>\n",
       "      <td>0</td>\n",
       "      <td>0</td>\n",
       "      <td>...</td>\n",
       "      <td>4</td>\n",
       "      <td>0.02</td>\n",
       "      <td>0.09</td>\n",
       "      <td>0.00</td>\n",
       "      <td>0.00</td>\n",
       "      <td>0.0</td>\n",
       "      <td>0.0</td>\n",
       "      <td>1.00</td>\n",
       "      <td>1.0</td>\n",
       "      <td>Dos</td>\n",
       "    </tr>\n",
       "    <tr>\n",
       "      <th>103957</th>\n",
       "      <td>0</td>\n",
       "      <td>tcp</td>\n",
       "      <td>telnet</td>\n",
       "      <td>S0</td>\n",
       "      <td>0</td>\n",
       "      <td>0</td>\n",
       "      <td>0</td>\n",
       "      <td>0</td>\n",
       "      <td>0</td>\n",
       "      <td>0</td>\n",
       "      <td>...</td>\n",
       "      <td>4</td>\n",
       "      <td>0.02</td>\n",
       "      <td>0.07</td>\n",
       "      <td>0.01</td>\n",
       "      <td>0.00</td>\n",
       "      <td>1.0</td>\n",
       "      <td>1.0</td>\n",
       "      <td>0.00</td>\n",
       "      <td>0.0</td>\n",
       "      <td>Dos</td>\n",
       "    </tr>\n",
       "    <tr>\n",
       "      <th>103958</th>\n",
       "      <td>0</td>\n",
       "      <td>tcp</td>\n",
       "      <td>smtp</td>\n",
       "      <td>SF</td>\n",
       "      <td>0</td>\n",
       "      <td>83</td>\n",
       "      <td>0</td>\n",
       "      <td>0</td>\n",
       "      <td>0</td>\n",
       "      <td>0</td>\n",
       "      <td>...</td>\n",
       "      <td>124</td>\n",
       "      <td>0.49</td>\n",
       "      <td>0.03</td>\n",
       "      <td>0.00</td>\n",
       "      <td>0.00</td>\n",
       "      <td>0.0</td>\n",
       "      <td>0.0</td>\n",
       "      <td>0.00</td>\n",
       "      <td>0.0</td>\n",
       "      <td>normal</td>\n",
       "    </tr>\n",
       "    <tr>\n",
       "      <th>103959</th>\n",
       "      <td>50</td>\n",
       "      <td>tcp</td>\n",
       "      <td>telnet</td>\n",
       "      <td>SF</td>\n",
       "      <td>226</td>\n",
       "      <td>2615</td>\n",
       "      <td>0</td>\n",
       "      <td>0</td>\n",
       "      <td>0</td>\n",
       "      <td>1</td>\n",
       "      <td>...</td>\n",
       "      <td>2</td>\n",
       "      <td>0.01</td>\n",
       "      <td>0.02</td>\n",
       "      <td>0.00</td>\n",
       "      <td>0.00</td>\n",
       "      <td>0.0</td>\n",
       "      <td>0.0</td>\n",
       "      <td>0.00</td>\n",
       "      <td>0.0</td>\n",
       "      <td>R2L</td>\n",
       "    </tr>\n",
       "    <tr>\n",
       "      <th>103960</th>\n",
       "      <td>0</td>\n",
       "      <td>udp</td>\n",
       "      <td>domain_u</td>\n",
       "      <td>SF</td>\n",
       "      <td>43</td>\n",
       "      <td>70</td>\n",
       "      <td>0</td>\n",
       "      <td>0</td>\n",
       "      <td>0</td>\n",
       "      <td>0</td>\n",
       "      <td>...</td>\n",
       "      <td>254</td>\n",
       "      <td>1.00</td>\n",
       "      <td>0.01</td>\n",
       "      <td>0.01</td>\n",
       "      <td>0.00</td>\n",
       "      <td>0.0</td>\n",
       "      <td>0.0</td>\n",
       "      <td>0.00</td>\n",
       "      <td>0.0</td>\n",
       "      <td>normal</td>\n",
       "    </tr>\n",
       "  </tbody>\n",
       "</table>\n",
       "<p>103961 rows × 42 columns</p>\n",
       "</div>"
      ],
      "text/plain": [
       "        duration protocol_type   service  flag  src_bytes  dst_bytes  land  \\\n",
       "0              1           tcp      smtp    SF       2599        293     0   \n",
       "1              0           tcp     login    S0          0          0     0   \n",
       "2              0           tcp      http    SF        280      13254     0   \n",
       "3              0           tcp      http    SF        230       1582     0   \n",
       "4              0           tcp      http    SF        218        483     0   \n",
       "...          ...           ...       ...   ...        ...        ...   ...   \n",
       "103956         0           tcp      echo  RSTO          0          0     0   \n",
       "103957         0           tcp    telnet    S0          0          0     0   \n",
       "103958         0           tcp      smtp    SF          0         83     0   \n",
       "103959        50           tcp    telnet    SF        226       2615     0   \n",
       "103960         0           udp  domain_u    SF         43         70     0   \n",
       "\n",
       "        wrong_fragment  urgent  hot  ...  dst_host_srv_count  \\\n",
       "0                    0       0    0  ...                  74   \n",
       "1                    0       0    0  ...                  18   \n",
       "2                    0       0    0  ...                 254   \n",
       "3                    0       0    0  ...                 255   \n",
       "4                    0       0    0  ...                 255   \n",
       "...                ...     ...  ...  ...                 ...   \n",
       "103956               0       0    0  ...                   4   \n",
       "103957               0       0    0  ...                   4   \n",
       "103958               0       0    0  ...                 124   \n",
       "103959               0       0    1  ...                   2   \n",
       "103960               0       0    0  ...                 254   \n",
       "\n",
       "        dst_host_same_srv_rate  dst_host_diff_srv_rate  \\\n",
       "0                         0.29                    0.14   \n",
       "1                         0.07                    0.07   \n",
       "2                         1.00                    0.00   \n",
       "3                         1.00                    0.00   \n",
       "4                         1.00                    0.00   \n",
       "...                        ...                     ...   \n",
       "103956                    0.02                    0.09   \n",
       "103957                    0.02                    0.07   \n",
       "103958                    0.49                    0.03   \n",
       "103959                    0.01                    0.02   \n",
       "103960                    1.00                    0.01   \n",
       "\n",
       "        dst_host_same_src_port_rate  dst_host_srv_diff_host_rate  \\\n",
       "0                              0.00                         0.00   \n",
       "1                              0.00                         0.00   \n",
       "2                              0.08                         0.04   \n",
       "3                              0.05                         0.02   \n",
       "4                              0.00                         0.00   \n",
       "...                             ...                          ...   \n",
       "103956                         0.00                         0.00   \n",
       "103957                         0.01                         0.00   \n",
       "103958                         0.00                         0.00   \n",
       "103959                         0.00                         0.00   \n",
       "103960                         0.01                         0.00   \n",
       "\n",
       "        dst_host_serror_rate  dst_host_srv_serror_rate  dst_host_rerror_rate  \\\n",
       "0                        0.0                       0.0                  0.69   \n",
       "1                        1.0                       1.0                  0.00   \n",
       "2                        0.0                       0.0                  0.00   \n",
       "3                        0.0                       0.0                  0.00   \n",
       "4                        0.0                       0.0                  0.00   \n",
       "...                      ...                       ...                   ...   \n",
       "103956                   0.0                       0.0                  1.00   \n",
       "103957                   1.0                       1.0                  0.00   \n",
       "103958                   0.0                       0.0                  0.00   \n",
       "103959                   0.0                       0.0                  0.00   \n",
       "103960                   0.0                       0.0                  0.00   \n",
       "\n",
       "        dst_host_srv_rerror_rate  attack_type  \n",
       "0                            0.0          Dos  \n",
       "1                            0.0          Dos  \n",
       "2                            0.0       normal  \n",
       "3                            0.0       normal  \n",
       "4                            0.0       normal  \n",
       "...                          ...          ...  \n",
       "103956                       1.0          Dos  \n",
       "103957                       0.0          Dos  \n",
       "103958                       0.0       normal  \n",
       "103959                       0.0          R2L  \n",
       "103960                       0.0       normal  \n",
       "\n",
       "[103961 rows x 42 columns]"
      ]
     },
     "metadata": {},
     "output_type": "display_data"
    },
    {
     "data": {
      "text/html": [
       "<div>\n",
       "<style scoped>\n",
       "    .dataframe tbody tr th:only-of-type {\n",
       "        vertical-align: middle;\n",
       "    }\n",
       "\n",
       "    .dataframe tbody tr th {\n",
       "        vertical-align: top;\n",
       "    }\n",
       "\n",
       "    .dataframe thead th {\n",
       "        text-align: right;\n",
       "    }\n",
       "</style>\n",
       "<table border=\"1\" class=\"dataframe\">\n",
       "  <thead>\n",
       "    <tr style=\"text-align: right;\">\n",
       "      <th></th>\n",
       "      <th>duration</th>\n",
       "      <th>protocol_type</th>\n",
       "      <th>service</th>\n",
       "      <th>flag</th>\n",
       "      <th>src_bytes</th>\n",
       "      <th>dst_bytes</th>\n",
       "      <th>land</th>\n",
       "      <th>wrong_fragment</th>\n",
       "      <th>urgent</th>\n",
       "      <th>hot</th>\n",
       "      <th>...</th>\n",
       "      <th>dst_host_srv_count</th>\n",
       "      <th>dst_host_same_srv_rate</th>\n",
       "      <th>dst_host_diff_srv_rate</th>\n",
       "      <th>dst_host_same_src_port_rate</th>\n",
       "      <th>dst_host_srv_diff_host_rate</th>\n",
       "      <th>dst_host_serror_rate</th>\n",
       "      <th>dst_host_srv_serror_rate</th>\n",
       "      <th>dst_host_rerror_rate</th>\n",
       "      <th>dst_host_srv_rerror_rate</th>\n",
       "      <th>attack_type</th>\n",
       "    </tr>\n",
       "  </thead>\n",
       "  <tbody>\n",
       "    <tr>\n",
       "      <th>0</th>\n",
       "      <td>0.000018</td>\n",
       "      <td>tcp</td>\n",
       "      <td>smtp</td>\n",
       "      <td>SF</td>\n",
       "      <td>1.883383e-06</td>\n",
       "      <td>2.236748e-07</td>\n",
       "      <td>0.0</td>\n",
       "      <td>0.0</td>\n",
       "      <td>0.0</td>\n",
       "      <td>0.000000</td>\n",
       "      <td>...</td>\n",
       "      <td>0.290196</td>\n",
       "      <td>0.29</td>\n",
       "      <td>0.14</td>\n",
       "      <td>0.00</td>\n",
       "      <td>0.00</td>\n",
       "      <td>0.0</td>\n",
       "      <td>0.0</td>\n",
       "      <td>0.69</td>\n",
       "      <td>0.0</td>\n",
       "      <td>Dos</td>\n",
       "    </tr>\n",
       "    <tr>\n",
       "      <th>1</th>\n",
       "      <td>0.000000</td>\n",
       "      <td>tcp</td>\n",
       "      <td>login</td>\n",
       "      <td>S0</td>\n",
       "      <td>0.000000e+00</td>\n",
       "      <td>0.000000e+00</td>\n",
       "      <td>0.0</td>\n",
       "      <td>0.0</td>\n",
       "      <td>0.0</td>\n",
       "      <td>0.000000</td>\n",
       "      <td>...</td>\n",
       "      <td>0.070588</td>\n",
       "      <td>0.07</td>\n",
       "      <td>0.07</td>\n",
       "      <td>0.00</td>\n",
       "      <td>0.00</td>\n",
       "      <td>1.0</td>\n",
       "      <td>1.0</td>\n",
       "      <td>0.00</td>\n",
       "      <td>0.0</td>\n",
       "      <td>Dos</td>\n",
       "    </tr>\n",
       "    <tr>\n",
       "      <th>2</th>\n",
       "      <td>0.000000</td>\n",
       "      <td>tcp</td>\n",
       "      <td>http</td>\n",
       "      <td>SF</td>\n",
       "      <td>2.029039e-07</td>\n",
       "      <td>1.011804e-05</td>\n",
       "      <td>0.0</td>\n",
       "      <td>0.0</td>\n",
       "      <td>0.0</td>\n",
       "      <td>0.000000</td>\n",
       "      <td>...</td>\n",
       "      <td>0.996078</td>\n",
       "      <td>1.00</td>\n",
       "      <td>0.00</td>\n",
       "      <td>0.08</td>\n",
       "      <td>0.04</td>\n",
       "      <td>0.0</td>\n",
       "      <td>0.0</td>\n",
       "      <td>0.00</td>\n",
       "      <td>0.0</td>\n",
       "      <td>normal</td>\n",
       "    </tr>\n",
       "    <tr>\n",
       "      <th>3</th>\n",
       "      <td>0.000000</td>\n",
       "      <td>tcp</td>\n",
       "      <td>http</td>\n",
       "      <td>SF</td>\n",
       "      <td>1.666710e-07</td>\n",
       "      <td>1.207691e-06</td>\n",
       "      <td>0.0</td>\n",
       "      <td>0.0</td>\n",
       "      <td>0.0</td>\n",
       "      <td>0.000000</td>\n",
       "      <td>...</td>\n",
       "      <td>1.000000</td>\n",
       "      <td>1.00</td>\n",
       "      <td>0.00</td>\n",
       "      <td>0.05</td>\n",
       "      <td>0.02</td>\n",
       "      <td>0.0</td>\n",
       "      <td>0.0</td>\n",
       "      <td>0.00</td>\n",
       "      <td>0.0</td>\n",
       "      <td>normal</td>\n",
       "    </tr>\n",
       "    <tr>\n",
       "      <th>4</th>\n",
       "      <td>0.000000</td>\n",
       "      <td>tcp</td>\n",
       "      <td>http</td>\n",
       "      <td>SF</td>\n",
       "      <td>1.579751e-07</td>\n",
       "      <td>3.687199e-07</td>\n",
       "      <td>0.0</td>\n",
       "      <td>0.0</td>\n",
       "      <td>0.0</td>\n",
       "      <td>0.000000</td>\n",
       "      <td>...</td>\n",
       "      <td>1.000000</td>\n",
       "      <td>1.00</td>\n",
       "      <td>0.00</td>\n",
       "      <td>0.00</td>\n",
       "      <td>0.00</td>\n",
       "      <td>0.0</td>\n",
       "      <td>0.0</td>\n",
       "      <td>0.00</td>\n",
       "      <td>0.0</td>\n",
       "      <td>normal</td>\n",
       "    </tr>\n",
       "    <tr>\n",
       "      <th>...</th>\n",
       "      <td>...</td>\n",
       "      <td>...</td>\n",
       "      <td>...</td>\n",
       "      <td>...</td>\n",
       "      <td>...</td>\n",
       "      <td>...</td>\n",
       "      <td>...</td>\n",
       "      <td>...</td>\n",
       "      <td>...</td>\n",
       "      <td>...</td>\n",
       "      <td>...</td>\n",
       "      <td>...</td>\n",
       "      <td>...</td>\n",
       "      <td>...</td>\n",
       "      <td>...</td>\n",
       "      <td>...</td>\n",
       "      <td>...</td>\n",
       "      <td>...</td>\n",
       "      <td>...</td>\n",
       "      <td>...</td>\n",
       "      <td>...</td>\n",
       "    </tr>\n",
       "    <tr>\n",
       "      <th>103956</th>\n",
       "      <td>0.000000</td>\n",
       "      <td>tcp</td>\n",
       "      <td>echo</td>\n",
       "      <td>RSTO</td>\n",
       "      <td>0.000000e+00</td>\n",
       "      <td>0.000000e+00</td>\n",
       "      <td>0.0</td>\n",
       "      <td>0.0</td>\n",
       "      <td>0.0</td>\n",
       "      <td>0.000000</td>\n",
       "      <td>...</td>\n",
       "      <td>0.015686</td>\n",
       "      <td>0.02</td>\n",
       "      <td>0.09</td>\n",
       "      <td>0.00</td>\n",
       "      <td>0.00</td>\n",
       "      <td>0.0</td>\n",
       "      <td>0.0</td>\n",
       "      <td>1.00</td>\n",
       "      <td>1.0</td>\n",
       "      <td>Dos</td>\n",
       "    </tr>\n",
       "    <tr>\n",
       "      <th>103957</th>\n",
       "      <td>0.000000</td>\n",
       "      <td>tcp</td>\n",
       "      <td>telnet</td>\n",
       "      <td>S0</td>\n",
       "      <td>0.000000e+00</td>\n",
       "      <td>0.000000e+00</td>\n",
       "      <td>0.0</td>\n",
       "      <td>0.0</td>\n",
       "      <td>0.0</td>\n",
       "      <td>0.000000</td>\n",
       "      <td>...</td>\n",
       "      <td>0.015686</td>\n",
       "      <td>0.02</td>\n",
       "      <td>0.07</td>\n",
       "      <td>0.01</td>\n",
       "      <td>0.00</td>\n",
       "      <td>1.0</td>\n",
       "      <td>1.0</td>\n",
       "      <td>0.00</td>\n",
       "      <td>0.0</td>\n",
       "      <td>Dos</td>\n",
       "    </tr>\n",
       "    <tr>\n",
       "      <th>103958</th>\n",
       "      <td>0.000000</td>\n",
       "      <td>tcp</td>\n",
       "      <td>smtp</td>\n",
       "      <td>SF</td>\n",
       "      <td>0.000000e+00</td>\n",
       "      <td>6.336181e-08</td>\n",
       "      <td>0.0</td>\n",
       "      <td>0.0</td>\n",
       "      <td>0.0</td>\n",
       "      <td>0.000000</td>\n",
       "      <td>...</td>\n",
       "      <td>0.486275</td>\n",
       "      <td>0.49</td>\n",
       "      <td>0.03</td>\n",
       "      <td>0.00</td>\n",
       "      <td>0.00</td>\n",
       "      <td>0.0</td>\n",
       "      <td>0.0</td>\n",
       "      <td>0.00</td>\n",
       "      <td>0.0</td>\n",
       "      <td>normal</td>\n",
       "    </tr>\n",
       "    <tr>\n",
       "      <th>103959</th>\n",
       "      <td>0.000918</td>\n",
       "      <td>tcp</td>\n",
       "      <td>telnet</td>\n",
       "      <td>SF</td>\n",
       "      <td>1.637724e-07</td>\n",
       "      <td>1.996279e-06</td>\n",
       "      <td>0.0</td>\n",
       "      <td>0.0</td>\n",
       "      <td>0.0</td>\n",
       "      <td>0.012987</td>\n",
       "      <td>...</td>\n",
       "      <td>0.007843</td>\n",
       "      <td>0.01</td>\n",
       "      <td>0.02</td>\n",
       "      <td>0.00</td>\n",
       "      <td>0.00</td>\n",
       "      <td>0.0</td>\n",
       "      <td>0.0</td>\n",
       "      <td>0.00</td>\n",
       "      <td>0.0</td>\n",
       "      <td>R2L</td>\n",
       "    </tr>\n",
       "    <tr>\n",
       "      <th>103960</th>\n",
       "      <td>0.000000</td>\n",
       "      <td>udp</td>\n",
       "      <td>domain_u</td>\n",
       "      <td>SF</td>\n",
       "      <td>3.116024e-08</td>\n",
       "      <td>5.343767e-08</td>\n",
       "      <td>0.0</td>\n",
       "      <td>0.0</td>\n",
       "      <td>0.0</td>\n",
       "      <td>0.000000</td>\n",
       "      <td>...</td>\n",
       "      <td>0.996078</td>\n",
       "      <td>1.00</td>\n",
       "      <td>0.01</td>\n",
       "      <td>0.01</td>\n",
       "      <td>0.00</td>\n",
       "      <td>0.0</td>\n",
       "      <td>0.0</td>\n",
       "      <td>0.00</td>\n",
       "      <td>0.0</td>\n",
       "      <td>normal</td>\n",
       "    </tr>\n",
       "  </tbody>\n",
       "</table>\n",
       "<p>103961 rows × 42 columns</p>\n",
       "</div>"
      ],
      "text/plain": [
       "        duration protocol_type   service  flag     src_bytes     dst_bytes  \\\n",
       "0       0.000018           tcp      smtp    SF  1.883383e-06  2.236748e-07   \n",
       "1       0.000000           tcp     login    S0  0.000000e+00  0.000000e+00   \n",
       "2       0.000000           tcp      http    SF  2.029039e-07  1.011804e-05   \n",
       "3       0.000000           tcp      http    SF  1.666710e-07  1.207691e-06   \n",
       "4       0.000000           tcp      http    SF  1.579751e-07  3.687199e-07   \n",
       "...          ...           ...       ...   ...           ...           ...   \n",
       "103956  0.000000           tcp      echo  RSTO  0.000000e+00  0.000000e+00   \n",
       "103957  0.000000           tcp    telnet    S0  0.000000e+00  0.000000e+00   \n",
       "103958  0.000000           tcp      smtp    SF  0.000000e+00  6.336181e-08   \n",
       "103959  0.000918           tcp    telnet    SF  1.637724e-07  1.996279e-06   \n",
       "103960  0.000000           udp  domain_u    SF  3.116024e-08  5.343767e-08   \n",
       "\n",
       "        land  wrong_fragment  urgent       hot  ...  dst_host_srv_count  \\\n",
       "0        0.0             0.0     0.0  0.000000  ...            0.290196   \n",
       "1        0.0             0.0     0.0  0.000000  ...            0.070588   \n",
       "2        0.0             0.0     0.0  0.000000  ...            0.996078   \n",
       "3        0.0             0.0     0.0  0.000000  ...            1.000000   \n",
       "4        0.0             0.0     0.0  0.000000  ...            1.000000   \n",
       "...      ...             ...     ...       ...  ...                 ...   \n",
       "103956   0.0             0.0     0.0  0.000000  ...            0.015686   \n",
       "103957   0.0             0.0     0.0  0.000000  ...            0.015686   \n",
       "103958   0.0             0.0     0.0  0.000000  ...            0.486275   \n",
       "103959   0.0             0.0     0.0  0.012987  ...            0.007843   \n",
       "103960   0.0             0.0     0.0  0.000000  ...            0.996078   \n",
       "\n",
       "        dst_host_same_srv_rate  dst_host_diff_srv_rate  \\\n",
       "0                         0.29                    0.14   \n",
       "1                         0.07                    0.07   \n",
       "2                         1.00                    0.00   \n",
       "3                         1.00                    0.00   \n",
       "4                         1.00                    0.00   \n",
       "...                        ...                     ...   \n",
       "103956                    0.02                    0.09   \n",
       "103957                    0.02                    0.07   \n",
       "103958                    0.49                    0.03   \n",
       "103959                    0.01                    0.02   \n",
       "103960                    1.00                    0.01   \n",
       "\n",
       "        dst_host_same_src_port_rate  dst_host_srv_diff_host_rate  \\\n",
       "0                              0.00                         0.00   \n",
       "1                              0.00                         0.00   \n",
       "2                              0.08                         0.04   \n",
       "3                              0.05                         0.02   \n",
       "4                              0.00                         0.00   \n",
       "...                             ...                          ...   \n",
       "103956                         0.00                         0.00   \n",
       "103957                         0.01                         0.00   \n",
       "103958                         0.00                         0.00   \n",
       "103959                         0.00                         0.00   \n",
       "103960                         0.01                         0.00   \n",
       "\n",
       "        dst_host_serror_rate  dst_host_srv_serror_rate  dst_host_rerror_rate  \\\n",
       "0                        0.0                       0.0                  0.69   \n",
       "1                        1.0                       1.0                  0.00   \n",
       "2                        0.0                       0.0                  0.00   \n",
       "3                        0.0                       0.0                  0.00   \n",
       "4                        0.0                       0.0                  0.00   \n",
       "...                      ...                       ...                   ...   \n",
       "103956                   0.0                       0.0                  1.00   \n",
       "103957                   1.0                       1.0                  0.00   \n",
       "103958                   0.0                       0.0                  0.00   \n",
       "103959                   0.0                       0.0                  0.00   \n",
       "103960                   0.0                       0.0                  0.00   \n",
       "\n",
       "        dst_host_srv_rerror_rate  attack_type  \n",
       "0                            0.0          Dos  \n",
       "1                            0.0          Dos  \n",
       "2                            0.0       normal  \n",
       "3                            0.0       normal  \n",
       "4                            0.0       normal  \n",
       "...                          ...          ...  \n",
       "103956                       1.0          Dos  \n",
       "103957                       0.0          Dos  \n",
       "103958                       0.0       normal  \n",
       "103959                       0.0          R2L  \n",
       "103960                       0.0       normal  \n",
       "\n",
       "[103961 rows x 42 columns]"
      ]
     },
     "metadata": {},
     "output_type": "display_data"
    }
   ],
   "source": [
    "display(train_students)\n",
    "\n",
    "for c in num_ts.columns:\n",
    "    minV = train_students[c].min()\n",
    "    maxV = train_students[c].max()\n",
    "    train_students[c] = (train_students[c] - minV) / (maxV - minV)\n",
    "\n",
    "display(train_students)"
   ]
  },
  {
   "cell_type": "code",
   "execution_count": 124,
   "metadata": {},
   "outputs": [],
   "source": [
    "train_students = pd.get_dummies(train_students, columns=['protocol_type'], drop_first=True)\n",
    "train_students = train_students.drop('service', axis=1)\n",
    "#train_students = pd.get_dummies(train_students, columns=['service'], drop_first=True)\n",
    "train_students= pd.get_dummies(train_students, columns=['flag'], drop_first=True)\n",
    "\n",
    "test_students = pd.get_dummies(test_students, columns=['protocol_type'], drop_first=True)\n",
    "test_students = test_students.drop('service', axis=1)\n",
    "#test_students = pd.get_dummies(test_students, columns=['service'], drop_first=True)\n",
    "test_students= pd.get_dummies(test_students, columns=['flag'], drop_first=True)"
   ]
  },
  {
   "cell_type": "code",
   "execution_count": 125,
   "metadata": {},
   "outputs": [],
   "source": [
    "train_students.replace('normal', 0, inplace=True)\n",
    "train_students.replace('Dos', 1, inplace=True)\n",
    "train_students.replace('R2L', 2, inplace=True)\n",
    "train_students.replace('U2R', 3, inplace=True)\n",
    "train_students.replace('Probe', 4, inplace=True)\n"
   ]
  },
  {
   "cell_type": "code",
   "execution_count": 126,
   "metadata": {},
   "outputs": [],
   "source": [
    "y_train = train_students['attack_type']\n",
    "X_train = train_students.drop('attack_type', axis=1)"
   ]
  },
  {
   "cell_type": "code",
   "execution_count": 127,
   "metadata": {},
   "outputs": [],
   "source": [
    "from sklearn.model_selection import train_test_split\n",
    "\n",
    "X_train, X_t, y_train, y_t = train_test_split(X_train, y_train, test_size=0.4, random_state=42)\n",
    "X_test, X_validation, y_test, y_validation = train_test_split(X_t, y_t, test_size=0.5, random_state=42)"
   ]
  },
  {
   "attachments": {},
   "cell_type": "markdown",
   "metadata": {},
   "source": [
    "### Ensembles"
   ]
  },
  {
   "cell_type": "code",
   "execution_count": 128,
   "metadata": {},
   "outputs": [
    {
     "data": {
      "text/html": [
       "<style>#sk-container-id-5 {color: black;background-color: white;}#sk-container-id-5 pre{padding: 0;}#sk-container-id-5 div.sk-toggleable {background-color: white;}#sk-container-id-5 label.sk-toggleable__label {cursor: pointer;display: block;width: 100%;margin-bottom: 0;padding: 0.3em;box-sizing: border-box;text-align: center;}#sk-container-id-5 label.sk-toggleable__label-arrow:before {content: \"▸\";float: left;margin-right: 0.25em;color: #696969;}#sk-container-id-5 label.sk-toggleable__label-arrow:hover:before {color: black;}#sk-container-id-5 div.sk-estimator:hover label.sk-toggleable__label-arrow:before {color: black;}#sk-container-id-5 div.sk-toggleable__content {max-height: 0;max-width: 0;overflow: hidden;text-align: left;background-color: #f0f8ff;}#sk-container-id-5 div.sk-toggleable__content pre {margin: 0.2em;color: black;border-radius: 0.25em;background-color: #f0f8ff;}#sk-container-id-5 input.sk-toggleable__control:checked~div.sk-toggleable__content {max-height: 200px;max-width: 100%;overflow: auto;}#sk-container-id-5 input.sk-toggleable__control:checked~label.sk-toggleable__label-arrow:before {content: \"▾\";}#sk-container-id-5 div.sk-estimator input.sk-toggleable__control:checked~label.sk-toggleable__label {background-color: #d4ebff;}#sk-container-id-5 div.sk-label input.sk-toggleable__control:checked~label.sk-toggleable__label {background-color: #d4ebff;}#sk-container-id-5 input.sk-hidden--visually {border: 0;clip: rect(1px 1px 1px 1px);clip: rect(1px, 1px, 1px, 1px);height: 1px;margin: -1px;overflow: hidden;padding: 0;position: absolute;width: 1px;}#sk-container-id-5 div.sk-estimator {font-family: monospace;background-color: #f0f8ff;border: 1px dotted black;border-radius: 0.25em;box-sizing: border-box;margin-bottom: 0.5em;}#sk-container-id-5 div.sk-estimator:hover {background-color: #d4ebff;}#sk-container-id-5 div.sk-parallel-item::after {content: \"\";width: 100%;border-bottom: 1px solid gray;flex-grow: 1;}#sk-container-id-5 div.sk-label:hover label.sk-toggleable__label {background-color: #d4ebff;}#sk-container-id-5 div.sk-serial::before {content: \"\";position: absolute;border-left: 1px solid gray;box-sizing: border-box;top: 0;bottom: 0;left: 50%;z-index: 0;}#sk-container-id-5 div.sk-serial {display: flex;flex-direction: column;align-items: center;background-color: white;padding-right: 0.2em;padding-left: 0.2em;position: relative;}#sk-container-id-5 div.sk-item {position: relative;z-index: 1;}#sk-container-id-5 div.sk-parallel {display: flex;align-items: stretch;justify-content: center;background-color: white;position: relative;}#sk-container-id-5 div.sk-item::before, #sk-container-id-5 div.sk-parallel-item::before {content: \"\";position: absolute;border-left: 1px solid gray;box-sizing: border-box;top: 0;bottom: 0;left: 50%;z-index: -1;}#sk-container-id-5 div.sk-parallel-item {display: flex;flex-direction: column;z-index: 1;position: relative;background-color: white;}#sk-container-id-5 div.sk-parallel-item:first-child::after {align-self: flex-end;width: 50%;}#sk-container-id-5 div.sk-parallel-item:last-child::after {align-self: flex-start;width: 50%;}#sk-container-id-5 div.sk-parallel-item:only-child::after {width: 0;}#sk-container-id-5 div.sk-dashed-wrapped {border: 1px dashed gray;margin: 0 0.4em 0.5em 0.4em;box-sizing: border-box;padding-bottom: 0.4em;background-color: white;}#sk-container-id-5 div.sk-label label {font-family: monospace;font-weight: bold;display: inline-block;line-height: 1.2em;}#sk-container-id-5 div.sk-label-container {text-align: center;}#sk-container-id-5 div.sk-container {/* jupyter's `normalize.less` sets `[hidden] { display: none; }` but bootstrap.min.css set `[hidden] { display: none !important; }` so we also need the `!important` here to be able to override the default hidden behavior on the sphinx rendered scikit-learn.org. See: https://github.com/scikit-learn/scikit-learn/issues/21755 */display: inline-block !important;position: relative;}#sk-container-id-5 div.sk-text-repr-fallback {display: none;}</style><div id=\"sk-container-id-5\" class=\"sk-top-container\"><div class=\"sk-text-repr-fallback\"><pre>GridSearchCV(cv=5,\n",
       "             estimator=VotingClassifier(estimators=[(&#x27;lr&#x27;,\n",
       "                                                     LogisticRegression(max_iter=1000)),\n",
       "                                                    (&#x27;kn&#x27;,\n",
       "                                                     KNeighborsClassifier()),\n",
       "                                                    (&#x27;dt&#x27;,\n",
       "                                                     DecisionTreeClassifier()),\n",
       "                                                    (&#x27;rf&#x27;,\n",
       "                                                     RandomForestClassifier())],\n",
       "                                        voting=&#x27;soft&#x27;),\n",
       "             param_grid={}, refit=&#x27;accuracy&#x27;,\n",
       "             scoring=[&#x27;accuracy&#x27;, &#x27;precision&#x27;, &#x27;recall&#x27;, &#x27;f1_micro&#x27;])</pre><b>In a Jupyter environment, please rerun this cell to show the HTML representation or trust the notebook. <br />On GitHub, the HTML representation is unable to render, please try loading this page with nbviewer.org.</b></div><div class=\"sk-container\" hidden><div class=\"sk-item sk-dashed-wrapped\"><div class=\"sk-label-container\"><div class=\"sk-label sk-toggleable\"><input class=\"sk-toggleable__control sk-hidden--visually\" id=\"sk-estimator-id-15\" type=\"checkbox\" ><label for=\"sk-estimator-id-15\" class=\"sk-toggleable__label sk-toggleable__label-arrow\">GridSearchCV</label><div class=\"sk-toggleable__content\"><pre>GridSearchCV(cv=5,\n",
       "             estimator=VotingClassifier(estimators=[(&#x27;lr&#x27;,\n",
       "                                                     LogisticRegression(max_iter=1000)),\n",
       "                                                    (&#x27;kn&#x27;,\n",
       "                                                     KNeighborsClassifier()),\n",
       "                                                    (&#x27;dt&#x27;,\n",
       "                                                     DecisionTreeClassifier()),\n",
       "                                                    (&#x27;rf&#x27;,\n",
       "                                                     RandomForestClassifier())],\n",
       "                                        voting=&#x27;soft&#x27;),\n",
       "             param_grid={}, refit=&#x27;accuracy&#x27;,\n",
       "             scoring=[&#x27;accuracy&#x27;, &#x27;precision&#x27;, &#x27;recall&#x27;, &#x27;f1_micro&#x27;])</pre></div></div></div><div class=\"sk-parallel\"><div class=\"sk-parallel-item\"><div class=\"sk-item\"><div class=\"sk-label-container\"><div class=\"sk-label sk-toggleable\"><input class=\"sk-toggleable__control sk-hidden--visually\" id=\"sk-estimator-id-16\" type=\"checkbox\" ><label for=\"sk-estimator-id-16\" class=\"sk-toggleable__label sk-toggleable__label-arrow\">estimator: VotingClassifier</label><div class=\"sk-toggleable__content\"><pre>VotingClassifier(estimators=[(&#x27;lr&#x27;, LogisticRegression(max_iter=1000)),\n",
       "                             (&#x27;kn&#x27;, KNeighborsClassifier()),\n",
       "                             (&#x27;dt&#x27;, DecisionTreeClassifier()),\n",
       "                             (&#x27;rf&#x27;, RandomForestClassifier())],\n",
       "                 voting=&#x27;soft&#x27;)</pre></div></div></div><div class=\"sk-serial\"><div class=\"sk-item sk-dashed-wrapped\"><div class=\"sk-parallel\"><div class=\"sk-parallel-item\"><div class=\"sk-item\"><div class=\"sk-label-container\"><div class=\"sk-label sk-toggleable\"><label>lr</label></div></div><div class=\"sk-serial\"><div class=\"sk-item\"><div class=\"sk-estimator sk-toggleable\"><input class=\"sk-toggleable__control sk-hidden--visually\" id=\"sk-estimator-id-17\" type=\"checkbox\" ><label for=\"sk-estimator-id-17\" class=\"sk-toggleable__label sk-toggleable__label-arrow\">LogisticRegression</label><div class=\"sk-toggleable__content\"><pre>LogisticRegression(max_iter=1000)</pre></div></div></div></div></div></div><div class=\"sk-parallel-item\"><div class=\"sk-item\"><div class=\"sk-label-container\"><div class=\"sk-label sk-toggleable\"><label>kn</label></div></div><div class=\"sk-serial\"><div class=\"sk-item\"><div class=\"sk-estimator sk-toggleable\"><input class=\"sk-toggleable__control sk-hidden--visually\" id=\"sk-estimator-id-18\" type=\"checkbox\" ><label for=\"sk-estimator-id-18\" class=\"sk-toggleable__label sk-toggleable__label-arrow\">KNeighborsClassifier</label><div class=\"sk-toggleable__content\"><pre>KNeighborsClassifier()</pre></div></div></div></div></div></div><div class=\"sk-parallel-item\"><div class=\"sk-item\"><div class=\"sk-label-container\"><div class=\"sk-label sk-toggleable\"><label>dt</label></div></div><div class=\"sk-serial\"><div class=\"sk-item\"><div class=\"sk-estimator sk-toggleable\"><input class=\"sk-toggleable__control sk-hidden--visually\" id=\"sk-estimator-id-19\" type=\"checkbox\" ><label for=\"sk-estimator-id-19\" class=\"sk-toggleable__label sk-toggleable__label-arrow\">DecisionTreeClassifier</label><div class=\"sk-toggleable__content\"><pre>DecisionTreeClassifier()</pre></div></div></div></div></div></div><div class=\"sk-parallel-item\"><div class=\"sk-item\"><div class=\"sk-label-container\"><div class=\"sk-label sk-toggleable\"><label>rf</label></div></div><div class=\"sk-serial\"><div class=\"sk-item\"><div class=\"sk-estimator sk-toggleable\"><input class=\"sk-toggleable__control sk-hidden--visually\" id=\"sk-estimator-id-20\" type=\"checkbox\" ><label for=\"sk-estimator-id-20\" class=\"sk-toggleable__label sk-toggleable__label-arrow\">RandomForestClassifier</label><div class=\"sk-toggleable__content\"><pre>RandomForestClassifier()</pre></div></div></div></div></div></div></div></div></div></div></div></div></div></div></div>"
      ],
      "text/plain": [
       "GridSearchCV(cv=5,\n",
       "             estimator=VotingClassifier(estimators=[('lr',\n",
       "                                                     LogisticRegression(max_iter=1000)),\n",
       "                                                    ('kn',\n",
       "                                                     KNeighborsClassifier()),\n",
       "                                                    ('dt',\n",
       "                                                     DecisionTreeClassifier()),\n",
       "                                                    ('rf',\n",
       "                                                     RandomForestClassifier())],\n",
       "                                        voting='soft'),\n",
       "             param_grid={}, refit='accuracy',\n",
       "             scoring=['accuracy', 'precision', 'recall', 'f1_micro'])"
      ]
     },
     "execution_count": 128,
     "metadata": {},
     "output_type": "execute_result"
    }
   ],
   "source": [
    "from sklearn.linear_model import LogisticRegression\n",
    "from sklearn.neighbors import KNeighborsClassifier\n",
    "from sklearn.tree import DecisionTreeClassifier\n",
    "from sklearn.ensemble import VotingClassifier, RandomForestClassifier\n",
    "from sklearn.model_selection import cross_val_score\n",
    "from sklearn.model_selection import GridSearchCV\n",
    "import warnings\n",
    "\n",
    "warnings.filterwarnings('ignore')\n",
    "\n",
    "lr = LogisticRegression(max_iter=1000)\n",
    "knn = KNeighborsClassifier()\n",
    "dt = DecisionTreeClassifier()\n",
    "rf = RandomForestClassifier()\n",
    "\n",
    "voting = VotingClassifier(\n",
    "    estimators=[\n",
    "        ('lr', lr),\n",
    "        ('kn', knn), \n",
    "        ('dt', dt), \n",
    "        ('rf', rf)\n",
    "    ],\n",
    "    voting='soft'\n",
    ")\n",
    "\n",
    "ensemble = GridSearchCV(\n",
    "    voting,\n",
    "    {},\n",
    "    scoring=['accuracy', 'precision', 'recall', 'f1_micro'],\n",
    "    refit='accuracy',\n",
    "    cv=5\n",
    ")\n",
    "\n",
    "ensemble.fit(X_train, y_train)"
   ]
  },
  {
   "cell_type": "code",
   "execution_count": 30,
   "metadata": {},
   "outputs": [],
   "source": [
    "lista_classifiers = [('LogisticRegression', lr), ('KNeighborsClassifier', knn), ('DecisionTreeClassifier', dt), ('RandomForestClassifier', rf), ('VotingClassifier', voting), ]"
   ]
  },
  {
   "attachments": {},
   "cell_type": "markdown",
   "metadata": {},
   "source": [
    "### Todos os modelos"
   ]
  },
  {
   "cell_type": "code",
   "execution_count": null,
   "metadata": {},
   "outputs": [],
   "source": [
    "for name, model in lista_classifiers:\n",
    "    scores = cross_val_score(model, X_train, y_train, cv=10, scoring='f1_micro')\n",
    "    print(f'F1-Score: {scores.mean()} ', f'(+/- {scores.std()}) [{name}]')"
   ]
  },
  {
   "attachments": {},
   "cell_type": "markdown",
   "metadata": {},
   "source": [
    "### Demorou a correr então não experimentei"
   ]
  },
  {
   "cell_type": "code",
   "execution_count": null,
   "metadata": {},
   "outputs": [],
   "source": [
    "scores = cross_val_score(ensemble, X_train, y_train, cv=10, scoring='f1_micro')\n",
    "print(f'F1-Score: {scores.mean()} ', f'(+/- {scores.std()}) [{name}]')"
   ]
  },
  {
   "cell_type": "code",
   "execution_count": 130,
   "metadata": {},
   "outputs": [],
   "source": [
    "pred = ensemble.predict(test_students)"
   ]
  },
  {
   "cell_type": "code",
   "execution_count": 131,
   "metadata": {},
   "outputs": [
    {
     "name": "stdout",
     "output_type": "stream",
     "text": [
      "       SampleID  Class\n",
      "0             0      0\n",
      "1             1      0\n",
      "2             2      0\n",
      "3             3      0\n",
      "4             4      1\n",
      "...         ...    ...\n",
      "44551     44551      0\n",
      "44552     44552      1\n",
      "44553     44553      1\n",
      "44554     44554      0\n",
      "44555     44555      0\n",
      "\n",
      "[44556 rows x 2 columns]\n"
     ]
    }
   ],
   "source": [
    "submission = pd.DataFrame({'SampleID': SampleID, 'Class': pred})\n",
    "print(submission)\n",
    "submission.to_csv('submission1.csv', index=False)"
   ]
  },
  {
   "attachments": {},
   "cell_type": "markdown",
   "metadata": {},
   "source": [
    "### Só modelo ensemble\n",
    "\n",
    "Ainda deve existir algum overfitting"
   ]
  },
  {
   "cell_type": "code",
   "execution_count": 133,
   "metadata": {},
   "outputs": [
    {
     "name": "stdout",
     "output_type": "stream",
     "text": [
      "Accuracy: 0.9941323585994614 [LogisticRegression]\n",
      "F1-score: 0.9941323585994614 [LogisticRegression]\n",
      "Precision: 0.9941323585994614 [LogisticRegression]\n",
      "Recall: 0.9941323585994614 [LogisticRegression]\n",
      "Confusion Matrix: [LogisticRegression]\n"
     ]
    },
    {
     "data": {
      "image/png": "[encoded data removed]",
      "text/plain": [
       "<Figure size 720x360 with 2 Axes>"
      ]
     },
     "metadata": {},
     "output_type": "display_data"
    }
   ],
   "source": [
    "from sklearn.metrics import accuracy_score, f1_score, precision_score, recall_score, confusion_matrix, ConfusionMatrixDisplay\n",
    "\n",
    "print(f'Accuracy: {accuracy_score(y_test, pred)} [{name}]')\n",
    "print(f'F1-score: {f1_score(y_test, pred, average=\"micro\")} [{name}]')\n",
    "print(f'Precision: {precision_score(y_test, pred, average=\"micro\")} [{name}]')\n",
    "print(f'Recall: {recall_score(y_test, pred, average=\"micro\")} [{name}]')\n",
    "print(f'Confusion Matrix: [{name}]')\n",
    "conf_m = ConfusionMatrixDisplay(confusion_matrix = confusion_matrix(y_test, pred), display_labels=[0,1,2,3,4])\n",
    "conf_m.plot()\n",
    "plt.show()"
   ]
  },
  {
   "attachments": {},
   "cell_type": "markdown",
   "metadata": {},
   "source": [
    "### Todos os modelos"
   ]
  },
  {
   "cell_type": "code",
   "execution_count": null,
   "metadata": {},
   "outputs": [],
   "source": [
    "from sklearn.metrics import accuracy_score, f1_score, precision_score, recall_score, confusion_matrix, ConfusionMatrixDisplay\n",
    "\n",
    "for name, model in lista_classifiers:\n",
    "    model.fit(X_train, y_train)\n",
    "    pred = model.predict(X_test)\n",
    "    print(f'Accuracy: {accuracy_score(y_test, pred)} [{name}]')\n",
    "    print(f'F1-score: {f1_score(y_test, pred, average=\"micro\")} [{name}]')\n",
    "    print(f'Precision: {precision_score(y_test, pred, average=\"micro\")} [{name}]')\n",
    "    print(f'Recall: {recall_score(y_test, pred, average=\"micro\")} [{name}]')\n",
    "    print(f'Confusion Matrix: [{name}]')\n",
    "    conf_m = ConfusionMatrixDisplay(confusion_matrix = confusion_matrix(y_test, pred), display_labels=[0,1,2,3,4])\n",
    "    conf_m.plot()\n",
    "    plt.show()\n",
    "    print(\"===========================================\")"
   ]
  },
  {
   "cell_type": "code",
   "execution_count": null,
   "metadata": {},
   "outputs": [],
   "source": []
  }
 ],
 "metadata": {
  "kernelspec": {
   "display_name": "base",
   "language": "python",
   "name": "python3"
  },
  "language_info": {
   "codemirror_mode": {
    "name": "ipython",
    "version": 3
   },
   "file_extension": ".py",
   "mimetype": "text/x-python",
   "name": "python",
   "nbconvert_exporter": "python",
   "pygments_lexer": "ipython3",
   "version": "3.9.12"
  },
  "orig_nbformat": 4
 },
 "nbformat": 4,
 "nbformat_minor": 2
}
