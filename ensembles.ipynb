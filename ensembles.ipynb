{
 "cells": [
  {
   "attachments": {},
   "cell_type": "markdown",
   "metadata": {},
   "source": [
    "# Project 1\n",
    "## The Net Wars: Attack of the Bots\n",
    "### Advanced Machine Learning - MECD (2022/2023)\n",
    "\n",
    "### Autores\n",
    "\n",
    "- Duarte Meneses - 2019216949\n",
    "- Patricia Costa - 2019213995"
   ]
  },
  {
   "cell_type": "code",
   "execution_count": 1,
   "metadata": {},
   "outputs": [
    {
     "name": "stderr",
     "output_type": "stream",
     "text": [
      "c:\\Users\\pcost\\anaconda3\\lib\\site-packages\\scipy\\__init__.py:146: UserWarning: A NumPy version >=1.16.5 and <1.23.0 is required for this version of SciPy (detected version 1.23.4\n",
      "  warnings.warn(f\"A NumPy version >={np_minversion} and <{np_maxversion}\"\n"
     ]
    }
   ],
   "source": [
    "import numpy as np\n",
    "import pandas as pd\n",
    "import matplotlib.pyplot as plt\n",
    "import matplotlib\n",
    "import seaborn as sns\n",
    "# Just to make plots look better\n",
    "plt.rcParams[\"figure.figsize\"] = (10,5)\n",
    "plt.rcParams['axes.grid'] = True\n",
    "plt.style.use('fivethirtyeight')\n",
    "plt.rcParams['figure.facecolor'] = 'white'\n",
    "plt.rcParams['axes.facecolor'] = 'white'\n",
    "plt.rcParams['lines.linewidth'] = 3"
   ]
  },
  {
   "attachments": {},
   "cell_type": "markdown",
   "metadata": {},
   "source": [
    "|Class  |Label |\n",
    "| ----- | ---- | \n",
    "|Normal\t|0     |\n",
    "|Dos\t|1     |\n",
    "|R2L\t|2     |\n",
    "|U2R\t|3     |\n",
    "|Probe\t|4     |"
   ]
  },
  {
   "cell_type": "code",
   "execution_count": 2,
   "metadata": {},
   "outputs": [],
   "source": [
    "PATH_TO_DATA = 'dataset/'\n",
    "\n",
    "test_students = pd.read_csv(PATH_TO_DATA + 'test_students.csv')\n",
    "\n",
    "train_students = pd.read_csv(PATH_TO_DATA + 'train_students.csv')"
   ]
  },
  {
   "cell_type": "code",
   "execution_count": 3,
   "metadata": {},
   "outputs": [],
   "source": [
    "train_students = pd.get_dummies(train_students, columns=['protocol_type'], drop_first=True)\n",
    "train_students = pd.get_dummies(train_students, columns=['service'], drop_first=True)\n",
    "train_students= pd.get_dummies(train_students, columns=['flag'], drop_first=True)"
   ]
  },
  {
   "cell_type": "code",
   "execution_count": 4,
   "metadata": {},
   "outputs": [],
   "source": [
    "train_students.replace('normal', 0, inplace=True)\n",
    "train_students.replace('Dos', 1, inplace=True)\n",
    "train_students.replace('R2L', 2, inplace=True)\n",
    "train_students.replace('U2R', 3, inplace=True)\n",
    "train_students.replace('Probe', 4, inplace=True)"
   ]
  },
  {
   "cell_type": "code",
   "execution_count": 5,
   "metadata": {},
   "outputs": [],
   "source": [
    "y_train = train_students['attack_type']\n",
    "X_train = train_students.drop('attack_type', axis=1)"
   ]
  },
  {
   "cell_type": "code",
   "execution_count": 6,
   "metadata": {},
   "outputs": [],
   "source": [
    "from sklearn.model_selection import train_test_split\n",
    "\n",
    "X_train, X_t, y_train, y_t = train_test_split(X_train, y_train, test_size=0.4, random_state=42)\n",
    "X_test, X_validation, y_test, y_validation = train_test_split(X_t, y_t, test_size=0.5, random_state=42)"
   ]
  },
  {
   "cell_type": "code",
   "execution_count": null,
   "metadata": {},
   "outputs": [],
   "source": [
    "from sklearn.linear_model import LogisticRegression\n",
    "from sklearn.svm import SVC\n",
    "from sklearn.neighbors import KNeighborsClassifier\n",
    "from sklearn.tree import DecisionTreeClassifier\n",
    "from sklearn.naive_bayes import GaussianNB\n",
    "from sklearn.ensemble import GradientBoostingClassifier, VotingClassifier\n",
    "\n",
    "lr = LogisticRegression(max_iter=1000)\n",
    "svc = SVC()\n",
    "knn = KNeighborsClassifier()\n",
    "dt = DecisionTreeClassifier()\n",
    "nb = GaussianNB()\n",
    "\n",
    "voting = VotingClassifier(estimators=[\n",
    "            ('lr', lr),\n",
    "            ('svc', svc),\n",
    "            ('knn', knn),\n",
    "            ('dt', dt),\n",
    "            ('nb', nb) ],\n",
    "            voting='hard')\n",
    "\n",
    "lista_classifiers = [lr, svc, knn, dt, nb, voting]\n",
    "\n",
    "from sklearn.metrics import accuracy_score, f1_score, precision_score, recall_score, confusion_matrix\n",
    "\n",
    "for cl in lista_classifiers:\n",
    "    cl.fit(X_train, y_train)\n",
    "    y_pred = cl.predict(X_validation)\n",
    "    print(\"Accuracy:\")\n",
    "    print(cl.__class__.__name__, accuracy_score(y_validation, y_pred))\n",
    "    print(\"F1-score:\")\n",
    "    print(cl.__class__.__name__, f1_score(y_validation, y_pred))\n",
    "    print(\"Precision:\")\n",
    "    print(cl.__class__.__name__, precision_score(y_validation, y_pred))\n",
    "    print(\"Recall:\")\n",
    "    print(cl.__class__.__name__, recall_score(y_validation, y_pred))"
   ]
  }
 ],
 "metadata": {
  "kernelspec": {
   "display_name": "base",
   "language": "python",
   "name": "python3"
  },
  "language_info": {
   "codemirror_mode": {
    "name": "ipython",
    "version": 3
   },
   "file_extension": ".py",
   "mimetype": "text/x-python",
   "name": "python",
   "nbconvert_exporter": "python",
   "pygments_lexer": "ipython3",
   "version": "3.9.12"
  },
  "orig_nbformat": 4
 },
 "nbformat": 4,
 "nbformat_minor": 2
}
