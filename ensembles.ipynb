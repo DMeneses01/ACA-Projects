{
 "cells": [
  {
   "attachments": {},
   "cell_type": "markdown",
   "metadata": {},
   "source": [
    "# Project 1\n",
    "## The Net Wars: Attack of the Bots\n",
    "### Advanced Machine Learning - MECD (2022/2023)\n",
    "\n",
    "### Autores\n",
    "\n",
    "- Duarte Meneses - 2019216949\n",
    "- Patricia Costa - 2019213995"
   ]
  },
  {
   "cell_type": "code",
   "execution_count": 2,
   "metadata": {},
   "outputs": [],
   "source": [
    "import numpy as np\n",
    "import pandas as pd\n",
    "import matplotlib.pyplot as plt\n",
    "import matplotlib\n",
    "import seaborn as sns\n",
    "# Just to make plots look better\n",
    "plt.rcParams[\"figure.figsize\"] = (10,5)\n",
    "plt.rcParams['axes.grid'] = True\n",
    "plt.style.use('fivethirtyeight')\n",
    "plt.rcParams['figure.facecolor'] = 'white'\n",
    "plt.rcParams['axes.facecolor'] = 'white'\n",
    "plt.rcParams['lines.linewidth'] = 3"
   ]
  },
  {
   "attachments": {},
   "cell_type": "markdown",
   "metadata": {},
   "source": [
    "|Class  |Label |\n",
    "| ----- | ---- | \n",
    "|Normal\t|0     |\n",
    "|Dos\t|1     |\n",
    "|R2L\t|2     |\n",
    "|U2R\t|3     |\n",
    "|Probe\t|4     |"
   ]
  },
  {
   "cell_type": "code",
   "execution_count": 3,
   "metadata": {},
   "outputs": [],
   "source": [
    "PATH_TO_DATA = 'dataset/'\n",
    "\n",
    "test_students = pd.read_csv(PATH_TO_DATA + 'test_students.csv')\n",
    "\n",
    "train_students = pd.read_csv(PATH_TO_DATA + 'train_students.csv')"
   ]
  },
  {
   "cell_type": "code",
   "execution_count": 4,
   "metadata": {},
   "outputs": [],
   "source": [
    "train_students = pd.get_dummies(train_students, columns=['protocol_type'], drop_first=True)\n",
    "train_students = pd.get_dummies(train_students, columns=['service'], drop_first=True)\n",
    "train_students= pd.get_dummies(train_students, columns=['flag'], drop_first=True)\n"
   ]
  },
  {
   "cell_type": "code",
   "execution_count": 10,
   "metadata": {},
   "outputs": [
    {
     "name": "stdout",
     "output_type": "stream",
     "text": [
      "        duration  src_bytes  dst_bytes  land  wrong_fragment  urgent  hot  \\\n",
      "0              1       2599        293     0               0       0    0   \n",
      "1              0          0          0     0               0       0    0   \n",
      "2              0        280      13254     0               0       0    0   \n",
      "3              0        230       1582     0               0       0    0   \n",
      "4              0        218        483     0               0       0    0   \n",
      "...          ...        ...        ...   ...             ...     ...  ...   \n",
      "103956         0          0          0     0               0       0    0   \n",
      "103957         0          0          0     0               0       0    0   \n",
      "103958         0          0         83     0               0       0    0   \n",
      "103959        50        226       2615     0               0       0    1   \n",
      "103960         0         43         70     0               0       0    0   \n",
      "\n",
      "        num_failed_logins  logged_in  num_compromised  ...  flag_REJ  \\\n",
      "0                       0          1                0  ...         0   \n",
      "1                       0          0                0  ...         0   \n",
      "2                       0          1                0  ...         0   \n",
      "3                       0          1                0  ...         0   \n",
      "4                       0          1                0  ...         0   \n",
      "...                   ...        ...              ...  ...       ...   \n",
      "103956                  0          0                0  ...         0   \n",
      "103957                  0          0                0  ...         0   \n",
      "103958                  0          1                0  ...         0   \n",
      "103959                  0          1                0  ...         0   \n",
      "103960                  0          0                0  ...         0   \n",
      "\n",
      "        flag_RSTO  flag_RSTOS0  flag_RSTR  flag_S0  flag_S1  flag_S2  flag_S3  \\\n",
      "0               0            0          0        0        0        0        0   \n",
      "1               0            0          0        1        0        0        0   \n",
      "2               0            0          0        0        0        0        0   \n",
      "3               0            0          0        0        0        0        0   \n",
      "4               0            0          0        0        0        0        0   \n",
      "...           ...          ...        ...      ...      ...      ...      ...   \n",
      "103956          1            0          0        0        0        0        0   \n",
      "103957          0            0          0        1        0        0        0   \n",
      "103958          0            0          0        0        0        0        0   \n",
      "103959          0            0          0        0        0        0        0   \n",
      "103960          0            0          0        0        0        0        0   \n",
      "\n",
      "        flag_SF  flag_SH  \n",
      "0             1        0  \n",
      "1             0        0  \n",
      "2             1        0  \n",
      "3             1        0  \n",
      "4             1        0  \n",
      "...         ...      ...  \n",
      "103956        0        0  \n",
      "103957        0        0  \n",
      "103958        1        0  \n",
      "103959        1        0  \n",
      "103960        1        0  \n",
      "\n",
      "[103961 rows x 119 columns]\n"
     ]
    }
   ],
   "source": [
    "print(train_students)"
   ]
  },
  {
   "cell_type": "code",
   "execution_count": 5,
   "metadata": {},
   "outputs": [],
   "source": [
    "train_students.replace('normal', 0, inplace=True)\n",
    "train_students.replace('Dos', 1, inplace=True)\n",
    "train_students.replace('R2L', 2, inplace=True)\n",
    "train_students.replace('U2R', 3, inplace=True)\n",
    "train_students.replace('Probe', 4, inplace=True)\n"
   ]
  },
  {
   "cell_type": "code",
   "execution_count": 6,
   "metadata": {},
   "outputs": [],
   "source": [
    "y_train = train_students['attack_type']\n",
    "X_train = train_students.drop('attack_type', axis=1)"
   ]
  },
  {
   "cell_type": "code",
   "execution_count": 7,
   "metadata": {},
   "outputs": [],
   "source": [
    "from sklearn.model_selection import train_test_split\n",
    "\n",
    "X_train, X_t, y_train, y_t = train_test_split(X_train, y_train, test_size=0.4, random_state=42)\n",
    "X_test, X_validation, y_test, y_validation = train_test_split(X_t, y_t, test_size=0.5, random_state=42)"
   ]
  },
  {
   "cell_type": "code",
   "execution_count": 12,
   "metadata": {},
   "outputs": [
    {
     "name": "stderr",
     "output_type": "stream",
     "text": [
      "c:\\Users\\emanu\\anaconda3\\lib\\site-packages\\sklearn\\linear_model\\_logistic.py:814: ConvergenceWarning: lbfgs failed to converge (status=1):\n",
      "STOP: TOTAL NO. of ITERATIONS REACHED LIMIT.\n",
      "\n",
      "Increase the number of iterations (max_iter) or scale the data as shown in:\n",
      "    https://scikit-learn.org/stable/modules/preprocessing.html\n",
      "Please also refer to the documentation for alternative solver options:\n",
      "    https://scikit-learn.org/stable/modules/linear_model.html#logistic-regression\n",
      "  n_iter_i = _check_optimize_result(\n"
     ]
    },
    {
     "name": "stdout",
     "output_type": "stream",
     "text": [
      "Accuracy:\n",
      "LogisticRegression 0.7980570384263935\n",
      "F1-score:\n",
      "LogisticRegression 0.7980570384263935\n",
      "Precision:\n",
      "LogisticRegression 0.7980570384263935\n",
      "Recall:\n",
      "LogisticRegression 0.7980570384263935\n",
      "Accuracy:\n",
      "SVC 0.5192131967489059\n",
      "F1-score:\n",
      "SVC 0.5192131967489059\n",
      "Precision:\n",
      "SVC 0.5192131967489059\n",
      "Recall:\n",
      "SVC 0.5192131967489059\n",
      "Accuracy:\n",
      "KNeighborsClassifier 0.981147501563026\n",
      "F1-score:\n",
      "KNeighborsClassifier 0.981147501563026\n",
      "Precision:\n",
      "KNeighborsClassifier 0.981147501563026\n",
      "Recall:\n",
      "KNeighborsClassifier 0.981147501563026\n",
      "Accuracy:\n",
      "DecisionTreeClassifier 0.9928822199778772\n",
      "F1-score:\n",
      "DecisionTreeClassifier 0.9928822199778772\n",
      "Precision:\n",
      "DecisionTreeClassifier 0.9928822199778772\n",
      "Recall:\n",
      "DecisionTreeClassifier 0.9928822199778772\n",
      "Accuracy:\n",
      "GaussianNB 0.4274034530851729\n",
      "F1-score:\n",
      "GaussianNB 0.4274034530851729\n",
      "Precision:\n",
      "GaussianNB 0.4274034530851729\n",
      "Recall:\n",
      "GaussianNB 0.4274034530851729\n"
     ]
    },
    {
     "name": "stderr",
     "output_type": "stream",
     "text": [
      "c:\\Users\\emanu\\anaconda3\\lib\\site-packages\\sklearn\\linear_model\\_logistic.py:814: ConvergenceWarning: lbfgs failed to converge (status=1):\n",
      "STOP: TOTAL NO. of ITERATIONS REACHED LIMIT.\n",
      "\n",
      "Increase the number of iterations (max_iter) or scale the data as shown in:\n",
      "    https://scikit-learn.org/stable/modules/preprocessing.html\n",
      "Please also refer to the documentation for alternative solver options:\n",
      "    https://scikit-learn.org/stable/modules/linear_model.html#logistic-regression\n",
      "  n_iter_i = _check_optimize_result(\n"
     ]
    },
    {
     "name": "stdout",
     "output_type": "stream",
     "text": [
      "Accuracy:\n",
      "VotingClassifier 0.8644736209301207\n",
      "F1-score:\n",
      "VotingClassifier 0.8644736209301207\n",
      "Precision:\n",
      "VotingClassifier 0.8644736209301207\n",
      "Recall:\n",
      "VotingClassifier 0.8644736209301207\n"
     ]
    }
   ],
   "source": [
    "from sklearn.linear_model import LogisticRegression\n",
    "from sklearn.svm import SVC\n",
    "from sklearn.neighbors import KNeighborsClassifier\n",
    "from sklearn.tree import DecisionTreeClassifier\n",
    "from sklearn.naive_bayes import GaussianNB\n",
    "from sklearn.ensemble import GradientBoostingClassifier, VotingClassifier\n",
    "\n",
    "lr = LogisticRegression(max_iter=1000)\n",
    "svc = SVC()\n",
    "knn = KNeighborsClassifier()\n",
    "dt = DecisionTreeClassifier()\n",
    "nb = GaussianNB()\n",
    "\n",
    "voting = VotingClassifier(estimators=[\n",
    "            ('lr', lr),\n",
    "            ('svc', svc),\n",
    "            ('knn', knn),\n",
    "            ('dt', dt),\n",
    "            ('nb', nb) ],\n",
    "            voting='hard')\n",
    "\n",
    "lista_classifiers = [lr, svc, knn, dt, nb, voting]\n",
    "\n",
    "from sklearn.metrics import accuracy_score, f1_score, precision_score, recall_score, confusion_matrix\n",
    "\n",
    "for cl in lista_classifiers:\n",
    "    cl.fit(X_train, y_train)\n",
    "    y_pred = cl.predict(X_validation)\n",
    "    print(\"Accuracy:\")\n",
    "    print(cl.__class__.__name__, accuracy_score(y_validation, y_pred))\n",
    "    print(\"F1-score:\")\n",
    "    print(cl.__class__.__name__, f1_score(y_validation, y_pred, average='micro'))\n",
    "    print(\"Precision:\")\n",
    "    print(cl.__class__.__name__, precision_score(y_validation, y_pred, average='micro'))\n",
    "    print(\"Recall:\")\n",
    "    print(cl.__class__.__name__, recall_score(y_validation, y_pred, average='micro'))"
   ]
  },
  {
   "cell_type": "code",
   "execution_count": null,
   "metadata": {},
   "outputs": [],
   "source": []
  }
 ],
 "metadata": {
  "kernelspec": {
   "display_name": "base",
   "language": "python",
   "name": "python3"
  },
  "language_info": {
   "codemirror_mode": {
    "name": "ipython",
    "version": 3
   },
   "file_extension": ".py",
   "mimetype": "text/x-python",
   "name": "python",
   "nbconvert_exporter": "python",
   "pygments_lexer": "ipython3",
   "version": "3.9.12"
  },
  "orig_nbformat": 4
 },
 "nbformat": 4,
 "nbformat_minor": 2
}
