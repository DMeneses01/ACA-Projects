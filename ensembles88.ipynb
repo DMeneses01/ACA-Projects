{
 "cells": [
  {
   "attachments": {},
   "cell_type": "markdown",
   "metadata": {},
   "source": [
    "# Project 1\n",
    "## The Net Wars: Attack of the Bots\n",
    "### Advanced Machine Learning - MECD (2022/2023)\n",
    "\n",
    "### Autores\n",
    "\n",
    "- Duarte Meneses - 2019216949\n",
    "- Patricia Costa - 2019213995"
   ]
  },
  {
   "cell_type": "code",
   "execution_count": 1,
   "metadata": {},
   "outputs": [],
   "source": [
    "import numpy as np\n",
    "import pandas as pd\n",
    "import matplotlib.pyplot as plt\n",
    "import matplotlib\n",
    "import seaborn as sns\n",
    "# Just to make plots look better\n",
    "plt.rcParams[\"figure.figsize\"] = (10,5)\n",
    "plt.rcParams['axes.grid'] = True\n",
    "plt.style.use('fivethirtyeight')\n",
    "plt.rcParams['figure.facecolor'] = 'white'\n",
    "plt.rcParams['axes.facecolor'] = 'white'\n",
    "plt.rcParams['lines.linewidth'] = 3"
   ]
  },
  {
   "attachments": {},
   "cell_type": "markdown",
   "metadata": {},
   "source": [
    "|Class  |Label |\n",
    "| ----- | ---- | \n",
    "|Normal\t|0     |\n",
    "|Dos\t|1     |\n",
    "|R2L\t|2     |\n",
    "|U2R\t|3     |\n",
    "|Probe\t|4     |"
   ]
  },
  {
   "cell_type": "code",
   "execution_count": 2,
   "metadata": {},
   "outputs": [],
   "source": [
    "PATH_TO_DATA = 'dataset/'\n",
    "\n",
    "test_students = pd.read_csv(PATH_TO_DATA + 'test_students.csv')\n",
    "SampleID = test_students['SampleID']\n",
    "\n",
    "train_students = pd.read_csv(PATH_TO_DATA + 'train_students.csv')\n"
   ]
  },
  {
   "cell_type": "code",
   "execution_count": 3,
   "metadata": {},
   "outputs": [],
   "source": [
    "test_students = test_students.drop('SampleID', axis=1)"
   ]
  },
  {
   "attachments": {},
   "cell_type": "markdown",
   "metadata": {},
   "source": [
    "### Check Nulls and DataType"
   ]
  },
  {
   "cell_type": "code",
   "execution_count": 4,
   "metadata": {},
   "outputs": [
    {
     "name": "stdout",
     "output_type": "stream",
     "text": [
      "<class 'pandas.core.frame.DataFrame'>\n",
      "RangeIndex: 44556 entries, 0 to 44555\n",
      "Data columns (total 41 columns):\n",
      " #   Column                       Non-Null Count  Dtype  \n",
      "---  ------                       --------------  -----  \n",
      " 0   duration                     44556 non-null  int64  \n",
      " 1   protocol_type                44556 non-null  object \n",
      " 2   service                      44556 non-null  object \n",
      " 3   flag                         44556 non-null  object \n",
      " 4   src_bytes                    44556 non-null  int64  \n",
      " 5   dst_bytes                    44556 non-null  int64  \n",
      " 6   land                         44556 non-null  int64  \n",
      " 7   wrong_fragment               44556 non-null  int64  \n",
      " 8   urgent                       44556 non-null  int64  \n",
      " 9   hot                          44556 non-null  int64  \n",
      " 10  num_failed_logins            44556 non-null  int64  \n",
      " 11  logged_in                    44556 non-null  int64  \n",
      " 12  num_compromised              44556 non-null  int64  \n",
      " 13  root_shell                   44556 non-null  int64  \n",
      " 14  su_attempted                 44556 non-null  int64  \n",
      " 15  num_root                     44556 non-null  int64  \n",
      " 16  num_file_creations           44556 non-null  int64  \n",
      " 17  num_shells                   44556 non-null  int64  \n",
      " 18  num_access_files             44556 non-null  int64  \n",
      " 19  num_outbound_cmds            44556 non-null  int64  \n",
      " 20  is_host_login                44556 non-null  int64  \n",
      " 21  is_guest_login               44556 non-null  int64  \n",
      " 22  count                        44556 non-null  int64  \n",
      " 23  srv_count                    44556 non-null  int64  \n",
      " 24  serror_rate                  44556 non-null  float64\n",
      " 25  srv_serror_rate              44556 non-null  float64\n",
      " 26  rerror_rate                  44556 non-null  float64\n",
      " 27  srv_rerror_rate              44556 non-null  float64\n",
      " 28  same_srv_rate                44556 non-null  float64\n",
      " 29  diff_srv_rate                44556 non-null  float64\n",
      " 30  srv_diff_host_rate           44556 non-null  float64\n",
      " 31  dst_host_count               44556 non-null  int64  \n",
      " 32  dst_host_srv_count           44556 non-null  int64  \n",
      " 33  dst_host_same_srv_rate       44556 non-null  float64\n",
      " 34  dst_host_diff_srv_rate       44556 non-null  float64\n",
      " 35  dst_host_same_src_port_rate  44556 non-null  float64\n",
      " 36  dst_host_srv_diff_host_rate  44556 non-null  float64\n",
      " 37  dst_host_serror_rate         44556 non-null  float64\n",
      " 38  dst_host_srv_serror_rate     44556 non-null  float64\n",
      " 39  dst_host_rerror_rate         44556 non-null  float64\n",
      " 40  dst_host_srv_rerror_rate     44556 non-null  float64\n",
      "dtypes: float64(15), int64(23), object(3)\n",
      "memory usage: 13.9+ MB\n",
      "None\n",
      "<class 'pandas.core.frame.DataFrame'>\n",
      "RangeIndex: 103961 entries, 0 to 103960\n",
      "Data columns (total 42 columns):\n",
      " #   Column                       Non-Null Count   Dtype  \n",
      "---  ------                       --------------   -----  \n",
      " 0   duration                     103961 non-null  int64  \n",
      " 1   protocol_type                103961 non-null  object \n",
      " 2   service                      103961 non-null  object \n",
      " 3   flag                         103961 non-null  object \n",
      " 4   src_bytes                    103961 non-null  int64  \n",
      " 5   dst_bytes                    103961 non-null  int64  \n",
      " 6   land                         103961 non-null  int64  \n",
      " 7   wrong_fragment               103961 non-null  int64  \n",
      " 8   urgent                       103961 non-null  int64  \n",
      " 9   hot                          103961 non-null  int64  \n",
      " 10  num_failed_logins            103961 non-null  int64  \n",
      " 11  logged_in                    103961 non-null  int64  \n",
      " 12  num_compromised              103961 non-null  int64  \n",
      " 13  root_shell                   103961 non-null  int64  \n",
      " 14  su_attempted                 103961 non-null  int64  \n",
      " 15  num_root                     103961 non-null  int64  \n",
      " 16  num_file_creations           103961 non-null  int64  \n",
      " 17  num_shells                   103961 non-null  int64  \n",
      " 18  num_access_files             103961 non-null  int64  \n",
      " 19  num_outbound_cmds            103961 non-null  int64  \n",
      " 20  is_host_login                103961 non-null  int64  \n",
      " 21  is_guest_login               103961 non-null  int64  \n",
      " 22  count                        103961 non-null  int64  \n",
      " 23  srv_count                    103961 non-null  int64  \n",
      " 24  serror_rate                  103961 non-null  float64\n",
      " 25  srv_serror_rate              103961 non-null  float64\n",
      " 26  rerror_rate                  103961 non-null  float64\n",
      " 27  srv_rerror_rate              103961 non-null  float64\n",
      " 28  same_srv_rate                103961 non-null  float64\n",
      " 29  diff_srv_rate                103961 non-null  float64\n",
      " 30  srv_diff_host_rate           103961 non-null  float64\n",
      " 31  dst_host_count               103961 non-null  int64  \n",
      " 32  dst_host_srv_count           103961 non-null  int64  \n",
      " 33  dst_host_same_srv_rate       103961 non-null  float64\n",
      " 34  dst_host_diff_srv_rate       103961 non-null  float64\n",
      " 35  dst_host_same_src_port_rate  103961 non-null  float64\n",
      " 36  dst_host_srv_diff_host_rate  103961 non-null  float64\n",
      " 37  dst_host_serror_rate         103961 non-null  float64\n",
      " 38  dst_host_srv_serror_rate     103961 non-null  float64\n",
      " 39  dst_host_rerror_rate         103961 non-null  float64\n",
      " 40  dst_host_srv_rerror_rate     103961 non-null  float64\n",
      " 41  attack_type                  103961 non-null  object \n",
      "dtypes: float64(15), int64(23), object(4)\n",
      "memory usage: 33.3+ MB\n",
      "None\n"
     ]
    }
   ],
   "source": [
    "print(test_students.info())\n",
    "print(train_students.info())"
   ]
  },
  {
   "cell_type": "code",
   "execution_count": 5,
   "metadata": {},
   "outputs": [],
   "source": [
    "train_students.replace('normal', 0, inplace=True)\n",
    "train_students.replace('Dos', 1, inplace=True)\n",
    "train_students.replace('R2L', 2, inplace=True)\n",
    "train_students.replace('U2R', 3, inplace=True)\n",
    "train_students.replace('Probe', 4, inplace=True)\n"
   ]
  },
  {
   "cell_type": "code",
   "execution_count": 6,
   "metadata": {},
   "outputs": [
    {
     "data": {
      "text/plain": [
       "0    0.518964\n",
       "1    0.358846\n",
       "4    0.095545\n",
       "2    0.025808\n",
       "3    0.000837\n",
       "Name: attack_type, dtype: float64"
      ]
     },
     "execution_count": 6,
     "metadata": {},
     "output_type": "execute_result"
    }
   ],
   "source": [
    "train_students['attack_type'].value_counts(normalize = True)"
   ]
  },
  {
   "attachments": {},
   "cell_type": "markdown",
   "metadata": {},
   "source": [
    "### Categorical"
   ]
  },
  {
   "cell_type": "code",
   "execution_count": 7,
   "metadata": {},
   "outputs": [],
   "source": [
    "#Service não contêm o mesmo núemero de valores\n",
    "train_students = train_students.drop('service', axis=1)\n",
    "test_students = test_students.drop('service', axis=1)\n",
    "\n",
    "train_students = pd.get_dummies(train_students, columns=['protocol_type'], drop_first=True)\n",
    "#train_students = train_students.drop('service', axis=1)\n",
    "#train_students = pd.get_dummies(train_students, columns=['service'], drop_first=True)\n",
    "train_students= pd.get_dummies(train_students, columns=['flag'], drop_first=True)\n",
    "\n",
    "test_students = pd.get_dummies(test_students, columns=['protocol_type'], drop_first=True)\n",
    "#test_students = test_students.drop('service', axis=1)\n",
    "#test_students = pd.get_dummies(test_students, columns=['service'], drop_first=True)\n",
    "test_students= pd.get_dummies(test_students, columns=['flag'], drop_first=True)\n"
   ]
  },
  {
   "attachments": {},
   "cell_type": "markdown",
   "metadata": {},
   "source": [
    "### Target"
   ]
  },
  {
   "cell_type": "code",
   "execution_count": 8,
   "metadata": {},
   "outputs": [],
   "source": [
    "y_train = train_students['attack_type']\n",
    "X_train = train_students.drop(columns=['attack_type'], axis=1)"
   ]
  },
  {
   "attachments": {},
   "cell_type": "markdown",
   "metadata": {},
   "source": [
    "### Train, Validation, Test"
   ]
  },
  {
   "cell_type": "code",
   "execution_count": 9,
   "metadata": {},
   "outputs": [],
   "source": [
    "from sklearn.model_selection import train_test_split\n",
    "\n",
    "X_train, X_test, y_train, y_test = train_test_split(X_train, y_train, test_size=0.2, random_state=42, stratify=y_train)"
   ]
  },
  {
   "attachments": {},
   "cell_type": "markdown",
   "metadata": {},
   "source": [
    "### Number os records"
   ]
  },
  {
   "cell_type": "code",
   "execution_count": 10,
   "metadata": {},
   "outputs": [
    {
     "name": "stdout",
     "output_type": "stream",
     "text": [
      "The number of records in the training dataset is 83168\n",
      "The number of records in the test dataset is 20793\n",
      "The training dataset has [(0, 43161), (1, 29845), (2, 2146), (3, 70), (4, 7946)] records for each class\n"
     ]
    }
   ],
   "source": [
    "from collections import Counter\n",
    "\n",
    "# Check the number of records\n",
    "print('The number of records in the training dataset is', X_train.shape[0])\n",
    "print('The number of records in the test dataset is', X_test.shape[0])\n",
    "print(f\"The training dataset has {sorted(Counter(y_train).items())} records for each class\")"
   ]
  },
  {
   "attachments": {},
   "cell_type": "markdown",
   "metadata": {},
   "source": [
    "### Ensemble"
   ]
  },
  {
   "cell_type": "code",
   "execution_count": 11,
   "metadata": {},
   "outputs": [
    {
     "data": {
      "text/html": [
       "<style>#sk-container-id-1 {color: black;background-color: white;}#sk-container-id-1 pre{padding: 0;}#sk-container-id-1 div.sk-toggleable {background-color: white;}#sk-container-id-1 label.sk-toggleable__label {cursor: pointer;display: block;width: 100%;margin-bottom: 0;padding: 0.3em;box-sizing: border-box;text-align: center;}#sk-container-id-1 label.sk-toggleable__label-arrow:before {content: \"▸\";float: left;margin-right: 0.25em;color: #696969;}#sk-container-id-1 label.sk-toggleable__label-arrow:hover:before {color: black;}#sk-container-id-1 div.sk-estimator:hover label.sk-toggleable__label-arrow:before {color: black;}#sk-container-id-1 div.sk-toggleable__content {max-height: 0;max-width: 0;overflow: hidden;text-align: left;background-color: #f0f8ff;}#sk-container-id-1 div.sk-toggleable__content pre {margin: 0.2em;color: black;border-radius: 0.25em;background-color: #f0f8ff;}#sk-container-id-1 input.sk-toggleable__control:checked~div.sk-toggleable__content {max-height: 200px;max-width: 100%;overflow: auto;}#sk-container-id-1 input.sk-toggleable__control:checked~label.sk-toggleable__label-arrow:before {content: \"▾\";}#sk-container-id-1 div.sk-estimator input.sk-toggleable__control:checked~label.sk-toggleable__label {background-color: #d4ebff;}#sk-container-id-1 div.sk-label input.sk-toggleable__control:checked~label.sk-toggleable__label {background-color: #d4ebff;}#sk-container-id-1 input.sk-hidden--visually {border: 0;clip: rect(1px 1px 1px 1px);clip: rect(1px, 1px, 1px, 1px);height: 1px;margin: -1px;overflow: hidden;padding: 0;position: absolute;width: 1px;}#sk-container-id-1 div.sk-estimator {font-family: monospace;background-color: #f0f8ff;border: 1px dotted black;border-radius: 0.25em;box-sizing: border-box;margin-bottom: 0.5em;}#sk-container-id-1 div.sk-estimator:hover {background-color: #d4ebff;}#sk-container-id-1 div.sk-parallel-item::after {content: \"\";width: 100%;border-bottom: 1px solid gray;flex-grow: 1;}#sk-container-id-1 div.sk-label:hover label.sk-toggleable__label {background-color: #d4ebff;}#sk-container-id-1 div.sk-serial::before {content: \"\";position: absolute;border-left: 1px solid gray;box-sizing: border-box;top: 0;bottom: 0;left: 50%;z-index: 0;}#sk-container-id-1 div.sk-serial {display: flex;flex-direction: column;align-items: center;background-color: white;padding-right: 0.2em;padding-left: 0.2em;position: relative;}#sk-container-id-1 div.sk-item {position: relative;z-index: 1;}#sk-container-id-1 div.sk-parallel {display: flex;align-items: stretch;justify-content: center;background-color: white;position: relative;}#sk-container-id-1 div.sk-item::before, #sk-container-id-1 div.sk-parallel-item::before {content: \"\";position: absolute;border-left: 1px solid gray;box-sizing: border-box;top: 0;bottom: 0;left: 50%;z-index: -1;}#sk-container-id-1 div.sk-parallel-item {display: flex;flex-direction: column;z-index: 1;position: relative;background-color: white;}#sk-container-id-1 div.sk-parallel-item:first-child::after {align-self: flex-end;width: 50%;}#sk-container-id-1 div.sk-parallel-item:last-child::after {align-self: flex-start;width: 50%;}#sk-container-id-1 div.sk-parallel-item:only-child::after {width: 0;}#sk-container-id-1 div.sk-dashed-wrapped {border: 1px dashed gray;margin: 0 0.4em 0.5em 0.4em;box-sizing: border-box;padding-bottom: 0.4em;background-color: white;}#sk-container-id-1 div.sk-label label {font-family: monospace;font-weight: bold;display: inline-block;line-height: 1.2em;}#sk-container-id-1 div.sk-label-container {text-align: center;}#sk-container-id-1 div.sk-container {/* jupyter's `normalize.less` sets `[hidden] { display: none; }` but bootstrap.min.css set `[hidden] { display: none !important; }` so we also need the `!important` here to be able to override the default hidden behavior on the sphinx rendered scikit-learn.org. See: https://github.com/scikit-learn/scikit-learn/issues/21755 */display: inline-block !important;position: relative;}#sk-container-id-1 div.sk-text-repr-fallback {display: none;}</style><div id=\"sk-container-id-1\" class=\"sk-top-container\"><div class=\"sk-text-repr-fallback\"><pre>GridSearchCV(cv=5,\n",
       "             estimator=VotingClassifier(estimators=[(&#x27;lr&#x27;,\n",
       "                                                     LogisticRegression(max_iter=1000,\n",
       "                                                                        random_state=42)),\n",
       "                                                    (&#x27;kn&#x27;,\n",
       "                                                     KNeighborsClassifier()),\n",
       "                                                    (&#x27;dt&#x27;,\n",
       "                                                     DecisionTreeClassifier(random_state=42)),\n",
       "                                                    (&#x27;rf&#x27;,\n",
       "                                                     RandomForestClassifier(random_state=42))],\n",
       "                                        voting=&#x27;soft&#x27;),\n",
       "             param_grid={}, refit=&#x27;accuracy&#x27;,\n",
       "             scoring=[&#x27;accuracy&#x27;, &#x27;precision&#x27;, &#x27;recall&#x27;, &#x27;f1_micro&#x27;])</pre><b>In a Jupyter environment, please rerun this cell to show the HTML representation or trust the notebook. <br />On GitHub, the HTML representation is unable to render, please try loading this page with nbviewer.org.</b></div><div class=\"sk-container\" hidden><div class=\"sk-item sk-dashed-wrapped\"><div class=\"sk-label-container\"><div class=\"sk-label sk-toggleable\"><input class=\"sk-toggleable__control sk-hidden--visually\" id=\"sk-estimator-id-1\" type=\"checkbox\" ><label for=\"sk-estimator-id-1\" class=\"sk-toggleable__label sk-toggleable__label-arrow\">GridSearchCV</label><div class=\"sk-toggleable__content\"><pre>GridSearchCV(cv=5,\n",
       "             estimator=VotingClassifier(estimators=[(&#x27;lr&#x27;,\n",
       "                                                     LogisticRegression(max_iter=1000,\n",
       "                                                                        random_state=42)),\n",
       "                                                    (&#x27;kn&#x27;,\n",
       "                                                     KNeighborsClassifier()),\n",
       "                                                    (&#x27;dt&#x27;,\n",
       "                                                     DecisionTreeClassifier(random_state=42)),\n",
       "                                                    (&#x27;rf&#x27;,\n",
       "                                                     RandomForestClassifier(random_state=42))],\n",
       "                                        voting=&#x27;soft&#x27;),\n",
       "             param_grid={}, refit=&#x27;accuracy&#x27;,\n",
       "             scoring=[&#x27;accuracy&#x27;, &#x27;precision&#x27;, &#x27;recall&#x27;, &#x27;f1_micro&#x27;])</pre></div></div></div><div class=\"sk-parallel\"><div class=\"sk-parallel-item\"><div class=\"sk-item\"><div class=\"sk-label-container\"><div class=\"sk-label sk-toggleable\"><input class=\"sk-toggleable__control sk-hidden--visually\" id=\"sk-estimator-id-2\" type=\"checkbox\" ><label for=\"sk-estimator-id-2\" class=\"sk-toggleable__label sk-toggleable__label-arrow\">estimator: VotingClassifier</label><div class=\"sk-toggleable__content\"><pre>VotingClassifier(estimators=[(&#x27;lr&#x27;,\n",
       "                              LogisticRegression(max_iter=1000,\n",
       "                                                 random_state=42)),\n",
       "                             (&#x27;kn&#x27;, KNeighborsClassifier()),\n",
       "                             (&#x27;dt&#x27;, DecisionTreeClassifier(random_state=42)),\n",
       "                             (&#x27;rf&#x27;, RandomForestClassifier(random_state=42))],\n",
       "                 voting=&#x27;soft&#x27;)</pre></div></div></div><div class=\"sk-serial\"><div class=\"sk-item sk-dashed-wrapped\"><div class=\"sk-parallel\"><div class=\"sk-parallel-item\"><div class=\"sk-item\"><div class=\"sk-label-container\"><div class=\"sk-label sk-toggleable\"><label>lr</label></div></div><div class=\"sk-serial\"><div class=\"sk-item\"><div class=\"sk-estimator sk-toggleable\"><input class=\"sk-toggleable__control sk-hidden--visually\" id=\"sk-estimator-id-3\" type=\"checkbox\" ><label for=\"sk-estimator-id-3\" class=\"sk-toggleable__label sk-toggleable__label-arrow\">LogisticRegression</label><div class=\"sk-toggleable__content\"><pre>LogisticRegression(max_iter=1000, random_state=42)</pre></div></div></div></div></div></div><div class=\"sk-parallel-item\"><div class=\"sk-item\"><div class=\"sk-label-container\"><div class=\"sk-label sk-toggleable\"><label>kn</label></div></div><div class=\"sk-serial\"><div class=\"sk-item\"><div class=\"sk-estimator sk-toggleable\"><input class=\"sk-toggleable__control sk-hidden--visually\" id=\"sk-estimator-id-4\" type=\"checkbox\" ><label for=\"sk-estimator-id-4\" class=\"sk-toggleable__label sk-toggleable__label-arrow\">KNeighborsClassifier</label><div class=\"sk-toggleable__content\"><pre>KNeighborsClassifier()</pre></div></div></div></div></div></div><div class=\"sk-parallel-item\"><div class=\"sk-item\"><div class=\"sk-label-container\"><div class=\"sk-label sk-toggleable\"><label>dt</label></div></div><div class=\"sk-serial\"><div class=\"sk-item\"><div class=\"sk-estimator sk-toggleable\"><input class=\"sk-toggleable__control sk-hidden--visually\" id=\"sk-estimator-id-5\" type=\"checkbox\" ><label for=\"sk-estimator-id-5\" class=\"sk-toggleable__label sk-toggleable__label-arrow\">DecisionTreeClassifier</label><div class=\"sk-toggleable__content\"><pre>DecisionTreeClassifier(random_state=42)</pre></div></div></div></div></div></div><div class=\"sk-parallel-item\"><div class=\"sk-item\"><div class=\"sk-label-container\"><div class=\"sk-label sk-toggleable\"><label>rf</label></div></div><div class=\"sk-serial\"><div class=\"sk-item\"><div class=\"sk-estimator sk-toggleable\"><input class=\"sk-toggleable__control sk-hidden--visually\" id=\"sk-estimator-id-6\" type=\"checkbox\" ><label for=\"sk-estimator-id-6\" class=\"sk-toggleable__label sk-toggleable__label-arrow\">RandomForestClassifier</label><div class=\"sk-toggleable__content\"><pre>RandomForestClassifier(random_state=42)</pre></div></div></div></div></div></div></div></div></div></div></div></div></div></div></div>"
      ],
      "text/plain": [
       "GridSearchCV(cv=5,\n",
       "             estimator=VotingClassifier(estimators=[('lr',\n",
       "                                                     LogisticRegression(max_iter=1000,\n",
       "                                                                        random_state=42)),\n",
       "                                                    ('kn',\n",
       "                                                     KNeighborsClassifier()),\n",
       "                                                    ('dt',\n",
       "                                                     DecisionTreeClassifier(random_state=42)),\n",
       "                                                    ('rf',\n",
       "                                                     RandomForestClassifier(random_state=42))],\n",
       "                                        voting='soft'),\n",
       "             param_grid={}, refit='accuracy',\n",
       "             scoring=['accuracy', 'precision', 'recall', 'f1_micro'])"
      ]
     },
     "execution_count": 11,
     "metadata": {},
     "output_type": "execute_result"
    }
   ],
   "source": [
    "from sklearn.linear_model import LogisticRegression\n",
    "from sklearn.neighbors import KNeighborsClassifier\n",
    "from sklearn.tree import DecisionTreeClassifier\n",
    "from sklearn.ensemble import VotingClassifier, RandomForestClassifier\n",
    "from sklearn.model_selection import cross_val_score\n",
    "from sklearn.model_selection import GridSearchCV\n",
    "import warnings\n",
    "\n",
    "warnings.filterwarnings('ignore')\n",
    "\n",
    "lr = LogisticRegression(max_iter=1000, random_state=42)\n",
    "knn = KNeighborsClassifier()\n",
    "dt = DecisionTreeClassifier(random_state=42)\n",
    "rf = RandomForestClassifier(random_state=42)\n",
    "\n",
    "voting = VotingClassifier(\n",
    "    estimators=[\n",
    "        ('lr', lr),\n",
    "        ('kn', knn), \n",
    "        ('dt', dt), \n",
    "        ('rf', rf)\n",
    "    ],\n",
    "    voting='soft'\n",
    ")\n",
    "\n",
    "ensemble = GridSearchCV(\n",
    "    voting,\n",
    "    {},\n",
    "    scoring=['accuracy', 'precision', 'recall', 'f1_micro'],\n",
    "    refit='accuracy',\n",
    "    cv=5\n",
    ")\n",
    "\n",
    "ensemble.fit(X_train, y_train)"
   ]
  },
  {
   "cell_type": "code",
   "execution_count": 12,
   "metadata": {},
   "outputs": [],
   "source": [
    "lista_classifiers = [('LogisticRegression', lr), ('KNeighborsClassifier', knn), ('DecisionTreeClassifier', dt), ('RandomForestClassifier', rf), ('VotingClassifier', voting)]"
   ]
  },
  {
   "attachments": {},
   "cell_type": "markdown",
   "metadata": {},
   "source": [
    "### Each model"
   ]
  },
  {
   "cell_type": "code",
   "execution_count": 13,
   "metadata": {},
   "outputs": [
    {
     "name": "stdout",
     "output_type": "stream",
     "text": [
      "              precision    recall  f1-score   support\n",
      "\n",
      "           0       0.83      0.90      0.86     10791\n",
      "           1       0.75      0.90      0.82      7461\n",
      "           2       0.00      0.00      0.00       537\n",
      "           3       0.00      0.00      0.00        17\n",
      "           4       0.52      0.06      0.10      1987\n",
      "\n",
      "    accuracy                           0.80     20793\n",
      "   macro avg       0.42      0.37      0.36     20793\n",
      "weighted avg       0.75      0.80      0.75     20793\n",
      "\n",
      "=========================================\n",
      "              precision    recall  f1-score   support\n",
      "\n",
      "           0       0.99      0.99      0.99     10791\n",
      "           1       0.99      1.00      0.99      7461\n",
      "           2       0.89      0.91      0.90       537\n",
      "           3       0.33      0.12      0.17        17\n",
      "           4       0.96      0.93      0.94      1987\n",
      "\n",
      "    accuracy                           0.98     20793\n",
      "   macro avg       0.83      0.79      0.80     20793\n",
      "weighted avg       0.98      0.98      0.98     20793\n",
      "\n",
      "=========================================\n",
      "              precision    recall  f1-score   support\n",
      "\n",
      "           0       0.99      0.99      0.99     10791\n",
      "           1       1.00      1.00      1.00      7461\n",
      "           2       0.91      0.94      0.93       537\n",
      "           3       0.57      0.47      0.52        17\n",
      "           4       0.99      0.99      0.99      1987\n",
      "\n",
      "    accuracy                           0.99     20793\n",
      "   macro avg       0.89      0.88      0.88     20793\n",
      "weighted avg       0.99      0.99      0.99     20793\n",
      "\n",
      "=========================================\n",
      "              precision    recall  f1-score   support\n",
      "\n",
      "           0       0.99      1.00      0.99     10791\n",
      "           1       1.00      1.00      1.00      7461\n",
      "           2       0.96      0.93      0.94       537\n",
      "           3       1.00      0.29      0.45        17\n",
      "           4       0.99      1.00      0.99      1987\n",
      "\n",
      "    accuracy                           0.99     20793\n",
      "   macro avg       0.99      0.84      0.88     20793\n",
      "weighted avg       0.99      0.99      0.99     20793\n",
      "\n",
      "=========================================\n",
      "              precision    recall  f1-score   support\n",
      "\n",
      "           0       0.99      1.00      0.99     10791\n",
      "           1       1.00      1.00      1.00      7461\n",
      "           2       0.97      0.93      0.95       537\n",
      "           3       0.75      0.35      0.48        17\n",
      "           4       0.99      0.99      0.99      1987\n",
      "\n",
      "    accuracy                           0.99     20793\n",
      "   macro avg       0.94      0.85      0.88     20793\n",
      "weighted avg       0.99      0.99      0.99     20793\n",
      "\n",
      "=========================================\n"
     ]
    }
   ],
   "source": [
    "from sklearn.metrics import classification_report\n",
    "\n",
    "for name, model in lista_classifiers:\n",
    "    model.fit(X_train, y_train)\n",
    "    preds = model.predict(X_test)\n",
    "    print(classification_report(y_test, preds))\n",
    "    print('=========================================')"
   ]
  },
  {
   "cell_type": "code",
   "execution_count": 15,
   "metadata": {},
   "outputs": [
    {
     "data": {
      "text/html": [
       "<style>#sk-container-id-2 {color: black;background-color: white;}#sk-container-id-2 pre{padding: 0;}#sk-container-id-2 div.sk-toggleable {background-color: white;}#sk-container-id-2 label.sk-toggleable__label {cursor: pointer;display: block;width: 100%;margin-bottom: 0;padding: 0.3em;box-sizing: border-box;text-align: center;}#sk-container-id-2 label.sk-toggleable__label-arrow:before {content: \"▸\";float: left;margin-right: 0.25em;color: #696969;}#sk-container-id-2 label.sk-toggleable__label-arrow:hover:before {color: black;}#sk-container-id-2 div.sk-estimator:hover label.sk-toggleable__label-arrow:before {color: black;}#sk-container-id-2 div.sk-toggleable__content {max-height: 0;max-width: 0;overflow: hidden;text-align: left;background-color: #f0f8ff;}#sk-container-id-2 div.sk-toggleable__content pre {margin: 0.2em;color: black;border-radius: 0.25em;background-color: #f0f8ff;}#sk-container-id-2 input.sk-toggleable__control:checked~div.sk-toggleable__content {max-height: 200px;max-width: 100%;overflow: auto;}#sk-container-id-2 input.sk-toggleable__control:checked~label.sk-toggleable__label-arrow:before {content: \"▾\";}#sk-container-id-2 div.sk-estimator input.sk-toggleable__control:checked~label.sk-toggleable__label {background-color: #d4ebff;}#sk-container-id-2 div.sk-label input.sk-toggleable__control:checked~label.sk-toggleable__label {background-color: #d4ebff;}#sk-container-id-2 input.sk-hidden--visually {border: 0;clip: rect(1px 1px 1px 1px);clip: rect(1px, 1px, 1px, 1px);height: 1px;margin: -1px;overflow: hidden;padding: 0;position: absolute;width: 1px;}#sk-container-id-2 div.sk-estimator {font-family: monospace;background-color: #f0f8ff;border: 1px dotted black;border-radius: 0.25em;box-sizing: border-box;margin-bottom: 0.5em;}#sk-container-id-2 div.sk-estimator:hover {background-color: #d4ebff;}#sk-container-id-2 div.sk-parallel-item::after {content: \"\";width: 100%;border-bottom: 1px solid gray;flex-grow: 1;}#sk-container-id-2 div.sk-label:hover label.sk-toggleable__label {background-color: #d4ebff;}#sk-container-id-2 div.sk-serial::before {content: \"\";position: absolute;border-left: 1px solid gray;box-sizing: border-box;top: 0;bottom: 0;left: 50%;z-index: 0;}#sk-container-id-2 div.sk-serial {display: flex;flex-direction: column;align-items: center;background-color: white;padding-right: 0.2em;padding-left: 0.2em;position: relative;}#sk-container-id-2 div.sk-item {position: relative;z-index: 1;}#sk-container-id-2 div.sk-parallel {display: flex;align-items: stretch;justify-content: center;background-color: white;position: relative;}#sk-container-id-2 div.sk-item::before, #sk-container-id-2 div.sk-parallel-item::before {content: \"\";position: absolute;border-left: 1px solid gray;box-sizing: border-box;top: 0;bottom: 0;left: 50%;z-index: -1;}#sk-container-id-2 div.sk-parallel-item {display: flex;flex-direction: column;z-index: 1;position: relative;background-color: white;}#sk-container-id-2 div.sk-parallel-item:first-child::after {align-self: flex-end;width: 50%;}#sk-container-id-2 div.sk-parallel-item:last-child::after {align-self: flex-start;width: 50%;}#sk-container-id-2 div.sk-parallel-item:only-child::after {width: 0;}#sk-container-id-2 div.sk-dashed-wrapped {border: 1px dashed gray;margin: 0 0.4em 0.5em 0.4em;box-sizing: border-box;padding-bottom: 0.4em;background-color: white;}#sk-container-id-2 div.sk-label label {font-family: monospace;font-weight: bold;display: inline-block;line-height: 1.2em;}#sk-container-id-2 div.sk-label-container {text-align: center;}#sk-container-id-2 div.sk-container {/* jupyter's `normalize.less` sets `[hidden] { display: none; }` but bootstrap.min.css set `[hidden] { display: none !important; }` so we also need the `!important` here to be able to override the default hidden behavior on the sphinx rendered scikit-learn.org. See: https://github.com/scikit-learn/scikit-learn/issues/21755 */display: inline-block !important;position: relative;}#sk-container-id-2 div.sk-text-repr-fallback {display: none;}</style><div id=\"sk-container-id-2\" class=\"sk-top-container\"><div class=\"sk-text-repr-fallback\"><pre>VotingClassifier(estimators=[(&#x27;lr&#x27;,\n",
       "                              LogisticRegression(max_iter=1000,\n",
       "                                                 random_state=42)),\n",
       "                             (&#x27;kn&#x27;, KNeighborsClassifier()),\n",
       "                             (&#x27;dt&#x27;, DecisionTreeClassifier(random_state=42)),\n",
       "                             (&#x27;rf&#x27;, RandomForestClassifier(random_state=42))],\n",
       "                 voting=&#x27;soft&#x27;)</pre><b>In a Jupyter environment, please rerun this cell to show the HTML representation or trust the notebook. <br />On GitHub, the HTML representation is unable to render, please try loading this page with nbviewer.org.</b></div><div class=\"sk-container\" hidden><div class=\"sk-item sk-dashed-wrapped\"><div class=\"sk-label-container\"><div class=\"sk-label sk-toggleable\"><input class=\"sk-toggleable__control sk-hidden--visually\" id=\"sk-estimator-id-7\" type=\"checkbox\" ><label for=\"sk-estimator-id-7\" class=\"sk-toggleable__label sk-toggleable__label-arrow\">VotingClassifier</label><div class=\"sk-toggleable__content\"><pre>VotingClassifier(estimators=[(&#x27;lr&#x27;,\n",
       "                              LogisticRegression(max_iter=1000,\n",
       "                                                 random_state=42)),\n",
       "                             (&#x27;kn&#x27;, KNeighborsClassifier()),\n",
       "                             (&#x27;dt&#x27;, DecisionTreeClassifier(random_state=42)),\n",
       "                             (&#x27;rf&#x27;, RandomForestClassifier(random_state=42))],\n",
       "                 voting=&#x27;soft&#x27;)</pre></div></div></div><div class=\"sk-parallel\"><div class=\"sk-parallel-item\"><div class=\"sk-item\"><div class=\"sk-label-container\"><div class=\"sk-label sk-toggleable\"><label>lr</label></div></div><div class=\"sk-serial\"><div class=\"sk-item\"><div class=\"sk-estimator sk-toggleable\"><input class=\"sk-toggleable__control sk-hidden--visually\" id=\"sk-estimator-id-8\" type=\"checkbox\" ><label for=\"sk-estimator-id-8\" class=\"sk-toggleable__label sk-toggleable__label-arrow\">LogisticRegression</label><div class=\"sk-toggleable__content\"><pre>LogisticRegression(max_iter=1000, random_state=42)</pre></div></div></div></div></div></div><div class=\"sk-parallel-item\"><div class=\"sk-item\"><div class=\"sk-label-container\"><div class=\"sk-label sk-toggleable\"><label>kn</label></div></div><div class=\"sk-serial\"><div class=\"sk-item\"><div class=\"sk-estimator sk-toggleable\"><input class=\"sk-toggleable__control sk-hidden--visually\" id=\"sk-estimator-id-9\" type=\"checkbox\" ><label for=\"sk-estimator-id-9\" class=\"sk-toggleable__label sk-toggleable__label-arrow\">KNeighborsClassifier</label><div class=\"sk-toggleable__content\"><pre>KNeighborsClassifier()</pre></div></div></div></div></div></div><div class=\"sk-parallel-item\"><div class=\"sk-item\"><div class=\"sk-label-container\"><div class=\"sk-label sk-toggleable\"><label>dt</label></div></div><div class=\"sk-serial\"><div class=\"sk-item\"><div class=\"sk-estimator sk-toggleable\"><input class=\"sk-toggleable__control sk-hidden--visually\" id=\"sk-estimator-id-10\" type=\"checkbox\" ><label for=\"sk-estimator-id-10\" class=\"sk-toggleable__label sk-toggleable__label-arrow\">DecisionTreeClassifier</label><div class=\"sk-toggleable__content\"><pre>DecisionTreeClassifier(random_state=42)</pre></div></div></div></div></div></div><div class=\"sk-parallel-item\"><div class=\"sk-item\"><div class=\"sk-label-container\"><div class=\"sk-label sk-toggleable\"><label>rf</label></div></div><div class=\"sk-serial\"><div class=\"sk-item\"><div class=\"sk-estimator sk-toggleable\"><input class=\"sk-toggleable__control sk-hidden--visually\" id=\"sk-estimator-id-11\" type=\"checkbox\" ><label for=\"sk-estimator-id-11\" class=\"sk-toggleable__label sk-toggleable__label-arrow\">RandomForestClassifier</label><div class=\"sk-toggleable__content\"><pre>RandomForestClassifier(random_state=42)</pre></div></div></div></div></div></div></div></div></div></div>"
      ],
      "text/plain": [
       "VotingClassifier(estimators=[('lr',\n",
       "                              LogisticRegression(max_iter=1000,\n",
       "                                                 random_state=42)),\n",
       "                             ('kn', KNeighborsClassifier()),\n",
       "                             ('dt', DecisionTreeClassifier(random_state=42)),\n",
       "                             ('rf', RandomForestClassifier(random_state=42))],\n",
       "                 voting='soft')"
      ]
     },
     "execution_count": 15,
     "metadata": {},
     "output_type": "execute_result"
    }
   ],
   "source": [
    "ensemble.best_estimator_"
   ]
  },
  {
   "attachments": {},
   "cell_type": "markdown",
   "metadata": {},
   "source": [
    "### Ensemble"
   ]
  },
  {
   "cell_type": "code",
   "execution_count": 14,
   "metadata": {},
   "outputs": [
    {
     "name": "stdout",
     "output_type": "stream",
     "text": [
      "       SampleID  Class\n",
      "0             0      0\n",
      "1             1      0\n",
      "2             2      0\n",
      "3             3      0\n",
      "4             4      1\n",
      "...         ...    ...\n",
      "44551     44551      0\n",
      "44552     44552      1\n",
      "44553     44553      1\n",
      "44554     44554      0\n",
      "44555     44555      0\n",
      "\n",
      "[44556 rows x 2 columns]\n"
     ]
    }
   ],
   "source": [
    "pred = ensemble.predict(test_students)\n",
    "\n",
    "submission = pd.DataFrame({'SampleID': SampleID, 'Class': pred})\n",
    "print(submission)\n",
    "submission.to_csv('submission_ensemBle.csv', index=False)"
   ]
  }
 ],
 "metadata": {
  "kernelspec": {
   "display_name": "base",
   "language": "python",
   "name": "python3"
  },
  "language_info": {
   "codemirror_mode": {
    "name": "ipython",
    "version": 3
   },
   "file_extension": ".py",
   "mimetype": "text/x-python",
   "name": "python",
   "nbconvert_exporter": "python",
   "pygments_lexer": "ipython3",
   "version": "3.9.12"
  },
  "orig_nbformat": 4
 },
 "nbformat": 4,
 "nbformat_minor": 2
}
