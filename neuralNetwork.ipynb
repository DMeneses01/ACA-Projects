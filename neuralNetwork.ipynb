{
 "cells": [
  {
   "attachments": {},
   "cell_type": "markdown",
   "metadata": {},
   "source": [
    "# Project 1\n",
    "## The Net Wars: Attack of the Bots\n",
    "### Advanced Machine Learning - MECD (2022/2023)\n",
    "\n",
    "### Autores\n",
    "\n",
    "- Duarte Meneses - 2019216949\n",
    "- Patricia Costa - 2019213995"
   ]
  },
  {
   "cell_type": "code",
   "execution_count": 1,
   "metadata": {},
   "outputs": [],
   "source": [
    "import numpy as np\n",
    "import pandas as pd\n",
    "import matplotlib.pyplot as plt\n",
    "import matplotlib\n",
    "import seaborn as sns\n",
    "# Just to make plots look better\n",
    "plt.rcParams[\"figure.figsize\"] = (10,5)\n",
    "plt.rcParams['axes.grid'] = True\n",
    "plt.style.use('fivethirtyeight')\n",
    "plt.rcParams['figure.facecolor'] = 'white'\n",
    "plt.rcParams['axes.facecolor'] = 'white'\n",
    "plt.rcParams['lines.linewidth'] = 3"
   ]
  },
  {
   "attachments": {},
   "cell_type": "markdown",
   "metadata": {},
   "source": [
    "|Class  |Label |\n",
    "| ----- | ---- | \n",
    "|Normal\t|0     |\n",
    "|Dos\t|1     |\n",
    "|R2L\t|2     |\n",
    "|U2R\t|3     |\n",
    "|Probe\t|4     |"
   ]
  },
  {
   "cell_type": "code",
   "execution_count": 2,
   "metadata": {},
   "outputs": [],
   "source": [
    "PATH_TO_DATA = 'dataset/'\n",
    "\n",
    "test_students = pd.read_csv(PATH_TO_DATA + 'test_students.csv')\n",
    "SampleID = test_students['SampleID']\n",
    "\n",
    "train_students = pd.read_csv(PATH_TO_DATA + 'train_students.csv')\n"
   ]
  },
  {
   "cell_type": "code",
   "execution_count": 3,
   "metadata": {},
   "outputs": [],
   "source": [
    "test_students = test_students.drop('SampleID', axis=1)"
   ]
  },
  {
   "attachments": {},
   "cell_type": "markdown",
   "metadata": {},
   "source": [
    "### Check Nulls and DataType"
   ]
  },
  {
   "cell_type": "code",
   "execution_count": 4,
   "metadata": {},
   "outputs": [
    {
     "name": "stdout",
     "output_type": "stream",
     "text": [
      "<class 'pandas.core.frame.DataFrame'>\n",
      "RangeIndex: 44556 entries, 0 to 44555\n",
      "Data columns (total 41 columns):\n",
      " #   Column                       Non-Null Count  Dtype  \n",
      "---  ------                       --------------  -----  \n",
      " 0   duration                     44556 non-null  int64  \n",
      " 1   protocol_type                44556 non-null  object \n",
      " 2   service                      44556 non-null  object \n",
      " 3   flag                         44556 non-null  object \n",
      " 4   src_bytes                    44556 non-null  int64  \n",
      " 5   dst_bytes                    44556 non-null  int64  \n",
      " 6   land                         44556 non-null  int64  \n",
      " 7   wrong_fragment               44556 non-null  int64  \n",
      " 8   urgent                       44556 non-null  int64  \n",
      " 9   hot                          44556 non-null  int64  \n",
      " 10  num_failed_logins            44556 non-null  int64  \n",
      " 11  logged_in                    44556 non-null  int64  \n",
      " 12  num_compromised              44556 non-null  int64  \n",
      " 13  root_shell                   44556 non-null  int64  \n",
      " 14  su_attempted                 44556 non-null  int64  \n",
      " 15  num_root                     44556 non-null  int64  \n",
      " 16  num_file_creations           44556 non-null  int64  \n",
      " 17  num_shells                   44556 non-null  int64  \n",
      " 18  num_access_files             44556 non-null  int64  \n",
      " 19  num_outbound_cmds            44556 non-null  int64  \n",
      " 20  is_host_login                44556 non-null  int64  \n",
      " 21  is_guest_login               44556 non-null  int64  \n",
      " 22  count                        44556 non-null  int64  \n",
      " 23  srv_count                    44556 non-null  int64  \n",
      " 24  serror_rate                  44556 non-null  float64\n",
      " 25  srv_serror_rate              44556 non-null  float64\n",
      " 26  rerror_rate                  44556 non-null  float64\n",
      " 27  srv_rerror_rate              44556 non-null  float64\n",
      " 28  same_srv_rate                44556 non-null  float64\n",
      " 29  diff_srv_rate                44556 non-null  float64\n",
      " 30  srv_diff_host_rate           44556 non-null  float64\n",
      " 31  dst_host_count               44556 non-null  int64  \n",
      " 32  dst_host_srv_count           44556 non-null  int64  \n",
      " 33  dst_host_same_srv_rate       44556 non-null  float64\n",
      " 34  dst_host_diff_srv_rate       44556 non-null  float64\n",
      " 35  dst_host_same_src_port_rate  44556 non-null  float64\n",
      " 36  dst_host_srv_diff_host_rate  44556 non-null  float64\n",
      " 37  dst_host_serror_rate         44556 non-null  float64\n",
      " 38  dst_host_srv_serror_rate     44556 non-null  float64\n",
      " 39  dst_host_rerror_rate         44556 non-null  float64\n",
      " 40  dst_host_srv_rerror_rate     44556 non-null  float64\n",
      "dtypes: float64(15), int64(23), object(3)\n",
      "memory usage: 13.9+ MB\n",
      "None\n",
      "<class 'pandas.core.frame.DataFrame'>\n",
      "RangeIndex: 103961 entries, 0 to 103960\n",
      "Data columns (total 42 columns):\n",
      " #   Column                       Non-Null Count   Dtype  \n",
      "---  ------                       --------------   -----  \n",
      " 0   duration                     103961 non-null  int64  \n",
      " 1   protocol_type                103961 non-null  object \n",
      " 2   service                      103961 non-null  object \n",
      " 3   flag                         103961 non-null  object \n",
      " 4   src_bytes                    103961 non-null  int64  \n",
      " 5   dst_bytes                    103961 non-null  int64  \n",
      " 6   land                         103961 non-null  int64  \n",
      " 7   wrong_fragment               103961 non-null  int64  \n",
      " 8   urgent                       103961 non-null  int64  \n",
      " 9   hot                          103961 non-null  int64  \n",
      " 10  num_failed_logins            103961 non-null  int64  \n",
      " 11  logged_in                    103961 non-null  int64  \n",
      " 12  num_compromised              103961 non-null  int64  \n",
      " 13  root_shell                   103961 non-null  int64  \n",
      " 14  su_attempted                 103961 non-null  int64  \n",
      " 15  num_root                     103961 non-null  int64  \n",
      " 16  num_file_creations           103961 non-null  int64  \n",
      " 17  num_shells                   103961 non-null  int64  \n",
      " 18  num_access_files             103961 non-null  int64  \n",
      " 19  num_outbound_cmds            103961 non-null  int64  \n",
      " 20  is_host_login                103961 non-null  int64  \n",
      " 21  is_guest_login               103961 non-null  int64  \n",
      " 22  count                        103961 non-null  int64  \n",
      " 23  srv_count                    103961 non-null  int64  \n",
      " 24  serror_rate                  103961 non-null  float64\n",
      " 25  srv_serror_rate              103961 non-null  float64\n",
      " 26  rerror_rate                  103961 non-null  float64\n",
      " 27  srv_rerror_rate              103961 non-null  float64\n",
      " 28  same_srv_rate                103961 non-null  float64\n",
      " 29  diff_srv_rate                103961 non-null  float64\n",
      " 30  srv_diff_host_rate           103961 non-null  float64\n",
      " 31  dst_host_count               103961 non-null  int64  \n",
      " 32  dst_host_srv_count           103961 non-null  int64  \n",
      " 33  dst_host_same_srv_rate       103961 non-null  float64\n",
      " 34  dst_host_diff_srv_rate       103961 non-null  float64\n",
      " 35  dst_host_same_src_port_rate  103961 non-null  float64\n",
      " 36  dst_host_srv_diff_host_rate  103961 non-null  float64\n",
      " 37  dst_host_serror_rate         103961 non-null  float64\n",
      " 38  dst_host_srv_serror_rate     103961 non-null  float64\n",
      " 39  dst_host_rerror_rate         103961 non-null  float64\n",
      " 40  dst_host_srv_rerror_rate     103961 non-null  float64\n",
      " 41  attack_type                  103961 non-null  object \n",
      "dtypes: float64(15), int64(23), object(4)\n",
      "memory usage: 33.3+ MB\n",
      "None\n"
     ]
    }
   ],
   "source": [
    "print(test_students.info())\n",
    "print(train_students.info())"
   ]
  },
  {
   "cell_type": "code",
   "execution_count": 5,
   "metadata": {},
   "outputs": [],
   "source": [
    "train_students.replace('normal', 0, inplace=True)\n",
    "train_students.replace('Dos', 1, inplace=True)\n",
    "train_students.replace('R2L', 2, inplace=True)\n",
    "train_students.replace('U2R', 3, inplace=True)\n",
    "train_students.replace('Probe', 4, inplace=True)\n"
   ]
  },
  {
   "cell_type": "code",
   "execution_count": 6,
   "metadata": {},
   "outputs": [
    {
     "data": {
      "text/plain": [
       "0    0.518964\n",
       "1    0.358846\n",
       "4    0.095545\n",
       "2    0.025808\n",
       "3    0.000837\n",
       "Name: attack_type, dtype: float64"
      ]
     },
     "execution_count": 6,
     "metadata": {},
     "output_type": "execute_result"
    }
   ],
   "source": [
    "train_students['attack_type'].value_counts(normalize = True)"
   ]
  },
  {
   "attachments": {},
   "cell_type": "markdown",
   "metadata": {},
   "source": [
    "### Categorical"
   ]
  },
  {
   "cell_type": "code",
   "execution_count": 7,
   "metadata": {},
   "outputs": [],
   "source": [
    "#Service não contêm o mesmo núemero de valores\n",
    "train_students = train_students.drop('service', axis=1)\n",
    "test_students = test_students.drop('service', axis=1)\n",
    "\n",
    "train_students = pd.get_dummies(train_students, columns=['protocol_type'], drop_first=True)\n",
    "#train_students = train_students.drop('service', axis=1)\n",
    "#train_students = pd.get_dummies(train_students, columns=['service'], drop_first=True)\n",
    "train_students= pd.get_dummies(train_students, columns=['flag'], drop_first=True)\n",
    "\n",
    "test_students = pd.get_dummies(test_students, columns=['protocol_type'], drop_first=True)\n",
    "#test_students = test_students.drop('service', axis=1)\n",
    "#test_students = pd.get_dummies(test_students, columns=['service'], drop_first=True)\n",
    "test_students= pd.get_dummies(test_students, columns=['flag'], drop_first=True)\n"
   ]
  },
  {
   "cell_type": "code",
   "execution_count": 8,
   "metadata": {},
   "outputs": [],
   "source": [
    "y = train_students['attack_type']\n",
    "X = train_students.drop(columns=['attack_type'], axis=1)"
   ]
  },
  {
   "cell_type": "code",
   "execution_count": 13,
   "metadata": {},
   "outputs": [
    {
     "name": "stderr",
     "output_type": "stream",
     "text": [
      "c:\\Users\\emanu\\anaconda3\\lib\\site-packages\\sklearn\\utils\\deprecation.py:87: FutureWarning: Function plot_confusion_matrix is deprecated; Function `plot_confusion_matrix` is deprecated in 1.0 and will be removed in 1.2. Use one of the class methods: ConfusionMatrixDisplay.from_predictions or ConfusionMatrixDisplay.from_estimator.\n",
      "  warnings.warn(msg, category=FutureWarning)\n",
      "c:\\Users\\emanu\\anaconda3\\lib\\site-packages\\sklearn\\base.py:450: UserWarning: X does not have valid feature names, but MLPClassifier was fitted with feature names\n",
      "  warnings.warn(\n"
     ]
    },
    {
     "ename": "ValueError",
     "evalue": "Expected 2D array, got 1D array instead:\narray=[1 0 1 ... 1 1 0].\nReshape your data either using array.reshape(-1, 1) if your data has a single feature or array.reshape(1, -1) if it contains a single sample.",
     "output_type": "error",
     "traceback": [
      "\u001b[1;31m---------------------------------------------------------------------------\u001b[0m",
      "\u001b[1;31mValueError\u001b[0m                                Traceback (most recent call last)",
      "\u001b[1;32mc:\\Users\\emanu\\Universidade\\Mestrado\\1_Ano\\2_Semestre\\ACA\\Projeto\\ACA-Project\\neuralNetwork.ipynb Cell 13\u001b[0m in \u001b[0;36m<cell line: 14>\u001b[1;34m()\u001b[0m\n\u001b[0;32m     <a href='vscode-notebook-cell:/c%3A/Users/emanu/Universidade/Mestrado/1_Ano/2_Semestre/ACA/Projeto/ACA-Project/neuralNetwork.ipynb#X15sZmlsZQ%3D%3D?line=10'>11</a>\u001b[0m predict_train \u001b[39m=\u001b[39m mlp\u001b[39m.\u001b[39mpredict(X_train)\n\u001b[0;32m     <a href='vscode-notebook-cell:/c%3A/Users/emanu/Universidade/Mestrado/1_Ano/2_Semestre/ACA/Projeto/ACA-Project/neuralNetwork.ipynb#X15sZmlsZQ%3D%3D?line=11'>12</a>\u001b[0m predict_test \u001b[39m=\u001b[39m mlp\u001b[39m.\u001b[39mpredict(X_test)\n\u001b[1;32m---> <a href='vscode-notebook-cell:/c%3A/Users/emanu/Universidade/Mestrado/1_Ano/2_Semestre/ACA/Projeto/ACA-Project/neuralNetwork.ipynb#X15sZmlsZQ%3D%3D?line=13'>14</a>\u001b[0m \u001b[39mprint\u001b[39m(plot_confusion_matrix(mlp, y_train, predict_train))\n\u001b[0;32m     <a href='vscode-notebook-cell:/c%3A/Users/emanu/Universidade/Mestrado/1_Ano/2_Semestre/ACA/Projeto/ACA-Project/neuralNetwork.ipynb#X15sZmlsZQ%3D%3D?line=15'>16</a>\u001b[0m \u001b[39mprint\u001b[39m(classification_report(y_train, predict_train))\n",
      "File \u001b[1;32mc:\\Users\\emanu\\anaconda3\\lib\\site-packages\\sklearn\\utils\\deprecation.py:88\u001b[0m, in \u001b[0;36mdeprecated._decorate_fun.<locals>.wrapped\u001b[1;34m(*args, **kwargs)\u001b[0m\n\u001b[0;32m     85\u001b[0m \u001b[39m@functools\u001b[39m\u001b[39m.\u001b[39mwraps(fun)\n\u001b[0;32m     86\u001b[0m \u001b[39mdef\u001b[39;00m \u001b[39mwrapped\u001b[39m(\u001b[39m*\u001b[39margs, \u001b[39m*\u001b[39m\u001b[39m*\u001b[39mkwargs):\n\u001b[0;32m     87\u001b[0m     warnings\u001b[39m.\u001b[39mwarn(msg, category\u001b[39m=\u001b[39m\u001b[39mFutureWarning\u001b[39;00m)\n\u001b[1;32m---> 88\u001b[0m     \u001b[39mreturn\u001b[39;00m fun(\u001b[39m*\u001b[39margs, \u001b[39m*\u001b[39m\u001b[39m*\u001b[39mkwargs)\n",
      "File \u001b[1;32mc:\\Users\\emanu\\anaconda3\\lib\\site-packages\\sklearn\\metrics\\_plot\\confusion_matrix.py:565\u001b[0m, in \u001b[0;36mplot_confusion_matrix\u001b[1;34m(estimator, X, y_true, labels, sample_weight, normalize, display_labels, include_values, xticks_rotation, values_format, cmap, ax, colorbar)\u001b[0m\n\u001b[0;32m    562\u001b[0m \u001b[39mif\u001b[39;00m \u001b[39mnot\u001b[39;00m is_classifier(estimator):\n\u001b[0;32m    563\u001b[0m     \u001b[39mraise\u001b[39;00m \u001b[39mValueError\u001b[39;00m(\u001b[39m\"\u001b[39m\u001b[39mplot_confusion_matrix only supports classifiers\u001b[39m\u001b[39m\"\u001b[39m)\n\u001b[1;32m--> 565\u001b[0m y_pred \u001b[39m=\u001b[39m estimator\u001b[39m.\u001b[39;49mpredict(X)\n\u001b[0;32m    566\u001b[0m cm \u001b[39m=\u001b[39m confusion_matrix(\n\u001b[0;32m    567\u001b[0m     y_true, y_pred, sample_weight\u001b[39m=\u001b[39msample_weight, labels\u001b[39m=\u001b[39mlabels, normalize\u001b[39m=\u001b[39mnormalize\n\u001b[0;32m    568\u001b[0m )\n\u001b[0;32m    570\u001b[0m \u001b[39mif\u001b[39;00m display_labels \u001b[39mis\u001b[39;00m \u001b[39mNone\u001b[39;00m:\n",
      "File \u001b[1;32mc:\\Users\\emanu\\anaconda3\\lib\\site-packages\\sklearn\\neural_network\\_multilayer_perceptron.py:1167\u001b[0m, in \u001b[0;36mMLPClassifier.predict\u001b[1;34m(self, X)\u001b[0m\n\u001b[0;32m   1154\u001b[0m \u001b[39m\"\"\"Predict using the multi-layer perceptron classifier.\u001b[39;00m\n\u001b[0;32m   1155\u001b[0m \n\u001b[0;32m   1156\u001b[0m \u001b[39mParameters\u001b[39;00m\n\u001b[1;32m   (...)\u001b[0m\n\u001b[0;32m   1164\u001b[0m \u001b[39m    The predicted classes.\u001b[39;00m\n\u001b[0;32m   1165\u001b[0m \u001b[39m\"\"\"\u001b[39;00m\n\u001b[0;32m   1166\u001b[0m check_is_fitted(\u001b[39mself\u001b[39m)\n\u001b[1;32m-> 1167\u001b[0m y_pred \u001b[39m=\u001b[39m \u001b[39mself\u001b[39;49m\u001b[39m.\u001b[39;49m_forward_pass_fast(X)\n\u001b[0;32m   1169\u001b[0m \u001b[39mif\u001b[39;00m \u001b[39mself\u001b[39m\u001b[39m.\u001b[39mn_outputs_ \u001b[39m==\u001b[39m \u001b[39m1\u001b[39m:\n\u001b[0;32m   1170\u001b[0m     y_pred \u001b[39m=\u001b[39m y_pred\u001b[39m.\u001b[39mravel()\n",
      "File \u001b[1;32mc:\\Users\\emanu\\anaconda3\\lib\\site-packages\\sklearn\\neural_network\\_multilayer_perceptron.py:159\u001b[0m, in \u001b[0;36mBaseMultilayerPerceptron._forward_pass_fast\u001b[1;34m(self, X)\u001b[0m\n\u001b[0;32m    143\u001b[0m \u001b[39mdef\u001b[39;00m \u001b[39m_forward_pass_fast\u001b[39m(\u001b[39mself\u001b[39m, X):\n\u001b[0;32m    144\u001b[0m     \u001b[39m\"\"\"Predict using the trained model\u001b[39;00m\n\u001b[0;32m    145\u001b[0m \n\u001b[0;32m    146\u001b[0m \u001b[39m    This is the same as _forward_pass but does not record the activations\u001b[39;00m\n\u001b[1;32m   (...)\u001b[0m\n\u001b[0;32m    157\u001b[0m \u001b[39m        The decision function of the samples for each class in the model.\u001b[39;00m\n\u001b[0;32m    158\u001b[0m \u001b[39m    \"\"\"\u001b[39;00m\n\u001b[1;32m--> 159\u001b[0m     X \u001b[39m=\u001b[39m \u001b[39mself\u001b[39;49m\u001b[39m.\u001b[39;49m_validate_data(X, accept_sparse\u001b[39m=\u001b[39;49m[\u001b[39m\"\u001b[39;49m\u001b[39mcsr\u001b[39;49m\u001b[39m\"\u001b[39;49m, \u001b[39m\"\u001b[39;49m\u001b[39mcsc\u001b[39;49m\u001b[39m\"\u001b[39;49m], reset\u001b[39m=\u001b[39;49m\u001b[39mFalse\u001b[39;49;00m)\n\u001b[0;32m    161\u001b[0m     \u001b[39m# Initialize first layer\u001b[39;00m\n\u001b[0;32m    162\u001b[0m     activation \u001b[39m=\u001b[39m X\n",
      "File \u001b[1;32mc:\\Users\\emanu\\anaconda3\\lib\\site-packages\\sklearn\\base.py:566\u001b[0m, in \u001b[0;36mBaseEstimator._validate_data\u001b[1;34m(self, X, y, reset, validate_separately, **check_params)\u001b[0m\n\u001b[0;32m    564\u001b[0m     \u001b[39mraise\u001b[39;00m \u001b[39mValueError\u001b[39;00m(\u001b[39m\"\u001b[39m\u001b[39mValidation should be done on X, y or both.\u001b[39m\u001b[39m\"\u001b[39m)\n\u001b[0;32m    565\u001b[0m \u001b[39melif\u001b[39;00m \u001b[39mnot\u001b[39;00m no_val_X \u001b[39mand\u001b[39;00m no_val_y:\n\u001b[1;32m--> 566\u001b[0m     X \u001b[39m=\u001b[39m check_array(X, \u001b[39m*\u001b[39m\u001b[39m*\u001b[39mcheck_params)\n\u001b[0;32m    567\u001b[0m     out \u001b[39m=\u001b[39m X\n\u001b[0;32m    568\u001b[0m \u001b[39melif\u001b[39;00m no_val_X \u001b[39mand\u001b[39;00m \u001b[39mnot\u001b[39;00m no_val_y:\n",
      "File \u001b[1;32mc:\\Users\\emanu\\anaconda3\\lib\\site-packages\\sklearn\\utils\\validation.py:769\u001b[0m, in \u001b[0;36mcheck_array\u001b[1;34m(array, accept_sparse, accept_large_sparse, dtype, order, copy, force_all_finite, ensure_2d, allow_nd, ensure_min_samples, ensure_min_features, estimator)\u001b[0m\n\u001b[0;32m    767\u001b[0m     \u001b[39m# If input is 1D raise error\u001b[39;00m\n\u001b[0;32m    768\u001b[0m     \u001b[39mif\u001b[39;00m array\u001b[39m.\u001b[39mndim \u001b[39m==\u001b[39m \u001b[39m1\u001b[39m:\n\u001b[1;32m--> 769\u001b[0m         \u001b[39mraise\u001b[39;00m \u001b[39mValueError\u001b[39;00m(\n\u001b[0;32m    770\u001b[0m             \u001b[39m\"\u001b[39m\u001b[39mExpected 2D array, got 1D array instead:\u001b[39m\u001b[39m\\n\u001b[39;00m\u001b[39marray=\u001b[39m\u001b[39m{}\u001b[39;00m\u001b[39m.\u001b[39m\u001b[39m\\n\u001b[39;00m\u001b[39m\"\u001b[39m\n\u001b[0;32m    771\u001b[0m             \u001b[39m\"\u001b[39m\u001b[39mReshape your data either using array.reshape(-1, 1) if \u001b[39m\u001b[39m\"\u001b[39m\n\u001b[0;32m    772\u001b[0m             \u001b[39m\"\u001b[39m\u001b[39myour data has a single feature or array.reshape(1, -1) \u001b[39m\u001b[39m\"\u001b[39m\n\u001b[0;32m    773\u001b[0m             \u001b[39m\"\u001b[39m\u001b[39mif it contains a single sample.\u001b[39m\u001b[39m\"\u001b[39m\u001b[39m.\u001b[39mformat(array)\n\u001b[0;32m    774\u001b[0m         )\n\u001b[0;32m    776\u001b[0m \u001b[39m# make sure we actually converted to numeric:\u001b[39;00m\n\u001b[0;32m    777\u001b[0m \u001b[39mif\u001b[39;00m dtype_numeric \u001b[39mand\u001b[39;00m array\u001b[39m.\u001b[39mdtype\u001b[39m.\u001b[39mkind \u001b[39min\u001b[39;00m \u001b[39m\"\u001b[39m\u001b[39mOUSV\u001b[39m\u001b[39m\"\u001b[39m:\n",
      "\u001b[1;31mValueError\u001b[0m: Expected 2D array, got 1D array instead:\narray=[1 0 1 ... 1 1 0].\nReshape your data either using array.reshape(-1, 1) if your data has a single feature or array.reshape(1, -1) if it contains a single sample."
     ]
    }
   ],
   "source": [
    "from sklearn.neural_network import MLPClassifier\n",
    "from sklearn.model_selection import train_test_split\n",
    "from sklearn.metrics import plot_confusion_matrix\n",
    "\n",
    "mlp = MLPClassifier(hidden_layer_sizes=(8,8,8), activation='relu', solver='adam', max_iter=500)\n",
    "\n",
    "X_train, X_test, y_train, y_test = train_test_split(X, y, test_size=0.2, random_state=42, stratify=y)\n",
    "\n",
    "mlp.fit(X_train, y_train)\n",
    "\n",
    "predict_train = mlp.predict(X_train)\n",
    "predict_test = mlp.predict(X_test)\n",
    "\n",
    "print(plot_confusion_matrix(mlp, y_train, predict_train))\n",
    "\n",
    "print(classification_report(y_train, predict_train))"
   ]
  },
  {
   "cell_type": "code",
   "execution_count": null,
   "metadata": {},
   "outputs": [],
   "source": [
    "print(confusion_matrix(y_test,predict_test))\n",
    "print(classification_report(y_test,predict_test))"
   ]
  },
  {
   "cell_type": "code",
   "execution_count": null,
   "metadata": {},
   "outputs": [
    {
     "name": "stdout",
     "output_type": "stream",
     "text": [
      "       SampleID  Class\n",
      "0             0      0\n",
      "1             1      0\n",
      "2             2      0\n",
      "3             3      0\n",
      "4             4      1\n",
      "...         ...    ...\n",
      "44551     44551      0\n",
      "44552     44552      1\n",
      "44553     44553      1\n",
      "44554     44554      0\n",
      "44555     44555      0\n",
      "\n",
      "[44556 rows x 2 columns]\n"
     ]
    }
   ],
   "source": [
    "submission = pd.DataFrame({'SampleID': SampleID, 'Class': y_pred})\n",
    "print(submission)\n",
    "submission.to_csv('submission_neural.csv', index=False)"
   ]
  },
  {
   "attachments": {},
   "cell_type": "markdown",
   "metadata": {},
   "source": [
    "### Todos os modelos"
   ]
  },
  {
   "cell_type": "code",
   "execution_count": null,
   "metadata": {},
   "outputs": [],
   "source": []
  }
 ],
 "metadata": {
  "kernelspec": {
   "display_name": "base",
   "language": "python",
   "name": "python3"
  },
  "language_info": {
   "codemirror_mode": {
    "name": "ipython",
    "version": 3
   },
   "file_extension": ".py",
   "mimetype": "text/x-python",
   "name": "python",
   "nbconvert_exporter": "python",
   "pygments_lexer": "ipython3",
   "version": "3.9.12"
  },
  "orig_nbformat": 4
 },
 "nbformat": 4,
 "nbformat_minor": 2
}
