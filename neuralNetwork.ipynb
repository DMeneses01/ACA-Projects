{
 "cells": [
  {
   "attachments": {},
   "cell_type": "markdown",
   "metadata": {},
   "source": [
    "# Project 1\n",
    "## The Net Wars: Attack of the Bots\n",
    "### Advanced Machine Learning - MECD (2022/2023)\n",
    "\n",
    "### Autores\n",
    "\n",
    "- Duarte Meneses - 2019216949\n",
    "- Patricia Costa - 2019213995"
   ]
  },
  {
   "cell_type": "code",
   "execution_count": 35,
   "metadata": {},
   "outputs": [],
   "source": [
    "import numpy as np\n",
    "import pandas as pd\n",
    "import matplotlib.pyplot as plt\n",
    "import matplotlib\n",
    "import seaborn as sns\n",
    "# Just to make plots look better\n",
    "plt.rcParams[\"figure.figsize\"] = (10,5)\n",
    "plt.rcParams['axes.grid'] = True\n",
    "plt.style.use('fivethirtyeight')\n",
    "plt.rcParams['figure.facecolor'] = 'white'\n",
    "plt.rcParams['axes.facecolor'] = 'white'\n",
    "plt.rcParams['lines.linewidth'] = 3"
   ]
  },
  {
   "attachments": {},
   "cell_type": "markdown",
   "metadata": {},
   "source": [
    "|Class  |Label |\n",
    "| ----- | ---- | \n",
    "|Normal\t|0     |\n",
    "|Dos\t|1     |\n",
    "|R2L\t|2     |\n",
    "|U2R\t|3     |\n",
    "|Probe\t|4     |"
   ]
  },
  {
   "cell_type": "code",
   "execution_count": 36,
   "metadata": {},
   "outputs": [],
   "source": [
    "PATH_TO_DATA = 'dataset/'\n",
    "\n",
    "test_students = pd.read_csv(PATH_TO_DATA + 'test_students.csv')\n",
    "SampleID = test_students['SampleID']\n",
    "\n",
    "train_students = pd.read_csv(PATH_TO_DATA + 'train_students.csv')\n"
   ]
  },
  {
   "cell_type": "code",
   "execution_count": 37,
   "metadata": {},
   "outputs": [],
   "source": [
    "test_students = test_students.drop('SampleID', axis=1)"
   ]
  },
  {
   "attachments": {},
   "cell_type": "markdown",
   "metadata": {},
   "source": [
    "### Check Nulls and DataType"
   ]
  },
  {
   "cell_type": "code",
   "execution_count": 38,
   "metadata": {},
   "outputs": [
    {
     "name": "stdout",
     "output_type": "stream",
     "text": [
      "<class 'pandas.core.frame.DataFrame'>\n",
      "RangeIndex: 44556 entries, 0 to 44555\n",
      "Data columns (total 41 columns):\n",
      " #   Column                       Non-Null Count  Dtype  \n",
      "---  ------                       --------------  -----  \n",
      " 0   duration                     44556 non-null  int64  \n",
      " 1   protocol_type                44556 non-null  object \n",
      " 2   service                      44556 non-null  object \n",
      " 3   flag                         44556 non-null  object \n",
      " 4   src_bytes                    44556 non-null  int64  \n",
      " 5   dst_bytes                    44556 non-null  int64  \n",
      " 6   land                         44556 non-null  int64  \n",
      " 7   wrong_fragment               44556 non-null  int64  \n",
      " 8   urgent                       44556 non-null  int64  \n",
      " 9   hot                          44556 non-null  int64  \n",
      " 10  num_failed_logins            44556 non-null  int64  \n",
      " 11  logged_in                    44556 non-null  int64  \n",
      " 12  num_compromised              44556 non-null  int64  \n",
      " 13  root_shell                   44556 non-null  int64  \n",
      " 14  su_attempted                 44556 non-null  int64  \n",
      " 15  num_root                     44556 non-null  int64  \n",
      " 16  num_file_creations           44556 non-null  int64  \n",
      " 17  num_shells                   44556 non-null  int64  \n",
      " 18  num_access_files             44556 non-null  int64  \n",
      " 19  num_outbound_cmds            44556 non-null  int64  \n",
      " 20  is_host_login                44556 non-null  int64  \n",
      " 21  is_guest_login               44556 non-null  int64  \n",
      " 22  count                        44556 non-null  int64  \n",
      " 23  srv_count                    44556 non-null  int64  \n",
      " 24  serror_rate                  44556 non-null  float64\n",
      " 25  srv_serror_rate              44556 non-null  float64\n",
      " 26  rerror_rate                  44556 non-null  float64\n",
      " 27  srv_rerror_rate              44556 non-null  float64\n",
      " 28  same_srv_rate                44556 non-null  float64\n",
      " 29  diff_srv_rate                44556 non-null  float64\n",
      " 30  srv_diff_host_rate           44556 non-null  float64\n",
      " 31  dst_host_count               44556 non-null  int64  \n",
      " 32  dst_host_srv_count           44556 non-null  int64  \n",
      " 33  dst_host_same_srv_rate       44556 non-null  float64\n",
      " 34  dst_host_diff_srv_rate       44556 non-null  float64\n",
      " 35  dst_host_same_src_port_rate  44556 non-null  float64\n",
      " 36  dst_host_srv_diff_host_rate  44556 non-null  float64\n",
      " 37  dst_host_serror_rate         44556 non-null  float64\n",
      " 38  dst_host_srv_serror_rate     44556 non-null  float64\n",
      " 39  dst_host_rerror_rate         44556 non-null  float64\n",
      " 40  dst_host_srv_rerror_rate     44556 non-null  float64\n",
      "dtypes: float64(15), int64(23), object(3)\n",
      "memory usage: 13.9+ MB\n",
      "None\n",
      "<class 'pandas.core.frame.DataFrame'>\n",
      "RangeIndex: 103961 entries, 0 to 103960\n",
      "Data columns (total 42 columns):\n",
      " #   Column                       Non-Null Count   Dtype  \n",
      "---  ------                       --------------   -----  \n",
      " 0   duration                     103961 non-null  int64  \n",
      " 1   protocol_type                103961 non-null  object \n",
      " 2   service                      103961 non-null  object \n",
      " 3   flag                         103961 non-null  object \n",
      " 4   src_bytes                    103961 non-null  int64  \n",
      " 5   dst_bytes                    103961 non-null  int64  \n",
      " 6   land                         103961 non-null  int64  \n",
      " 7   wrong_fragment               103961 non-null  int64  \n",
      " 8   urgent                       103961 non-null  int64  \n",
      " 9   hot                          103961 non-null  int64  \n",
      " 10  num_failed_logins            103961 non-null  int64  \n",
      " 11  logged_in                    103961 non-null  int64  \n",
      " 12  num_compromised              103961 non-null  int64  \n",
      " 13  root_shell                   103961 non-null  int64  \n",
      " 14  su_attempted                 103961 non-null  int64  \n",
      " 15  num_root                     103961 non-null  int64  \n",
      " 16  num_file_creations           103961 non-null  int64  \n",
      " 17  num_shells                   103961 non-null  int64  \n",
      " 18  num_access_files             103961 non-null  int64  \n",
      " 19  num_outbound_cmds            103961 non-null  int64  \n",
      " 20  is_host_login                103961 non-null  int64  \n",
      " 21  is_guest_login               103961 non-null  int64  \n",
      " 22  count                        103961 non-null  int64  \n",
      " 23  srv_count                    103961 non-null  int64  \n",
      " 24  serror_rate                  103961 non-null  float64\n",
      " 25  srv_serror_rate              103961 non-null  float64\n",
      " 26  rerror_rate                  103961 non-null  float64\n",
      " 27  srv_rerror_rate              103961 non-null  float64\n",
      " 28  same_srv_rate                103961 non-null  float64\n",
      " 29  diff_srv_rate                103961 non-null  float64\n",
      " 30  srv_diff_host_rate           103961 non-null  float64\n",
      " 31  dst_host_count               103961 non-null  int64  \n",
      " 32  dst_host_srv_count           103961 non-null  int64  \n",
      " 33  dst_host_same_srv_rate       103961 non-null  float64\n",
      " 34  dst_host_diff_srv_rate       103961 non-null  float64\n",
      " 35  dst_host_same_src_port_rate  103961 non-null  float64\n",
      " 36  dst_host_srv_diff_host_rate  103961 non-null  float64\n",
      " 37  dst_host_serror_rate         103961 non-null  float64\n",
      " 38  dst_host_srv_serror_rate     103961 non-null  float64\n",
      " 39  dst_host_rerror_rate         103961 non-null  float64\n",
      " 40  dst_host_srv_rerror_rate     103961 non-null  float64\n",
      " 41  attack_type                  103961 non-null  object \n",
      "dtypes: float64(15), int64(23), object(4)\n",
      "memory usage: 33.3+ MB\n",
      "None\n"
     ]
    }
   ],
   "source": [
    "print(test_students.info())\n",
    "print(train_students.info())"
   ]
  },
  {
   "cell_type": "code",
   "execution_count": 39,
   "metadata": {},
   "outputs": [],
   "source": [
    "train_students.replace('normal', 0, inplace=True)\n",
    "train_students.replace('Dos', 1, inplace=True)\n",
    "train_students.replace('R2L', 2, inplace=True)\n",
    "train_students.replace('U2R', 3, inplace=True)\n",
    "train_students.replace('Probe', 4, inplace=True)\n"
   ]
  },
  {
   "cell_type": "code",
   "execution_count": 40,
   "metadata": {},
   "outputs": [
    {
     "data": {
      "text/plain": [
       "0    0.518964\n",
       "1    0.358846\n",
       "4    0.095545\n",
       "2    0.025808\n",
       "3    0.000837\n",
       "Name: attack_type, dtype: float64"
      ]
     },
     "execution_count": 40,
     "metadata": {},
     "output_type": "execute_result"
    }
   ],
   "source": [
    "train_students['attack_type'].value_counts(normalize = True)"
   ]
  },
  {
   "attachments": {},
   "cell_type": "markdown",
   "metadata": {},
   "source": [
    "### Categorical"
   ]
  },
  {
   "cell_type": "code",
   "execution_count": 41,
   "metadata": {},
   "outputs": [],
   "source": [
    "#Service não contêm o mesmo núemero de valores\n",
    "train_students = train_students.drop('service', axis=1)\n",
    "test_students = test_students.drop('service', axis=1)\n",
    "\n",
    "train_students = pd.get_dummies(train_students, columns=['protocol_type'], drop_first=True)\n",
    "#train_students = train_students.drop('service', axis=1)\n",
    "#train_students = pd.get_dummies(train_students, columns=['service'], drop_first=True)\n",
    "train_students= pd.get_dummies(train_students, columns=['flag'], drop_first=True)\n",
    "\n",
    "test_students = pd.get_dummies(test_students, columns=['protocol_type'], drop_first=True)\n",
    "#test_students = test_students.drop('service', axis=1)\n",
    "#test_students = pd.get_dummies(test_students, columns=['service'], drop_first=True)\n",
    "test_students= pd.get_dummies(test_students, columns=['flag'], drop_first=True)\n"
   ]
  },
  {
   "cell_type": "code",
   "execution_count": 42,
   "metadata": {},
   "outputs": [],
   "source": [
    "y = train_students['attack_type']\n",
    "X = train_students.drop(columns=['attack_type'], axis=1)"
   ]
  },
  {
   "cell_type": "code",
   "execution_count": 59,
   "metadata": {},
   "outputs": [
    {
     "name": "stdout",
     "output_type": "stream",
     "text": [
      "[[8013 1131 1059  398  190]\n",
      " [ 355 7078    2    7   19]\n",
      " [  77    1  404   30   25]\n",
      " [   1    0    0   16    0]\n",
      " [  59   76   81    7 1764]]\n",
      "              precision    recall  f1-score   support\n",
      "\n",
      "           0       0.94      0.74      0.83     10791\n",
      "           1       0.85      0.95      0.90      7461\n",
      "           2       0.26      0.75      0.39       537\n",
      "           3       0.03      0.94      0.07        17\n",
      "           4       0.88      0.89      0.89      1987\n",
      "\n",
      "    accuracy                           0.83     20793\n",
      "   macro avg       0.60      0.85      0.61     20793\n",
      "weighted avg       0.89      0.83      0.85     20793\n",
      "\n"
     ]
    }
   ],
   "source": [
    "from sklearn.neural_network import MLPClassifier\n",
    "from sklearn.model_selection import train_test_split\n",
    "from sklearn.metrics import plot_confusion_matrix, confusion_matrix\n",
    "from sklearn.metrics import classification_report\n",
    "from imblearn.over_sampling import SMOTE\n",
    "import warnings\n",
    "warnings.filterwarnings('ignore')\n",
    "\n",
    "#Use SMOTE to oversample the minority class\n",
    "oversample = SMOTE()\n",
    "over_X, over_y = oversample.fit_resample(X, y)\n",
    "over_X_train, over_X_test, over_y_train, over_y_test = train_test_split(over_X, over_y, test_size=0.2, stratify=over_y, random_state=42)\n",
    "\n",
    "mlp = MLPClassifier(max_iter=1000)\n",
    "\n",
    "X_train, X_test, y_train, y_test = train_test_split(X, y, test_size=0.2, random_state=42, stratify=y)\n",
    "\n",
    "mlp.fit(over_X_train, over_y_train)\n",
    "\n",
    "predict_test = mlp.predict(X_test)\n",
    "\n",
    "print(confusion_matrix(y_test, predict_test))\n",
    "\n",
    "print(classification_report(y_test, predict_test))"
   ]
  },
  {
   "cell_type": "code",
   "execution_count": 57,
   "metadata": {},
   "outputs": [],
   "source": [
    "predict_test = mlp.predict(test_students)"
   ]
  },
  {
   "cell_type": "code",
   "execution_count": 58,
   "metadata": {},
   "outputs": [
    {
     "name": "stdout",
     "output_type": "stream",
     "text": [
      "       SampleID  Class\n",
      "0             0      0\n",
      "1             1      0\n",
      "2             2      0\n",
      "3             3      0\n",
      "4             4      1\n",
      "...         ...    ...\n",
      "44551     44551      0\n",
      "44552     44552      1\n",
      "44553     44553      1\n",
      "44554     44554      0\n",
      "44555     44555      0\n",
      "\n",
      "[44556 rows x 2 columns]\n"
     ]
    }
   ],
   "source": [
    "submission = pd.DataFrame({'SampleID': SampleID, 'Class': predict_test})\n",
    "print(submission)\n",
    "submission.to_csv('submission_neural.csv', index=False)"
   ]
  }
 ],
 "metadata": {
  "kernelspec": {
   "display_name": "base",
   "language": "python",
   "name": "python3"
  },
  "language_info": {
   "codemirror_mode": {
    "name": "ipython",
    "version": 3
   },
   "file_extension": ".py",
   "mimetype": "text/x-python",
   "name": "python",
   "nbconvert_exporter": "python",
   "pygments_lexer": "ipython3",
   "version": "3.9.12"
  },
  "orig_nbformat": 4
 },
 "nbformat": 4,
 "nbformat_minor": 2
}
